{
 "cells": [
  {
   "cell_type": "code",
   "execution_count": 60,
   "metadata": {},
   "outputs": [
    {
     "name": "stdout",
     "output_type": "stream",
     "text": [
      "<class 'pandas.core.frame.DataFrame'>\n",
      "RangeIndex: 1048575 entries, 0 to 1048574\n",
      "Data columns (total 8 columns):\n",
      " #   Column      Non-Null Count    Dtype  \n",
      "---  ------      --------------    -----  \n",
      " 0   trans_id    1048575 non-null  int64  \n",
      " 1   account_id  1048575 non-null  int64  \n",
      " 2   date        1048575 non-null  int64  \n",
      " 3   type        1048575 non-null  object \n",
      " 4   operation   871046 non-null   object \n",
      " 5   amount      1048575 non-null  float64\n",
      " 6   balance     1048575 non-null  float64\n",
      " 7   k_symbol    569929 non-null   object \n",
      "dtypes: float64(2), int64(3), object(3)\n",
      "memory usage: 64.0+ MB\n"
     ]
    },
    {
     "data": {
      "text/html": [
       "<div>\n",
       "<style scoped>\n",
       "    .dataframe tbody tr th:only-of-type {\n",
       "        vertical-align: middle;\n",
       "    }\n",
       "\n",
       "    .dataframe tbody tr th {\n",
       "        vertical-align: top;\n",
       "    }\n",
       "\n",
       "    .dataframe thead th {\n",
       "        text-align: right;\n",
       "    }\n",
       "</style>\n",
       "<table border=\"1\" class=\"dataframe\">\n",
       "  <thead>\n",
       "    <tr style=\"text-align: right;\">\n",
       "      <th></th>\n",
       "      <th>trans_id</th>\n",
       "      <th>account_id</th>\n",
       "      <th>date</th>\n",
       "      <th>type</th>\n",
       "      <th>operation</th>\n",
       "      <th>amount</th>\n",
       "      <th>balance</th>\n",
       "      <th>k_symbol</th>\n",
       "    </tr>\n",
       "  </thead>\n",
       "  <tbody>\n",
       "    <tr>\n",
       "      <th>0</th>\n",
       "      <td>695247</td>\n",
       "      <td>2378</td>\n",
       "      <td>930101</td>\n",
       "      <td>PRIJEM</td>\n",
       "      <td>VKLAD</td>\n",
       "      <td>700.0</td>\n",
       "      <td>700.0</td>\n",
       "      <td>NaN</td>\n",
       "    </tr>\n",
       "    <tr>\n",
       "      <th>1</th>\n",
       "      <td>171812</td>\n",
       "      <td>576</td>\n",
       "      <td>930101</td>\n",
       "      <td>PRIJEM</td>\n",
       "      <td>VKLAD</td>\n",
       "      <td>900.0</td>\n",
       "      <td>900.0</td>\n",
       "      <td>NaN</td>\n",
       "    </tr>\n",
       "    <tr>\n",
       "      <th>2</th>\n",
       "      <td>207264</td>\n",
       "      <td>704</td>\n",
       "      <td>930101</td>\n",
       "      <td>PRIJEM</td>\n",
       "      <td>VKLAD</td>\n",
       "      <td>1000.0</td>\n",
       "      <td>1000.0</td>\n",
       "      <td>NaN</td>\n",
       "    </tr>\n",
       "    <tr>\n",
       "      <th>3</th>\n",
       "      <td>1117247</td>\n",
       "      <td>3818</td>\n",
       "      <td>930101</td>\n",
       "      <td>PRIJEM</td>\n",
       "      <td>VKLAD</td>\n",
       "      <td>600.0</td>\n",
       "      <td>600.0</td>\n",
       "      <td>NaN</td>\n",
       "    </tr>\n",
       "    <tr>\n",
       "      <th>4</th>\n",
       "      <td>579373</td>\n",
       "      <td>1972</td>\n",
       "      <td>930102</td>\n",
       "      <td>PRIJEM</td>\n",
       "      <td>VKLAD</td>\n",
       "      <td>400.0</td>\n",
       "      <td>400.0</td>\n",
       "      <td>NaN</td>\n",
       "    </tr>\n",
       "  </tbody>\n",
       "</table>\n",
       "</div>"
      ],
      "text/plain": [
       "   trans_id  account_id    date    type operation  amount  balance k_symbol\n",
       "0    695247        2378  930101  PRIJEM     VKLAD   700.0    700.0      NaN\n",
       "1    171812         576  930101  PRIJEM     VKLAD   900.0    900.0      NaN\n",
       "2    207264         704  930101  PRIJEM     VKLAD  1000.0   1000.0      NaN\n",
       "3   1117247        3818  930101  PRIJEM     VKLAD   600.0    600.0      NaN\n",
       "4    579373        1972  930102  PRIJEM     VKLAD   400.0    400.0      NaN"
      ]
     },
     "execution_count": 60,
     "metadata": {},
     "output_type": "execute_result"
    }
   ],
   "source": [
    "import pandas as pd\n",
    "df = pd.read_csv(\"/Users/Taiyaba Surface/Desktop/trans1.csv\")\n",
    "df.info()\n",
    "df.head()"
   ]
  },
  {
   "cell_type": "code",
   "execution_count": 61,
   "metadata": {},
   "outputs": [
    {
     "name": "stdout",
     "output_type": "stream",
     "text": [
      "[2378  576  704 ...  777 3276 1573]\n",
      "[930101 930102 930103 ... 981217 981218 981219]\n",
      "['PRIJEM' 'VYDAJ' 'VYBER']\n",
      "['VKLAD' 'PREVOD Z UCTU' 'VYBER' 'Unspecifed-Operation' 'PREVOD NA UCET'\n",
      " 'unspecified' 'VYBER KARTOU']\n",
      "['unspecified' 'DUCHOD' 'UROK' 'SIPO' 'SLUZBY' ' ' 'POJISTNE'\n",
      " 'SANKC. UROK' 'UVER']\n"
     ]
    },
    {
     "data": {
      "text/html": [
       "<div>\n",
       "<style scoped>\n",
       "    .dataframe tbody tr th:only-of-type {\n",
       "        vertical-align: middle;\n",
       "    }\n",
       "\n",
       "    .dataframe tbody tr th {\n",
       "        vertical-align: top;\n",
       "    }\n",
       "\n",
       "    .dataframe thead th {\n",
       "        text-align: right;\n",
       "    }\n",
       "</style>\n",
       "<table border=\"1\" class=\"dataframe\">\n",
       "  <thead>\n",
       "    <tr style=\"text-align: right;\">\n",
       "      <th></th>\n",
       "      <th>trans_id</th>\n",
       "      <th>account_id</th>\n",
       "      <th>date</th>\n",
       "      <th>type</th>\n",
       "      <th>operation</th>\n",
       "      <th>amount</th>\n",
       "      <th>balance</th>\n",
       "      <th>k_symbol</th>\n",
       "    </tr>\n",
       "  </thead>\n",
       "  <tbody>\n",
       "    <tr>\n",
       "      <th>0</th>\n",
       "      <td>695247</td>\n",
       "      <td>2378</td>\n",
       "      <td>930101</td>\n",
       "      <td>PRIJEM</td>\n",
       "      <td>VKLAD</td>\n",
       "      <td>700.0</td>\n",
       "      <td>700.0</td>\n",
       "      <td>unspecified</td>\n",
       "    </tr>\n",
       "    <tr>\n",
       "      <th>1</th>\n",
       "      <td>171812</td>\n",
       "      <td>576</td>\n",
       "      <td>930101</td>\n",
       "      <td>PRIJEM</td>\n",
       "      <td>VKLAD</td>\n",
       "      <td>900.0</td>\n",
       "      <td>900.0</td>\n",
       "      <td>unspecified</td>\n",
       "    </tr>\n",
       "    <tr>\n",
       "      <th>2</th>\n",
       "      <td>207264</td>\n",
       "      <td>704</td>\n",
       "      <td>930101</td>\n",
       "      <td>PRIJEM</td>\n",
       "      <td>VKLAD</td>\n",
       "      <td>1000.0</td>\n",
       "      <td>1000.0</td>\n",
       "      <td>unspecified</td>\n",
       "    </tr>\n",
       "    <tr>\n",
       "      <th>3</th>\n",
       "      <td>1117247</td>\n",
       "      <td>3818</td>\n",
       "      <td>930101</td>\n",
       "      <td>PRIJEM</td>\n",
       "      <td>VKLAD</td>\n",
       "      <td>600.0</td>\n",
       "      <td>600.0</td>\n",
       "      <td>unspecified</td>\n",
       "    </tr>\n",
       "    <tr>\n",
       "      <th>4</th>\n",
       "      <td>579373</td>\n",
       "      <td>1972</td>\n",
       "      <td>930102</td>\n",
       "      <td>PRIJEM</td>\n",
       "      <td>VKLAD</td>\n",
       "      <td>400.0</td>\n",
       "      <td>400.0</td>\n",
       "      <td>unspecified</td>\n",
       "    </tr>\n",
       "    <tr>\n",
       "      <th>...</th>\n",
       "      <td>...</td>\n",
       "      <td>...</td>\n",
       "      <td>...</td>\n",
       "      <td>...</td>\n",
       "      <td>...</td>\n",
       "      <td>...</td>\n",
       "      <td>...</td>\n",
       "      <td>...</td>\n",
       "    </tr>\n",
       "    <tr>\n",
       "      <th>1048570</th>\n",
       "      <td>1106561</td>\n",
       "      <td>3779</td>\n",
       "      <td>981219</td>\n",
       "      <td>VYDAJ</td>\n",
       "      <td>VYBER</td>\n",
       "      <td>12200.0</td>\n",
       "      <td>59783.7</td>\n",
       "      <td>unspecified</td>\n",
       "    </tr>\n",
       "    <tr>\n",
       "      <th>1048571</th>\n",
       "      <td>1109169</td>\n",
       "      <td>3787</td>\n",
       "      <td>981219</td>\n",
       "      <td>VYDAJ</td>\n",
       "      <td>VYBER</td>\n",
       "      <td>2600.0</td>\n",
       "      <td>81497.4</td>\n",
       "      <td>unspecified</td>\n",
       "    </tr>\n",
       "    <tr>\n",
       "      <th>1048572</th>\n",
       "      <td>1109971</td>\n",
       "      <td>3789</td>\n",
       "      <td>981219</td>\n",
       "      <td>VYBER</td>\n",
       "      <td>VYBER</td>\n",
       "      <td>4900.0</td>\n",
       "      <td>44784.0</td>\n",
       "      <td>unspecified</td>\n",
       "    </tr>\n",
       "    <tr>\n",
       "      <th>1048573</th>\n",
       "      <td>1110516</td>\n",
       "      <td>3791</td>\n",
       "      <td>981219</td>\n",
       "      <td>VYDAJ</td>\n",
       "      <td>VYBER</td>\n",
       "      <td>23500.0</td>\n",
       "      <td>60146.1</td>\n",
       "      <td>unspecified</td>\n",
       "    </tr>\n",
       "    <tr>\n",
       "      <th>1048574</th>\n",
       "      <td>1110008</td>\n",
       "      <td>3789</td>\n",
       "      <td>981219</td>\n",
       "      <td>VYDAJ</td>\n",
       "      <td>VYBER</td>\n",
       "      <td>11100.0</td>\n",
       "      <td>33684.0</td>\n",
       "      <td>unspecified</td>\n",
       "    </tr>\n",
       "  </tbody>\n",
       "</table>\n",
       "<p>1048575 rows × 8 columns</p>\n",
       "</div>"
      ],
      "text/plain": [
       "         trans_id  account_id    date    type operation   amount  balance  \\\n",
       "0          695247        2378  930101  PRIJEM     VKLAD    700.0    700.0   \n",
       "1          171812         576  930101  PRIJEM     VKLAD    900.0    900.0   \n",
       "2          207264         704  930101  PRIJEM     VKLAD   1000.0   1000.0   \n",
       "3         1117247        3818  930101  PRIJEM     VKLAD    600.0    600.0   \n",
       "4          579373        1972  930102  PRIJEM     VKLAD    400.0    400.0   \n",
       "...           ...         ...     ...     ...       ...      ...      ...   \n",
       "1048570   1106561        3779  981219   VYDAJ     VYBER  12200.0  59783.7   \n",
       "1048571   1109169        3787  981219   VYDAJ     VYBER   2600.0  81497.4   \n",
       "1048572   1109971        3789  981219   VYBER     VYBER   4900.0  44784.0   \n",
       "1048573   1110516        3791  981219   VYDAJ     VYBER  23500.0  60146.1   \n",
       "1048574   1110008        3789  981219   VYDAJ     VYBER  11100.0  33684.0   \n",
       "\n",
       "            k_symbol  \n",
       "0        unspecified  \n",
       "1        unspecified  \n",
       "2        unspecified  \n",
       "3        unspecified  \n",
       "4        unspecified  \n",
       "...              ...  \n",
       "1048570  unspecified  \n",
       "1048571  unspecified  \n",
       "1048572  unspecified  \n",
       "1048573  unspecified  \n",
       "1048574  unspecified  \n",
       "\n",
       "[1048575 rows x 8 columns]"
      ]
     },
     "execution_count": 61,
     "metadata": {},
     "output_type": "execute_result"
    }
   ],
   "source": [
    "# Filling the missing values\n",
    "\n",
    "df = df.fillna(value='unspecified')\n",
    "\n",
    "# print unique values of different variables \n",
    "[print(df[item].unique()) for item in df if not (item=='trans_id' or item=='balance' or item == 'amount')] \n",
    "\n",
    "# print unique, found that some elements of 'k_symbol' is \"space\", so replace the 'space' with 'unspecified'\n",
    "df = df.replace(' ', 'unspecified')\n",
    "df"
   ]
  },
  {
   "cell_type": "code",
   "execution_count": 3,
   "metadata": {},
   "outputs": [
    {
     "name": "stdout",
     "output_type": "stream",
     "text": [
      "<class 'pandas.core.frame.DataFrame'>\n",
      "RangeIndex: 1048575 entries, 0 to 1048574\n",
      "Data columns (total 3 columns):\n",
      " #   Column     Non-Null Count    Dtype \n",
      "---  ------     --------------    ----- \n",
      " 0   type       1048575 non-null  object\n",
      " 1   operation  1048575 non-null  object\n",
      " 2   k_symbol   1048575 non-null  object\n",
      "dtypes: object(3)\n",
      "memory usage: 24.0+ MB\n"
     ]
    },
    {
     "data": {
      "text/html": [
       "<div>\n",
       "<style scoped>\n",
       "    .dataframe tbody tr th:only-of-type {\n",
       "        vertical-align: middle;\n",
       "    }\n",
       "\n",
       "    .dataframe tbody tr th {\n",
       "        vertical-align: top;\n",
       "    }\n",
       "\n",
       "    .dataframe thead th {\n",
       "        text-align: right;\n",
       "    }\n",
       "</style>\n",
       "<table border=\"1\" class=\"dataframe\">\n",
       "  <thead>\n",
       "    <tr style=\"text-align: right;\">\n",
       "      <th></th>\n",
       "      <th>type</th>\n",
       "      <th>operation</th>\n",
       "      <th>k_symbol</th>\n",
       "    </tr>\n",
       "  </thead>\n",
       "  <tbody>\n",
       "    <tr>\n",
       "      <th>0</th>\n",
       "      <td>PRIJEM</td>\n",
       "      <td>VKLAD</td>\n",
       "      <td>unspecified</td>\n",
       "    </tr>\n",
       "    <tr>\n",
       "      <th>1</th>\n",
       "      <td>PRIJEM</td>\n",
       "      <td>VKLAD</td>\n",
       "      <td>unspecified</td>\n",
       "    </tr>\n",
       "    <tr>\n",
       "      <th>2</th>\n",
       "      <td>PRIJEM</td>\n",
       "      <td>VKLAD</td>\n",
       "      <td>unspecified</td>\n",
       "    </tr>\n",
       "    <tr>\n",
       "      <th>3</th>\n",
       "      <td>PRIJEM</td>\n",
       "      <td>VKLAD</td>\n",
       "      <td>unspecified</td>\n",
       "    </tr>\n",
       "    <tr>\n",
       "      <th>4</th>\n",
       "      <td>PRIJEM</td>\n",
       "      <td>VKLAD</td>\n",
       "      <td>unspecified</td>\n",
       "    </tr>\n",
       "  </tbody>\n",
       "</table>\n",
       "</div>"
      ],
      "text/plain": [
       "     type operation     k_symbol\n",
       "0  PRIJEM     VKLAD  unspecified\n",
       "1  PRIJEM     VKLAD  unspecified\n",
       "2  PRIJEM     VKLAD  unspecified\n",
       "3  PRIJEM     VKLAD  unspecified\n",
       "4  PRIJEM     VKLAD  unspecified"
      ]
     },
     "execution_count": 3,
     "metadata": {},
     "output_type": "execute_result"
    }
   ],
   "source": [
    "# Remove numeric columns, for simplicity and to compute Categorical intially\n",
    "df.drop(['trans_id','account_id','date','balance','amount'],axis=1,inplace=True) \n",
    "df.info()\n",
    "df.head()"
   ]
  },
  {
   "cell_type": "code",
   "execution_count": 4,
   "metadata": {},
   "outputs": [
    {
     "data": {
      "text/plain": [
       "(10000, 3)"
      ]
     },
     "execution_count": 4,
     "metadata": {},
     "output_type": "execute_result"
    }
   ],
   "source": [
    "#To compute faster\n",
    "prepared=df.sample(n=10000, replace=False, random_state=1)  \n",
    "prepared.shape"
   ]
  },
  {
   "cell_type": "code",
   "execution_count": 5,
   "metadata": {},
   "outputs": [
    {
     "name": "stdout",
     "output_type": "stream",
     "text": [
      "[array(['PRIJEM', 'VYBER', 'VYDAJ'], dtype=object), array(['PREVOD NA UCET', 'PREVOD Z UCTU', 'Unspecifed-Operation', 'VKLAD',\n",
      "       'VYBER', 'VYBER KARTOU', 'unspecified'], dtype=object), array(['DUCHOD', 'POJISTNE', 'SANKC. UROK', 'SIPO', 'SLUZBY', 'UROK',\n",
      "       'UVER', 'unspecified'], dtype=object)]\n"
     ]
    }
   ],
   "source": [
    "from sklearn.preprocessing import OneHotEncoder\n",
    "\n",
    "OHE = OneHotEncoder(categories='auto')\n",
    "OHE.fit(df)\n",
    "print(OHE.categories_)\n",
    "prepared=OHE.transform(prepared).toarray()"
   ]
  },
  {
   "cell_type": "code",
   "execution_count": 6,
   "metadata": {},
   "outputs": [
    {
     "name": "stdout",
     "output_type": "stream",
     "text": [
      "10000 18\n"
     ]
    }
   ],
   "source": [
    "RowsNumber,InputSize = prepared.shape\n",
    "print(RowsNumber,InputSize)"
   ]
  },
  {
   "cell_type": "code",
   "execution_count": 7,
   "metadata": {},
   "outputs": [],
   "source": [
    "import numpy as np\n",
    "\n",
    "# TensorFlow ≥2.0 is required\n",
    "import tensorflow as tf\n",
    "from tensorflow import keras\n",
    "assert tf.__version__ >= \"2.0\"\n",
    "\n",
    "np.random.seed(42)\n",
    "tf.random.set_seed(42)"
   ]
  },
  {
   "cell_type": "code",
   "execution_count": 8,
   "metadata": {},
   "outputs": [],
   "source": [
    "X_train = prepared.astype(np.float32) # TensorFlow expects float32"
   ]
  },
  {
   "cell_type": "code",
   "execution_count": 9,
   "metadata": {},
   "outputs": [],
   "source": [
    "codings_size = 8  # For InputSize=12\n",
    "\n",
    "generator = keras.models.Sequential([\n",
    "    keras.layers.Dense(30, activation=\"selu\", input_shape=[codings_size]),\n",
    "    keras.layers.Dense(20, activation=\"selu\"),\n",
    "    keras.layers.Dense(InputSize, activation=\"sigmoid\"),\n",
    "    keras.layers.Reshape([InputSize])\n",
    "])\n",
    "discriminator = keras.models.Sequential([\n",
    "    keras.layers.Flatten(input_shape=[InputSize]),\n",
    "    keras.layers.Dense(20, activation=\"selu\"),\n",
    "    keras.layers.Dense(30, activation=\"selu\"),\n",
    "    keras.layers.Dense(1, activation=\"sigmoid\")\n",
    "])\n",
    "gan = keras.models.Sequential([generator, discriminator])"
   ]
  },
  {
   "cell_type": "code",
   "execution_count": 10,
   "metadata": {},
   "outputs": [],
   "source": [
    "discriminator.compile(loss=\"binary_crossentropy\", optimizer=\"rmsprop\")\n",
    "discriminator.trainable = False\n",
    "gan.compile(loss=\"binary_crossentropy\", optimizer=\"rmsprop\")"
   ]
  },
  {
   "cell_type": "code",
   "execution_count": 11,
   "metadata": {},
   "outputs": [],
   "source": [
    "batch_size = 20  # For MNIST 60,000 inputs, batch_size was 32\n",
    "\n",
    "dataset = tf.data.Dataset.from_tensor_slices(X_train).shuffle(1000)\n",
    "dataset = dataset.batch(batch_size, drop_remainder=True).prefetch(1)"
   ]
  },
  {
   "cell_type": "code",
   "execution_count": 12,
   "metadata": {},
   "outputs": [],
   "source": [
    "def train_gan(gan, dataset, batch_size, codings_size, n_epochs=50):\n",
    "    generator, discriminator = gan.layers\n",
    "    for epoch in range(n_epochs):\n",
    "        print(\"Epoch {}/{}\".format(epoch + 1, n_epochs))              # not shown in the book\n",
    "        for X_batch in dataset:\n",
    "            # phase 1 - training the discriminator\n",
    "            noise = tf.random.normal(shape=[batch_size, codings_size])\n",
    "            generated_images = generator(noise)\n",
    "            X_fake_and_real = tf.concat([generated_images, X_batch], axis=0)\n",
    "            y1 = tf.constant([[0.]] * batch_size + [[1.]] * batch_size)\n",
    "            discriminator.trainable = True\n",
    "            discriminator.train_on_batch(X_fake_and_real, y1)\n",
    "            # phase 2 - training the generator\n",
    "            noise = tf.random.normal(shape=[batch_size, codings_size])\n",
    "            y2 = tf.constant([[1.]] * batch_size)\n",
    "            discriminator.trainable = False\n",
    "            gan.train_on_batch(noise, y2)\n",
    "        #plot_multiple_images(generated_images, 8)                     # not shown\n",
    "        #plt.show()  "
   ]
  },
  {
   "cell_type": "code",
   "execution_count": 13,
   "metadata": {},
   "outputs": [
    {
     "name": "stdout",
     "output_type": "stream",
     "text": [
      "Epoch 1/1\n",
      "TIME  7.0\n"
     ]
    }
   ],
   "source": [
    "import time\n",
    "\n",
    "start = time.time()\n",
    "train_gan (gan, dataset, batch_size, codings_size, n_epochs=1)\n",
    "print('TIME ',round(time.time() - start,0))"
   ]
  },
  {
   "cell_type": "code",
   "execution_count": 14,
   "metadata": {},
   "outputs": [],
   "source": [
    "tf.random.set_seed(42)\n",
    "np.random.seed(42)\n",
    "\n",
    "noise = tf.random.normal(shape=[50000*batch_size, codings_size])\n",
    "generated_ = generator(noise)"
   ]
  },
  {
   "cell_type": "code",
   "execution_count": 15,
   "metadata": {},
   "outputs": [
    {
     "data": {
      "text/plain": [
       "<tf.Tensor: shape=(2, 18), dtype=float32, numpy=\n",
       "array([[2.75976444e-03, 1.99336835e-04, 9.69338655e-01, 8.72382641e-01,\n",
       "        1.92580111e-02, 2.71673457e-06, 1.79846436e-02, 1.87628716e-01,\n",
       "        1.47637838e-05, 8.95985228e-04, 4.27033240e-03, 1.20448596e-04,\n",
       "        4.15632621e-06, 7.03084022e-02, 1.94654882e-01, 2.37267721e-03,\n",
       "        7.91705024e-05, 8.50648463e-01],\n",
       "       [4.35017794e-01, 5.16969594e-05, 9.54331279e-01, 1.13218706e-02,\n",
       "        8.54421314e-03, 5.15844533e-07, 3.76135902e-03, 9.79575217e-01,\n",
       "        2.61246873e-06, 2.53898348e-03, 5.30983740e-03, 1.33604690e-05,\n",
       "        6.85943107e-08, 3.84895422e-04, 2.09065387e-04, 3.94319184e-02,\n",
       "        1.81708867e-06, 9.98625398e-01]], dtype=float32)>"
      ]
     },
     "execution_count": 15,
     "metadata": {},
     "output_type": "execute_result"
    }
   ],
   "source": [
    "generated_[1:3]"
   ]
  },
  {
   "cell_type": "code",
   "execution_count": 16,
   "metadata": {},
   "outputs": [
    {
     "name": "stdout",
     "output_type": "stream",
     "text": [
      "<class 'numpy.ndarray'>\n"
     ]
    }
   ],
   "source": [
    "print(type(np.array(generated_)))"
   ]
  },
  {
   "cell_type": "code",
   "execution_count": 17,
   "metadata": {},
   "outputs": [
    {
     "data": {
      "text/plain": [
       "numpy.ndarray"
      ]
     },
     "execution_count": 17,
     "metadata": {},
     "output_type": "execute_result"
    }
   ],
   "source": [
    "x = (np.array(generated_))\n",
    "\n",
    "type(x)"
   ]
  },
  {
   "cell_type": "code",
   "execution_count": 18,
   "metadata": {},
   "outputs": [
    {
     "data": {
      "text/plain": [
       "pandas.core.frame.DataFrame"
      ]
     },
     "execution_count": 18,
     "metadata": {},
     "output_type": "execute_result"
    }
   ],
   "source": [
    "gen_df = pd.DataFrame(x)\n",
    "\n",
    "type(gen_df)"
   ]
  },
  {
   "cell_type": "code",
   "execution_count": 19,
   "metadata": {},
   "outputs": [
    {
     "data": {
      "text/html": [
       "<div>\n",
       "<style scoped>\n",
       "    .dataframe tbody tr th:only-of-type {\n",
       "        vertical-align: middle;\n",
       "    }\n",
       "\n",
       "    .dataframe tbody tr th {\n",
       "        vertical-align: top;\n",
       "    }\n",
       "\n",
       "    .dataframe thead th {\n",
       "        text-align: right;\n",
       "    }\n",
       "</style>\n",
       "<table border=\"1\" class=\"dataframe\">\n",
       "  <thead>\n",
       "    <tr style=\"text-align: right;\">\n",
       "      <th></th>\n",
       "      <th>0</th>\n",
       "      <th>1</th>\n",
       "      <th>2</th>\n",
       "      <th>3</th>\n",
       "      <th>4</th>\n",
       "      <th>5</th>\n",
       "      <th>6</th>\n",
       "      <th>7</th>\n",
       "      <th>8</th>\n",
       "      <th>9</th>\n",
       "      <th>10</th>\n",
       "      <th>11</th>\n",
       "      <th>12</th>\n",
       "      <th>13</th>\n",
       "      <th>14</th>\n",
       "      <th>15</th>\n",
       "      <th>16</th>\n",
       "      <th>17</th>\n",
       "    </tr>\n",
       "  </thead>\n",
       "  <tbody>\n",
       "    <tr>\n",
       "      <th>1</th>\n",
       "      <td>0.002760</td>\n",
       "      <td>0.000199</td>\n",
       "      <td>0.969339</td>\n",
       "      <td>0.872383</td>\n",
       "      <td>0.019258</td>\n",
       "      <td>2.716735e-06</td>\n",
       "      <td>0.017985</td>\n",
       "      <td>0.187629</td>\n",
       "      <td>0.000015</td>\n",
       "      <td>0.000896</td>\n",
       "      <td>0.004270</td>\n",
       "      <td>0.000120</td>\n",
       "      <td>4.156326e-06</td>\n",
       "      <td>0.070308</td>\n",
       "      <td>0.194655</td>\n",
       "      <td>0.002373</td>\n",
       "      <td>0.000079</td>\n",
       "      <td>0.850648</td>\n",
       "    </tr>\n",
       "    <tr>\n",
       "      <th>2</th>\n",
       "      <td>0.435018</td>\n",
       "      <td>0.000052</td>\n",
       "      <td>0.954331</td>\n",
       "      <td>0.011322</td>\n",
       "      <td>0.008544</td>\n",
       "      <td>5.158445e-07</td>\n",
       "      <td>0.003761</td>\n",
       "      <td>0.979575</td>\n",
       "      <td>0.000003</td>\n",
       "      <td>0.002539</td>\n",
       "      <td>0.005310</td>\n",
       "      <td>0.000013</td>\n",
       "      <td>6.859431e-08</td>\n",
       "      <td>0.000385</td>\n",
       "      <td>0.000209</td>\n",
       "      <td>0.039432</td>\n",
       "      <td>0.000002</td>\n",
       "      <td>0.998625</td>\n",
       "    </tr>\n",
       "    <tr>\n",
       "      <th>3</th>\n",
       "      <td>0.195516</td>\n",
       "      <td>0.000065</td>\n",
       "      <td>0.948649</td>\n",
       "      <td>0.175937</td>\n",
       "      <td>0.012674</td>\n",
       "      <td>1.701784e-06</td>\n",
       "      <td>0.020698</td>\n",
       "      <td>0.755822</td>\n",
       "      <td>0.000005</td>\n",
       "      <td>0.003017</td>\n",
       "      <td>0.010151</td>\n",
       "      <td>0.000053</td>\n",
       "      <td>1.009823e-06</td>\n",
       "      <td>0.001754</td>\n",
       "      <td>0.005227</td>\n",
       "      <td>0.018814</td>\n",
       "      <td>0.000008</td>\n",
       "      <td>0.989622</td>\n",
       "    </tr>\n",
       "    <tr>\n",
       "      <th>4</th>\n",
       "      <td>0.140496</td>\n",
       "      <td>0.000034</td>\n",
       "      <td>0.954600</td>\n",
       "      <td>0.023363</td>\n",
       "      <td>0.023649</td>\n",
       "      <td>5.333604e-07</td>\n",
       "      <td>0.003256</td>\n",
       "      <td>0.893985</td>\n",
       "      <td>0.000002</td>\n",
       "      <td>0.001075</td>\n",
       "      <td>0.002278</td>\n",
       "      <td>0.000003</td>\n",
       "      <td>2.438903e-07</td>\n",
       "      <td>0.014675</td>\n",
       "      <td>0.007084</td>\n",
       "      <td>0.007361</td>\n",
       "      <td>0.000004</td>\n",
       "      <td>0.863440</td>\n",
       "    </tr>\n",
       "    <tr>\n",
       "      <th>5</th>\n",
       "      <td>0.185222</td>\n",
       "      <td>0.000830</td>\n",
       "      <td>0.897766</td>\n",
       "      <td>0.587165</td>\n",
       "      <td>0.044887</td>\n",
       "      <td>8.474838e-05</td>\n",
       "      <td>0.373616</td>\n",
       "      <td>0.190405</td>\n",
       "      <td>0.000122</td>\n",
       "      <td>0.013522</td>\n",
       "      <td>0.042501</td>\n",
       "      <td>0.000792</td>\n",
       "      <td>7.117853e-05</td>\n",
       "      <td>0.071727</td>\n",
       "      <td>0.236050</td>\n",
       "      <td>0.024244</td>\n",
       "      <td>0.000149</td>\n",
       "      <td>0.556907</td>\n",
       "    </tr>\n",
       "    <tr>\n",
       "      <th>6</th>\n",
       "      <td>0.096902</td>\n",
       "      <td>0.000225</td>\n",
       "      <td>0.941430</td>\n",
       "      <td>0.182307</td>\n",
       "      <td>0.040433</td>\n",
       "      <td>6.070815e-06</td>\n",
       "      <td>0.041881</td>\n",
       "      <td>0.489609</td>\n",
       "      <td>0.000017</td>\n",
       "      <td>0.002782</td>\n",
       "      <td>0.006198</td>\n",
       "      <td>0.000034</td>\n",
       "      <td>4.265828e-06</td>\n",
       "      <td>0.102244</td>\n",
       "      <td>0.146839</td>\n",
       "      <td>0.005733</td>\n",
       "      <td>0.000043</td>\n",
       "      <td>0.308328</td>\n",
       "    </tr>\n",
       "    <tr>\n",
       "      <th>7</th>\n",
       "      <td>0.494165</td>\n",
       "      <td>0.000119</td>\n",
       "      <td>0.914706</td>\n",
       "      <td>0.088326</td>\n",
       "      <td>0.030773</td>\n",
       "      <td>5.311703e-06</td>\n",
       "      <td>0.046870</td>\n",
       "      <td>0.815065</td>\n",
       "      <td>0.000011</td>\n",
       "      <td>0.005071</td>\n",
       "      <td>0.016218</td>\n",
       "      <td>0.000055</td>\n",
       "      <td>3.292091e-06</td>\n",
       "      <td>0.002689</td>\n",
       "      <td>0.007194</td>\n",
       "      <td>0.025639</td>\n",
       "      <td>0.000020</td>\n",
       "      <td>0.983704</td>\n",
       "    </tr>\n",
       "    <tr>\n",
       "      <th>8</th>\n",
       "      <td>0.000378</td>\n",
       "      <td>0.000079</td>\n",
       "      <td>0.978701</td>\n",
       "      <td>0.693835</td>\n",
       "      <td>0.018956</td>\n",
       "      <td>1.662223e-06</td>\n",
       "      <td>0.001490</td>\n",
       "      <td>0.369452</td>\n",
       "      <td>0.000018</td>\n",
       "      <td>0.000414</td>\n",
       "      <td>0.001585</td>\n",
       "      <td>0.000040</td>\n",
       "      <td>2.375582e-06</td>\n",
       "      <td>0.090757</td>\n",
       "      <td>0.157844</td>\n",
       "      <td>0.006858</td>\n",
       "      <td>0.000093</td>\n",
       "      <td>0.827885</td>\n",
       "    </tr>\n",
       "    <tr>\n",
       "      <th>9</th>\n",
       "      <td>0.018652</td>\n",
       "      <td>0.000118</td>\n",
       "      <td>0.962566</td>\n",
       "      <td>0.617877</td>\n",
       "      <td>0.022810</td>\n",
       "      <td>3.807563e-06</td>\n",
       "      <td>0.044318</td>\n",
       "      <td>0.262000</td>\n",
       "      <td>0.000013</td>\n",
       "      <td>0.001587</td>\n",
       "      <td>0.006341</td>\n",
       "      <td>0.000093</td>\n",
       "      <td>3.390858e-06</td>\n",
       "      <td>0.040914</td>\n",
       "      <td>0.134573</td>\n",
       "      <td>0.004484</td>\n",
       "      <td>0.000043</td>\n",
       "      <td>0.786536</td>\n",
       "    </tr>\n",
       "  </tbody>\n",
       "</table>\n",
       "</div>"
      ],
      "text/plain": [
       "          0         1         2         3         4             5         6  \\\n",
       "1  0.002760  0.000199  0.969339  0.872383  0.019258  2.716735e-06  0.017985   \n",
       "2  0.435018  0.000052  0.954331  0.011322  0.008544  5.158445e-07  0.003761   \n",
       "3  0.195516  0.000065  0.948649  0.175937  0.012674  1.701784e-06  0.020698   \n",
       "4  0.140496  0.000034  0.954600  0.023363  0.023649  5.333604e-07  0.003256   \n",
       "5  0.185222  0.000830  0.897766  0.587165  0.044887  8.474838e-05  0.373616   \n",
       "6  0.096902  0.000225  0.941430  0.182307  0.040433  6.070815e-06  0.041881   \n",
       "7  0.494165  0.000119  0.914706  0.088326  0.030773  5.311703e-06  0.046870   \n",
       "8  0.000378  0.000079  0.978701  0.693835  0.018956  1.662223e-06  0.001490   \n",
       "9  0.018652  0.000118  0.962566  0.617877  0.022810  3.807563e-06  0.044318   \n",
       "\n",
       "          7         8         9        10        11            12        13  \\\n",
       "1  0.187629  0.000015  0.000896  0.004270  0.000120  4.156326e-06  0.070308   \n",
       "2  0.979575  0.000003  0.002539  0.005310  0.000013  6.859431e-08  0.000385   \n",
       "3  0.755822  0.000005  0.003017  0.010151  0.000053  1.009823e-06  0.001754   \n",
       "4  0.893985  0.000002  0.001075  0.002278  0.000003  2.438903e-07  0.014675   \n",
       "5  0.190405  0.000122  0.013522  0.042501  0.000792  7.117853e-05  0.071727   \n",
       "6  0.489609  0.000017  0.002782  0.006198  0.000034  4.265828e-06  0.102244   \n",
       "7  0.815065  0.000011  0.005071  0.016218  0.000055  3.292091e-06  0.002689   \n",
       "8  0.369452  0.000018  0.000414  0.001585  0.000040  2.375582e-06  0.090757   \n",
       "9  0.262000  0.000013  0.001587  0.006341  0.000093  3.390858e-06  0.040914   \n",
       "\n",
       "         14        15        16        17  \n",
       "1  0.194655  0.002373  0.000079  0.850648  \n",
       "2  0.000209  0.039432  0.000002  0.998625  \n",
       "3  0.005227  0.018814  0.000008  0.989622  \n",
       "4  0.007084  0.007361  0.000004  0.863440  \n",
       "5  0.236050  0.024244  0.000149  0.556907  \n",
       "6  0.146839  0.005733  0.000043  0.308328  \n",
       "7  0.007194  0.025639  0.000020  0.983704  \n",
       "8  0.157844  0.006858  0.000093  0.827885  \n",
       "9  0.134573  0.004484  0.000043  0.786536  "
      ]
     },
     "execution_count": 19,
     "metadata": {},
     "output_type": "execute_result"
    }
   ],
   "source": [
    "gen_df[1:10]"
   ]
  },
  {
   "cell_type": "code",
   "execution_count": 20,
   "metadata": {},
   "outputs": [
    {
     "name": "stdout",
     "output_type": "stream",
     "text": [
      "type 3\n",
      "operation 7\n",
      "k_symbol 8\n"
     ]
    },
    {
     "data": {
      "text/plain": [
       "[None, None, None]"
      ]
     },
     "execution_count": 20,
     "metadata": {},
     "output_type": "execute_result"
    }
   ],
   "source": [
    "# From the above cell, it clear that 0,1,2 columns corresponds to type\n",
    "# 3,4,5,6,7,8 column corresponds to operation \n",
    "# 9,10,11,12,13,14,15,16 columns corresponds to k_symbol\n",
    "# Grouping the columns to produce a single column for - Type, Operation and Symbol\n",
    "\n",
    "# print length of unique number of each columns \n",
    "[print(x,len(df[x].unique())) for x in df]"
   ]
  },
  {
   "cell_type": "code",
   "execution_count": 21,
   "metadata": {},
   "outputs": [
    {
     "name": "stderr",
     "output_type": "stream",
     "text": [
      "C:\\Users\\Taiyaba Surface\\.conda\\envs\\tensorflow\\lib\\site-packages\\ipykernel_launcher.py:5: SettingWithCopyWarning: \n",
      "A value is trying to be set on a copy of a slice from a DataFrame.\n",
      "Try using .loc[row_indexer,col_indexer] = value instead\n",
      "\n",
      "See the caveats in the documentation: https://pandas.pydata.org/pandas-docs/stable/user_guide/indexing.html#returning-a-view-versus-a-copy\n",
      "  \"\"\"\n"
     ]
    },
    {
     "data": {
      "text/html": [
       "<div>\n",
       "<style scoped>\n",
       "    .dataframe tbody tr th:only-of-type {\n",
       "        vertical-align: middle;\n",
       "    }\n",
       "\n",
       "    .dataframe tbody tr th {\n",
       "        vertical-align: top;\n",
       "    }\n",
       "\n",
       "    .dataframe thead th {\n",
       "        text-align: right;\n",
       "    }\n",
       "</style>\n",
       "<table border=\"1\" class=\"dataframe\">\n",
       "  <thead>\n",
       "    <tr style=\"text-align: right;\">\n",
       "      <th></th>\n",
       "      <th>0</th>\n",
       "      <th>1</th>\n",
       "      <th>2</th>\n",
       "      <th>Type</th>\n",
       "    </tr>\n",
       "  </thead>\n",
       "  <tbody>\n",
       "    <tr>\n",
       "      <th>999995</th>\n",
       "      <td>0.263706</td>\n",
       "      <td>0.000031</td>\n",
       "      <td>0.958142</td>\n",
       "      <td>2</td>\n",
       "    </tr>\n",
       "    <tr>\n",
       "      <th>999996</th>\n",
       "      <td>0.220322</td>\n",
       "      <td>0.005697</td>\n",
       "      <td>0.842339</td>\n",
       "      <td>2</td>\n",
       "    </tr>\n",
       "    <tr>\n",
       "      <th>999997</th>\n",
       "      <td>0.239427</td>\n",
       "      <td>0.000414</td>\n",
       "      <td>0.922745</td>\n",
       "      <td>2</td>\n",
       "    </tr>\n",
       "    <tr>\n",
       "      <th>999998</th>\n",
       "      <td>0.297143</td>\n",
       "      <td>0.000251</td>\n",
       "      <td>0.920798</td>\n",
       "      <td>2</td>\n",
       "    </tr>\n",
       "    <tr>\n",
       "      <th>999999</th>\n",
       "      <td>0.021087</td>\n",
       "      <td>0.000007</td>\n",
       "      <td>0.976830</td>\n",
       "      <td>2</td>\n",
       "    </tr>\n",
       "  </tbody>\n",
       "</table>\n",
       "</div>"
      ],
      "text/plain": [
       "               0         1         2  Type\n",
       "999995  0.263706  0.000031  0.958142     2\n",
       "999996  0.220322  0.005697  0.842339     2\n",
       "999997  0.239427  0.000414  0.922745     2\n",
       "999998  0.297143  0.000251  0.920798     2\n",
       "999999  0.021087  0.000007  0.976830     2"
      ]
     },
     "execution_count": 21,
     "metadata": {},
     "output_type": "execute_result"
    }
   ],
   "source": [
    "# From columns 0,1,2 -> getting the largest value column as a new column known as 'type' \n",
    "# Largest column Method to group the columns (from https://medium.com/@dkhundley/data-science-quick-tips-001-reversing-one-hot-encoding-b0c9a892356b)\n",
    "\n",
    "Type = gen_df.iloc[:,0:3]\n",
    "Type['Type'] = Type.idxmax(axis = 1)\n",
    "\n",
    "\n",
    "Type.tail()\n",
    "# 0 -> PRIJEM\n",
    "# 1 -> VJDAY\n",
    "# 2 -> VYBER"
   ]
  },
  {
   "cell_type": "code",
   "execution_count": 22,
   "metadata": {},
   "outputs": [
    {
     "name": "stderr",
     "output_type": "stream",
     "text": [
      "C:\\Users\\Taiyaba Surface\\.conda\\envs\\tensorflow\\lib\\site-packages\\ipykernel_launcher.py:4: SettingWithCopyWarning: \n",
      "A value is trying to be set on a copy of a slice from a DataFrame.\n",
      "Try using .loc[row_indexer,col_indexer] = value instead\n",
      "\n",
      "See the caveats in the documentation: https://pandas.pydata.org/pandas-docs/stable/user_guide/indexing.html#returning-a-view-versus-a-copy\n",
      "  after removing the cwd from sys.path.\n"
     ]
    },
    {
     "data": {
      "text/html": [
       "<div>\n",
       "<style scoped>\n",
       "    .dataframe tbody tr th:only-of-type {\n",
       "        vertical-align: middle;\n",
       "    }\n",
       "\n",
       "    .dataframe tbody tr th {\n",
       "        vertical-align: top;\n",
       "    }\n",
       "\n",
       "    .dataframe thead th {\n",
       "        text-align: right;\n",
       "    }\n",
       "</style>\n",
       "<table border=\"1\" class=\"dataframe\">\n",
       "  <thead>\n",
       "    <tr style=\"text-align: right;\">\n",
       "      <th></th>\n",
       "      <th>3</th>\n",
       "      <th>4</th>\n",
       "      <th>5</th>\n",
       "      <th>6</th>\n",
       "      <th>7</th>\n",
       "      <th>8</th>\n",
       "      <th>Operation</th>\n",
       "    </tr>\n",
       "  </thead>\n",
       "  <tbody>\n",
       "    <tr>\n",
       "      <th>0</th>\n",
       "      <td>0.704103</td>\n",
       "      <td>0.079331</td>\n",
       "      <td>8.688265e-05</td>\n",
       "      <td>0.068719</td>\n",
       "      <td>0.186084</td>\n",
       "      <td>0.000258</td>\n",
       "      <td>3</td>\n",
       "    </tr>\n",
       "    <tr>\n",
       "      <th>1</th>\n",
       "      <td>0.872383</td>\n",
       "      <td>0.019258</td>\n",
       "      <td>2.716735e-06</td>\n",
       "      <td>0.017985</td>\n",
       "      <td>0.187629</td>\n",
       "      <td>0.000015</td>\n",
       "      <td>3</td>\n",
       "    </tr>\n",
       "    <tr>\n",
       "      <th>2</th>\n",
       "      <td>0.011322</td>\n",
       "      <td>0.008544</td>\n",
       "      <td>5.158445e-07</td>\n",
       "      <td>0.003761</td>\n",
       "      <td>0.979575</td>\n",
       "      <td>0.000003</td>\n",
       "      <td>7</td>\n",
       "    </tr>\n",
       "    <tr>\n",
       "      <th>3</th>\n",
       "      <td>0.175937</td>\n",
       "      <td>0.012674</td>\n",
       "      <td>1.701784e-06</td>\n",
       "      <td>0.020698</td>\n",
       "      <td>0.755822</td>\n",
       "      <td>0.000005</td>\n",
       "      <td>7</td>\n",
       "    </tr>\n",
       "    <tr>\n",
       "      <th>4</th>\n",
       "      <td>0.023363</td>\n",
       "      <td>0.023649</td>\n",
       "      <td>5.333604e-07</td>\n",
       "      <td>0.003256</td>\n",
       "      <td>0.893985</td>\n",
       "      <td>0.000002</td>\n",
       "      <td>7</td>\n",
       "    </tr>\n",
       "  </tbody>\n",
       "</table>\n",
       "</div>"
      ],
      "text/plain": [
       "          3         4             5         6         7         8  Operation\n",
       "0  0.704103  0.079331  8.688265e-05  0.068719  0.186084  0.000258          3\n",
       "1  0.872383  0.019258  2.716735e-06  0.017985  0.187629  0.000015          3\n",
       "2  0.011322  0.008544  5.158445e-07  0.003761  0.979575  0.000003          7\n",
       "3  0.175937  0.012674  1.701784e-06  0.020698  0.755822  0.000005          7\n",
       "4  0.023363  0.023649  5.333604e-07  0.003256  0.893985  0.000002          7"
      ]
     },
     "execution_count": 22,
     "metadata": {},
     "output_type": "execute_result"
    }
   ],
   "source": [
    "# From columns 3,4,5,6,7,8 -> getting the largest value column as a new column known as 'Operation' \n",
    "\n",
    "Operation = gen_df.iloc[:,3:9]\n",
    "Operation['Operation'] = Operation.idxmax(axis = 1)\n",
    "\n",
    "Operation.head()"
   ]
  },
  {
   "cell_type": "code",
   "execution_count": 23,
   "metadata": {},
   "outputs": [
    {
     "name": "stderr",
     "output_type": "stream",
     "text": [
      "C:\\Users\\Taiyaba Surface\\.conda\\envs\\tensorflow\\lib\\site-packages\\ipykernel_launcher.py:4: SettingWithCopyWarning: \n",
      "A value is trying to be set on a copy of a slice from a DataFrame.\n",
      "Try using .loc[row_indexer,col_indexer] = value instead\n",
      "\n",
      "See the caveats in the documentation: https://pandas.pydata.org/pandas-docs/stable/user_guide/indexing.html#returning-a-view-versus-a-copy\n",
      "  after removing the cwd from sys.path.\n"
     ]
    },
    {
     "data": {
      "text/html": [
       "<div>\n",
       "<style scoped>\n",
       "    .dataframe tbody tr th:only-of-type {\n",
       "        vertical-align: middle;\n",
       "    }\n",
       "\n",
       "    .dataframe tbody tr th {\n",
       "        vertical-align: top;\n",
       "    }\n",
       "\n",
       "    .dataframe thead th {\n",
       "        text-align: right;\n",
       "    }\n",
       "</style>\n",
       "<table border=\"1\" class=\"dataframe\">\n",
       "  <thead>\n",
       "    <tr style=\"text-align: right;\">\n",
       "      <th></th>\n",
       "      <th>9</th>\n",
       "      <th>10</th>\n",
       "      <th>11</th>\n",
       "      <th>12</th>\n",
       "      <th>13</th>\n",
       "      <th>14</th>\n",
       "      <th>15</th>\n",
       "      <th>16</th>\n",
       "      <th>K_symbol</th>\n",
       "    </tr>\n",
       "  </thead>\n",
       "  <tbody>\n",
       "    <tr>\n",
       "      <th>0</th>\n",
       "      <td>0.005133</td>\n",
       "      <td>0.008392</td>\n",
       "      <td>0.000298</td>\n",
       "      <td>7.546199e-05</td>\n",
       "      <td>0.770726</td>\n",
       "      <td>0.747679</td>\n",
       "      <td>0.007285</td>\n",
       "      <td>0.000802</td>\n",
       "      <td>13</td>\n",
       "    </tr>\n",
       "    <tr>\n",
       "      <th>1</th>\n",
       "      <td>0.000896</td>\n",
       "      <td>0.004270</td>\n",
       "      <td>0.000120</td>\n",
       "      <td>4.156326e-06</td>\n",
       "      <td>0.070308</td>\n",
       "      <td>0.194655</td>\n",
       "      <td>0.002373</td>\n",
       "      <td>0.000079</td>\n",
       "      <td>14</td>\n",
       "    </tr>\n",
       "    <tr>\n",
       "      <th>2</th>\n",
       "      <td>0.002539</td>\n",
       "      <td>0.005310</td>\n",
       "      <td>0.000013</td>\n",
       "      <td>6.859431e-08</td>\n",
       "      <td>0.000385</td>\n",
       "      <td>0.000209</td>\n",
       "      <td>0.039432</td>\n",
       "      <td>0.000002</td>\n",
       "      <td>15</td>\n",
       "    </tr>\n",
       "    <tr>\n",
       "      <th>3</th>\n",
       "      <td>0.003017</td>\n",
       "      <td>0.010151</td>\n",
       "      <td>0.000053</td>\n",
       "      <td>1.009823e-06</td>\n",
       "      <td>0.001754</td>\n",
       "      <td>0.005227</td>\n",
       "      <td>0.018814</td>\n",
       "      <td>0.000008</td>\n",
       "      <td>15</td>\n",
       "    </tr>\n",
       "    <tr>\n",
       "      <th>4</th>\n",
       "      <td>0.001075</td>\n",
       "      <td>0.002278</td>\n",
       "      <td>0.000003</td>\n",
       "      <td>2.438903e-07</td>\n",
       "      <td>0.014675</td>\n",
       "      <td>0.007084</td>\n",
       "      <td>0.007361</td>\n",
       "      <td>0.000004</td>\n",
       "      <td>13</td>\n",
       "    </tr>\n",
       "  </tbody>\n",
       "</table>\n",
       "</div>"
      ],
      "text/plain": [
       "          9        10        11            12        13        14        15  \\\n",
       "0  0.005133  0.008392  0.000298  7.546199e-05  0.770726  0.747679  0.007285   \n",
       "1  0.000896  0.004270  0.000120  4.156326e-06  0.070308  0.194655  0.002373   \n",
       "2  0.002539  0.005310  0.000013  6.859431e-08  0.000385  0.000209  0.039432   \n",
       "3  0.003017  0.010151  0.000053  1.009823e-06  0.001754  0.005227  0.018814   \n",
       "4  0.001075  0.002278  0.000003  2.438903e-07  0.014675  0.007084  0.007361   \n",
       "\n",
       "         16  K_symbol  \n",
       "0  0.000802        13  \n",
       "1  0.000079        14  \n",
       "2  0.000002        15  \n",
       "3  0.000008        15  \n",
       "4  0.000004        13  "
      ]
     },
     "execution_count": 23,
     "metadata": {},
     "output_type": "execute_result"
    }
   ],
   "source": [
    "# From columns 9,10,11,12,13,14,15,16 -> getting the largest value column as a new column known as 'k_symbol' \n",
    "\n",
    "K_symbol = gen_df.iloc[:,9:17]\n",
    "K_symbol['K_symbol'] = K_symbol.idxmax(axis = 1)\n",
    "\n",
    "K_symbol.head()"
   ]
  },
  {
   "cell_type": "code",
   "execution_count": 24,
   "metadata": {},
   "outputs": [],
   "source": [
    "# Creating a new dataframe to display the generated data\n",
    "generated_cat = pd.DataFrame(Type['Type'])\n",
    "generated_cat['operation'] = Operation['Operation']\n",
    "generated_cat['k_symbol'] = K_symbol['K_symbol']"
   ]
  },
  {
   "cell_type": "code",
   "execution_count": 25,
   "metadata": {},
   "outputs": [
    {
     "data": {
      "text/html": [
       "<div>\n",
       "<style scoped>\n",
       "    .dataframe tbody tr th:only-of-type {\n",
       "        vertical-align: middle;\n",
       "    }\n",
       "\n",
       "    .dataframe tbody tr th {\n",
       "        vertical-align: top;\n",
       "    }\n",
       "\n",
       "    .dataframe thead th {\n",
       "        text-align: right;\n",
       "    }\n",
       "</style>\n",
       "<table border=\"1\" class=\"dataframe\">\n",
       "  <thead>\n",
       "    <tr style=\"text-align: right;\">\n",
       "      <th></th>\n",
       "      <th>Type</th>\n",
       "      <th>operation</th>\n",
       "      <th>k_symbol</th>\n",
       "    </tr>\n",
       "  </thead>\n",
       "  <tbody>\n",
       "    <tr>\n",
       "      <th>0</th>\n",
       "      <td>2</td>\n",
       "      <td>3</td>\n",
       "      <td>13</td>\n",
       "    </tr>\n",
       "    <tr>\n",
       "      <th>1</th>\n",
       "      <td>2</td>\n",
       "      <td>3</td>\n",
       "      <td>14</td>\n",
       "    </tr>\n",
       "    <tr>\n",
       "      <th>2</th>\n",
       "      <td>2</td>\n",
       "      <td>7</td>\n",
       "      <td>15</td>\n",
       "    </tr>\n",
       "    <tr>\n",
       "      <th>3</th>\n",
       "      <td>2</td>\n",
       "      <td>7</td>\n",
       "      <td>15</td>\n",
       "    </tr>\n",
       "    <tr>\n",
       "      <th>4</th>\n",
       "      <td>2</td>\n",
       "      <td>7</td>\n",
       "      <td>13</td>\n",
       "    </tr>\n",
       "  </tbody>\n",
       "</table>\n",
       "</div>"
      ],
      "text/plain": [
       "   Type  operation  k_symbol\n",
       "0     2          3        13\n",
       "1     2          3        14\n",
       "2     2          7        15\n",
       "3     2          7        15\n",
       "4     2          7        13"
      ]
     },
     "execution_count": 25,
     "metadata": {},
     "output_type": "execute_result"
    }
   ],
   "source": [
    "generated_cat.head()\n",
    "\n",
    "# we are displaying the largest column of all the three (meaning )\n",
    "\n",
    "# Type - 0 means PRIJEM\n",
    "# (meaning) PRIJEM | VJDAY | VYBER      \n",
    "#             1       0       0      #one-hot\n",
    "\n",
    "# Type - 1 means VJDAY\n",
    "# (meaning) PRIJEM | VJDAY | VYBER \n",
    "#             0        1      0\n",
    "\n",
    "# Type - 2 means VYBER\n",
    "# (meaning) PRIJEM | VJDAY |VYBER\n",
    "#              0       0      1"
   ]
  },
  {
   "cell_type": "code",
   "execution_count": 26,
   "metadata": {},
   "outputs": [],
   "source": [
    "# Operation - 3 means PREVOD NA UCET\n",
    "# (meaning) PREVOD NA UCET | PREVOD Z UCTU | VKLAD | VYBER | VYBER KARTOU | Unspecified\n",
    "#                 1               0            0       0          0            0\n",
    "\n",
    "# Operation - 4 means PREVOD Z UCTU\n",
    "# (meaning) PREVOD NA UCET | PREVOD Z UCTU | VKLAD | VYBER | VYBER KARTOU | Unspecified\n",
    "#                 0              1            0       0          0            0\n",
    "\n",
    "# Operation - 5 means VKLAD\n",
    "# (meaning) PREVOD NA UCET | PREVOD Z UCTU | VKLAD | VYBER | VYBER KARTOU | Unspecified\n",
    "#                 0               0            1       0          0            0\n",
    "\n",
    "# Operation - 6 means VYBER\n",
    "# (meaning) PREVOD NA UCET | PREVOD Z UCTU | VKLAD | VYBER | VYBER KARTOU | Unspecified\n",
    "#                                0            0       1          0            0\n",
    "\n",
    "# Operation - 7 means VYBER KARTOU\n",
    "# (meaning) PREVOD NA UCET | PREVOD Z UCTU | VKLAD | VYBER | VYBER KARTOU | Unspecified\n",
    "#                 0               0            0       0          1            0\n",
    "\n",
    "# Operation - 8 means Unspecified\n",
    "# (meaning) PREVOD NA UCET | PREVOD Z UCTU | VKLAD | VYBER | VYBER KARTOU | Unspecified\n",
    "#                 0              0            0       0          0            1\n",
    "\n",
    "# Same logic for K_symbol"
   ]
  },
  {
   "cell_type": "code",
   "execution_count": 27,
   "metadata": {},
   "outputs": [
    {
     "data": {
      "text/html": [
       "<div>\n",
       "<style scoped>\n",
       "    .dataframe tbody tr th:only-of-type {\n",
       "        vertical-align: middle;\n",
       "    }\n",
       "\n",
       "    .dataframe tbody tr th {\n",
       "        vertical-align: top;\n",
       "    }\n",
       "\n",
       "    .dataframe thead th {\n",
       "        text-align: right;\n",
       "    }\n",
       "</style>\n",
       "<table border=\"1\" class=\"dataframe\">\n",
       "  <thead>\n",
       "    <tr style=\"text-align: right;\">\n",
       "      <th></th>\n",
       "      <th>Type</th>\n",
       "      <th>operation</th>\n",
       "      <th>k_symbol</th>\n",
       "    </tr>\n",
       "  </thead>\n",
       "  <tbody>\n",
       "    <tr>\n",
       "      <th>999995</th>\n",
       "      <td>2</td>\n",
       "      <td>7</td>\n",
       "      <td>15</td>\n",
       "    </tr>\n",
       "    <tr>\n",
       "      <th>999996</th>\n",
       "      <td>2</td>\n",
       "      <td>6</td>\n",
       "      <td>14</td>\n",
       "    </tr>\n",
       "    <tr>\n",
       "      <th>999997</th>\n",
       "      <td>2</td>\n",
       "      <td>7</td>\n",
       "      <td>14</td>\n",
       "    </tr>\n",
       "    <tr>\n",
       "      <th>999998</th>\n",
       "      <td>2</td>\n",
       "      <td>7</td>\n",
       "      <td>13</td>\n",
       "    </tr>\n",
       "    <tr>\n",
       "      <th>999999</th>\n",
       "      <td>2</td>\n",
       "      <td>7</td>\n",
       "      <td>15</td>\n",
       "    </tr>\n",
       "  </tbody>\n",
       "</table>\n",
       "</div>"
      ],
      "text/plain": [
       "        Type  operation  k_symbol\n",
       "999995     2          7        15\n",
       "999996     2          6        14\n",
       "999997     2          7        14\n",
       "999998     2          7        13\n",
       "999999     2          7        15"
      ]
     },
     "execution_count": 27,
     "metadata": {},
     "output_type": "execute_result"
    }
   ],
   "source": [
    "generated_cat.tail()"
   ]
  },
  {
   "cell_type": "code",
   "execution_count": 28,
   "metadata": {},
   "outputs": [],
   "source": [
    "# Converting the generated data back to original dataset\n",
    "\n",
    "generated_cat['Type']=generated_cat['Type'].replace({0:'PRIJEM',1:'VYDAJ',2:'VYBER'})\n",
    "generated_cat['operation']=generated_cat['operation'].replace({3:'PREVOD NA UCET',4:'PREVOD Z UCTU',5:'VKLAD',6:'VYBER',7:'VYBER KARTOU',8:'Unspecified'})\n",
    "generated_cat['k_symbol']=generated_cat['k_symbol'].replace({9:'DUCHOD',10:'POJISTNE',11:'SANKC.UROK',12:'SIPO',13:'SLUZBY',14:'UROK',15:'UVER',16:'Unspecified'})"
   ]
  },
  {
   "cell_type": "code",
   "execution_count": 29,
   "metadata": {},
   "outputs": [
    {
     "data": {
      "text/html": [
       "<div>\n",
       "<style scoped>\n",
       "    .dataframe tbody tr th:only-of-type {\n",
       "        vertical-align: middle;\n",
       "    }\n",
       "\n",
       "    .dataframe tbody tr th {\n",
       "        vertical-align: top;\n",
       "    }\n",
       "\n",
       "    .dataframe thead th {\n",
       "        text-align: right;\n",
       "    }\n",
       "</style>\n",
       "<table border=\"1\" class=\"dataframe\">\n",
       "  <thead>\n",
       "    <tr style=\"text-align: right;\">\n",
       "      <th></th>\n",
       "      <th>Type</th>\n",
       "      <th>operation</th>\n",
       "      <th>k_symbol</th>\n",
       "    </tr>\n",
       "  </thead>\n",
       "  <tbody>\n",
       "    <tr>\n",
       "      <th>999995</th>\n",
       "      <td>VYBER</td>\n",
       "      <td>VYBER KARTOU</td>\n",
       "      <td>UVER</td>\n",
       "    </tr>\n",
       "    <tr>\n",
       "      <th>999996</th>\n",
       "      <td>VYBER</td>\n",
       "      <td>VYBER</td>\n",
       "      <td>UROK</td>\n",
       "    </tr>\n",
       "    <tr>\n",
       "      <th>999997</th>\n",
       "      <td>VYBER</td>\n",
       "      <td>VYBER KARTOU</td>\n",
       "      <td>UROK</td>\n",
       "    </tr>\n",
       "    <tr>\n",
       "      <th>999998</th>\n",
       "      <td>VYBER</td>\n",
       "      <td>VYBER KARTOU</td>\n",
       "      <td>SLUZBY</td>\n",
       "    </tr>\n",
       "    <tr>\n",
       "      <th>999999</th>\n",
       "      <td>VYBER</td>\n",
       "      <td>VYBER KARTOU</td>\n",
       "      <td>UVER</td>\n",
       "    </tr>\n",
       "  </tbody>\n",
       "</table>\n",
       "</div>"
      ],
      "text/plain": [
       "         Type     operation k_symbol\n",
       "999995  VYBER  VYBER KARTOU     UVER\n",
       "999996  VYBER         VYBER     UROK\n",
       "999997  VYBER  VYBER KARTOU     UROK\n",
       "999998  VYBER  VYBER KARTOU   SLUZBY\n",
       "999999  VYBER  VYBER KARTOU     UVER"
      ]
     },
     "execution_count": 29,
     "metadata": {},
     "output_type": "execute_result"
    }
   ],
   "source": [
    "generated_cat.tail()"
   ]
  },
  {
   "cell_type": "code",
   "execution_count": 30,
   "metadata": {},
   "outputs": [
    {
     "name": "stdout",
     "output_type": "stream",
     "text": [
      "<class 'pandas.core.frame.DataFrame'>\n",
      "RangeIndex: 1048575 entries, 0 to 1048574\n",
      "Data columns (total 8 columns):\n",
      " #   Column      Non-Null Count    Dtype  \n",
      "---  ------      --------------    -----  \n",
      " 0   trans_id    1048575 non-null  int64  \n",
      " 1   account_id  1048575 non-null  int64  \n",
      " 2   date        1048575 non-null  int64  \n",
      " 3   type        1048575 non-null  object \n",
      " 4   operation   871046 non-null   object \n",
      " 5   amount      1048575 non-null  float64\n",
      " 6   balance     1048575 non-null  float64\n",
      " 7   k_symbol    569929 non-null   object \n",
      "dtypes: float64(2), int64(3), object(3)\n",
      "memory usage: 64.0+ MB\n"
     ]
    }
   ],
   "source": [
    "import pandas as pd\n",
    "df1 = pd.read_csv(\"/Users/Taiyaba Surface/Desktop/trans1.csv\")\n",
    "df1.info()"
   ]
  },
  {
   "cell_type": "code",
   "execution_count": 31,
   "metadata": {},
   "outputs": [
    {
     "name": "stdout",
     "output_type": "stream",
     "text": [
      "<class 'pandas.core.frame.DataFrame'>\n",
      "RangeIndex: 1048575 entries, 0 to 1048574\n",
      "Data columns (total 2 columns):\n",
      " #   Column   Non-Null Count    Dtype  \n",
      "---  ------   --------------    -----  \n",
      " 0   amount   1048575 non-null  float64\n",
      " 1   balance  1048575 non-null  float64\n",
      "dtypes: float64(2)\n",
      "memory usage: 16.0 MB\n"
     ]
    },
    {
     "data": {
      "text/html": [
       "<div>\n",
       "<style scoped>\n",
       "    .dataframe tbody tr th:only-of-type {\n",
       "        vertical-align: middle;\n",
       "    }\n",
       "\n",
       "    .dataframe tbody tr th {\n",
       "        vertical-align: top;\n",
       "    }\n",
       "\n",
       "    .dataframe thead th {\n",
       "        text-align: right;\n",
       "    }\n",
       "</style>\n",
       "<table border=\"1\" class=\"dataframe\">\n",
       "  <thead>\n",
       "    <tr style=\"text-align: right;\">\n",
       "      <th></th>\n",
       "      <th>amount</th>\n",
       "      <th>balance</th>\n",
       "    </tr>\n",
       "  </thead>\n",
       "  <tbody>\n",
       "    <tr>\n",
       "      <th>0</th>\n",
       "      <td>700.0</td>\n",
       "      <td>700.0</td>\n",
       "    </tr>\n",
       "    <tr>\n",
       "      <th>1</th>\n",
       "      <td>900.0</td>\n",
       "      <td>900.0</td>\n",
       "    </tr>\n",
       "    <tr>\n",
       "      <th>2</th>\n",
       "      <td>1000.0</td>\n",
       "      <td>1000.0</td>\n",
       "    </tr>\n",
       "    <tr>\n",
       "      <th>3</th>\n",
       "      <td>600.0</td>\n",
       "      <td>600.0</td>\n",
       "    </tr>\n",
       "    <tr>\n",
       "      <th>4</th>\n",
       "      <td>400.0</td>\n",
       "      <td>400.0</td>\n",
       "    </tr>\n",
       "  </tbody>\n",
       "</table>\n",
       "</div>"
      ],
      "text/plain": [
       "   amount  balance\n",
       "0   700.0    700.0\n",
       "1   900.0    900.0\n",
       "2  1000.0   1000.0\n",
       "3   600.0    600.0\n",
       "4   400.0    400.0"
      ]
     },
     "execution_count": 31,
     "metadata": {},
     "output_type": "execute_result"
    }
   ],
   "source": [
    "# Remove numeric columns, for simplicity and to compute numerical columns \n",
    "df1.drop(['trans_id','account_id','date','type','k_symbol','operation'],axis=1,inplace=True) \n",
    "df1.info()\n",
    "df1.head()"
   ]
  },
  {
   "cell_type": "code",
   "execution_count": 32,
   "metadata": {},
   "outputs": [
    {
     "data": {
      "text/plain": [
       "(1000, 2)"
      ]
     },
     "execution_count": 32,
     "metadata": {},
     "output_type": "execute_result"
    }
   ],
   "source": [
    "# To compute faster\n",
    "df1=df1.sample(n=1000, replace=False, random_state=1)  \n",
    "df1.shape"
   ]
  },
  {
   "cell_type": "code",
   "execution_count": 33,
   "metadata": {},
   "outputs": [],
   "source": [
    "prepared=df1.to_numpy()"
   ]
  },
  {
   "cell_type": "code",
   "execution_count": 34,
   "metadata": {},
   "outputs": [
    {
     "name": "stdout",
     "output_type": "stream",
     "text": [
      "1000 2\n"
     ]
    }
   ],
   "source": [
    "RowsNumber,InputSize = prepared.shape\n",
    "print(RowsNumber,InputSize)"
   ]
  },
  {
   "cell_type": "code",
   "execution_count": 35,
   "metadata": {},
   "outputs": [],
   "source": [
    "import numpy as np\n",
    "\n",
    "# TensorFlow ≥2.0 is required\n",
    "import tensorflow as tf\n",
    "from tensorflow import keras\n",
    "assert tf.__version__ >= \"2.0\"\n",
    "\n",
    "np.random.seed(42)\n",
    "tf.random.set_seed(42) #ensure to get the same results on the machine"
   ]
  },
  {
   "cell_type": "code",
   "execution_count": 36,
   "metadata": {},
   "outputs": [],
   "source": [
    "X_train = prepared.astype(np.float32) # TensorFlow expects float32"
   ]
  },
  {
   "cell_type": "code",
   "execution_count": 37,
   "metadata": {},
   "outputs": [],
   "source": [
    "codings_size = 8 # For InputSize=12\n",
    "\n",
    "generator = keras.models.Sequential([\n",
    "    keras.layers.Dense(30, activation=\"selu\", input_shape=[codings_size]),\n",
    "    keras.layers.Dense(20, activation=\"selu\"),\n",
    "    keras.layers.Dense(InputSize, activation=\"sigmoid\"),\n",
    "    keras.layers.Reshape([InputSize])\n",
    "])\n",
    "discriminator = keras.models.Sequential([\n",
    "    keras.layers.Flatten(input_shape=[InputSize]),\n",
    "    keras.layers.Dense(20, activation=\"selu\"),\n",
    "    keras.layers.Dense(30, activation=\"selu\"),\n",
    "    keras.layers.Dense(1, activation=\"sigmoid\")\n",
    "])\n",
    "gan = keras.models.Sequential([generator, discriminator])"
   ]
  },
  {
   "cell_type": "code",
   "execution_count": 38,
   "metadata": {},
   "outputs": [],
   "source": [
    "discriminator.compile(loss=\"binary_crossentropy\", optimizer=\"rmsprop\")\n",
    "discriminator.trainable = False\n",
    "gan.compile(loss=\"binary_crossentropy\", optimizer=\"rmsprop\")"
   ]
  },
  {
   "cell_type": "code",
   "execution_count": 39,
   "metadata": {},
   "outputs": [],
   "source": [
    "batch_size = 20  # For MNIST 60,000 inputs, batch_size was 32\n",
    "\n",
    "\n",
    "dataset = tf.data.Dataset.from_tensor_slices(X_train).shuffle(1000)\n",
    "dataset = dataset.batch(batch_size, drop_remainder=True).prefetch(1)"
   ]
  },
  {
   "cell_type": "code",
   "execution_count": 40,
   "metadata": {},
   "outputs": [],
   "source": [
    "def train_gan(gan, dataset, batch_size, codings_size, n_epochs=50):\n",
    "    generator, discriminator = gan.layers\n",
    "    for epoch in range(n_epochs):\n",
    "        print(\"Epoch {}/{}\".format(epoch + 1, n_epochs))              # not shown in the book\n",
    "        for X_batch in dataset:\n",
    "            # phase 1 - training the discriminator\n",
    "            noise = tf.random.normal(shape=[batch_size, codings_size])\n",
    "            generated_images = generator(noise)\n",
    "            X_fake_and_real = tf.concat([generated_images, X_batch], axis=0)\n",
    "            y1 = tf.constant([[0.]] * batch_size + [[1.]] * batch_size)\n",
    "            discriminator.trainable = True\n",
    "            discriminator.train_on_batch(X_fake_and_real, y1)\n",
    "            # phase 2 - training the generator\n",
    "            noise = tf.random.normal(shape=[batch_size, codings_size])\n",
    "            y2 = tf.constant([[1.]] * batch_size)\n",
    "            discriminator.trainable = False\n",
    "            gan.train_on_batch(noise, y2)\n",
    "        #plot_multiple_images(generated_images, 8)                     # not shown\n",
    "        #plt.show()                                                    # not shown"
   ]
  },
  {
   "cell_type": "code",
   "execution_count": 41,
   "metadata": {},
   "outputs": [
    {
     "name": "stdout",
     "output_type": "stream",
     "text": [
      "Epoch 1/1\n",
      "TIME  1.0\n"
     ]
    }
   ],
   "source": [
    "import time\n",
    "\n",
    "start = time.time()\n",
    "train_gan (gan, dataset, batch_size, codings_size, n_epochs=1)\n",
    "print('TIME ',round(time.time() - start,0))"
   ]
  },
  {
   "cell_type": "code",
   "execution_count": 42,
   "metadata": {},
   "outputs": [],
   "source": [
    "tf.random.set_seed(42)\n",
    "np.random.seed(42)                                                           \n",
    "\n",
    "noise = tf.random.normal(shape=[50000*batch_size, codings_size])\n",
    "generated_ = generator(noise)"
   ]
  },
  {
   "cell_type": "code",
   "execution_count": 43,
   "metadata": {},
   "outputs": [
    {
     "data": {
      "text/plain": [
       "<tf.Tensor: shape=(4, 2), dtype=float32, numpy=\n",
       "array([[0.21533868, 0.09475406],\n",
       "       [0.10513775, 0.16129498],\n",
       "       [0.16107504, 0.08873447],\n",
       "       [0.13950764, 0.45503   ]], dtype=float32)>"
      ]
     },
     "execution_count": 43,
     "metadata": {},
     "output_type": "execute_result"
    }
   ],
   "source": [
    "generated_[1:5]                                                      #Synthetic Data generated "
   ]
  },
  {
   "cell_type": "code",
   "execution_count": 44,
   "metadata": {},
   "outputs": [
    {
     "name": "stdout",
     "output_type": "stream",
     "text": [
      "<class 'numpy.ndarray'>\n"
     ]
    }
   ],
   "source": [
    "print(type(np.array(generated_)))"
   ]
  },
  {
   "cell_type": "code",
   "execution_count": 45,
   "metadata": {},
   "outputs": [
    {
     "data": {
      "text/plain": [
       "numpy.ndarray"
      ]
     },
     "execution_count": 45,
     "metadata": {},
     "output_type": "execute_result"
    }
   ],
   "source": [
    "x = (np.array(generated_))                                  \n",
    "type(x)"
   ]
  },
  {
   "cell_type": "code",
   "execution_count": 46,
   "metadata": {},
   "outputs": [
    {
     "data": {
      "text/plain": [
       "pandas.core.frame.DataFrame"
      ]
     },
     "execution_count": 46,
     "metadata": {},
     "output_type": "execute_result"
    }
   ],
   "source": [
    "gen_df = pd.DataFrame(x)                                        #Synthetic Dataframe generated \n",
    "type(gen_df)"
   ]
  },
  {
   "cell_type": "code",
   "execution_count": 47,
   "metadata": {},
   "outputs": [
    {
     "data": {
      "text/html": [
       "<div>\n",
       "<style scoped>\n",
       "    .dataframe tbody tr th:only-of-type {\n",
       "        vertical-align: middle;\n",
       "    }\n",
       "\n",
       "    .dataframe tbody tr th {\n",
       "        vertical-align: top;\n",
       "    }\n",
       "\n",
       "    .dataframe thead th {\n",
       "        text-align: right;\n",
       "    }\n",
       "</style>\n",
       "<table border=\"1\" class=\"dataframe\">\n",
       "  <thead>\n",
       "    <tr style=\"text-align: right;\">\n",
       "      <th></th>\n",
       "      <th>0</th>\n",
       "      <th>1</th>\n",
       "    </tr>\n",
       "  </thead>\n",
       "  <tbody>\n",
       "    <tr>\n",
       "      <th>1</th>\n",
       "      <td>0.215339</td>\n",
       "      <td>0.094754</td>\n",
       "    </tr>\n",
       "    <tr>\n",
       "      <th>2</th>\n",
       "      <td>0.105138</td>\n",
       "      <td>0.161295</td>\n",
       "    </tr>\n",
       "    <tr>\n",
       "      <th>3</th>\n",
       "      <td>0.161075</td>\n",
       "      <td>0.088734</td>\n",
       "    </tr>\n",
       "    <tr>\n",
       "      <th>4</th>\n",
       "      <td>0.139508</td>\n",
       "      <td>0.455030</td>\n",
       "    </tr>\n",
       "  </tbody>\n",
       "</table>\n",
       "</div>"
      ],
      "text/plain": [
       "          0         1\n",
       "1  0.215339  0.094754\n",
       "2  0.105138  0.161295\n",
       "3  0.161075  0.088734\n",
       "4  0.139508  0.455030"
      ]
     },
     "execution_count": 47,
     "metadata": {},
     "output_type": "execute_result"
    }
   ],
   "source": [
    "gen_df[1:5]                                                    \n",
    "\n",
    "# Output doesn't look like the amount and balance in the original data"
   ]
  },
  {
   "cell_type": "code",
   "execution_count": 48,
   "metadata": {},
   "outputs": [],
   "source": [
    "# Using ryan's method to get the amount and balance values (resembling the original values)\n",
    "amount_std = df1['amount'].std()\n",
    "amount_mean = df1['amount'].mean()"
   ]
  },
  {
   "cell_type": "code",
   "execution_count": 49,
   "metadata": {},
   "outputs": [
    {
     "data": {
      "text/plain": [
       "0    2255.431885\n",
       "1    1553.019409\n",
       "2    2643.625488\n",
       "3    1454.358276\n",
       "4    7457.943359\n",
       "Name: 1, dtype: float32"
      ]
     },
     "execution_count": 49,
     "metadata": {},
     "output_type": "execute_result"
    }
   ],
   "source": [
    "# when reversed, the amount should resemble the original_amount (Method: using the mean and std)\n",
    "amount = gen_df.iloc[:,1] * (amount_std + amount_mean)\n",
    "amount.head()"
   ]
  },
  {
   "cell_type": "code",
   "execution_count": 50,
   "metadata": {},
   "outputs": [
    {
     "data": {
      "text/plain": [
       "pandas.core.series.Series"
      ]
     },
     "execution_count": 50,
     "metadata": {},
     "output_type": "execute_result"
    }
   ],
   "source": [
    "type(amount)"
   ]
  },
  {
   "cell_type": "code",
   "execution_count": 51,
   "metadata": {},
   "outputs": [],
   "source": [
    "balance_std = df1['balance'].std()\n",
    "balance_mean = df1['balance'].mean()"
   ]
  },
  {
   "cell_type": "code",
   "execution_count": 52,
   "metadata": {},
   "outputs": [
    {
     "data": {
      "text/plain": [
       "0     8511.186523\n",
       "1     5860.535645\n",
       "2     9976.088867\n",
       "3     5488.223633\n",
       "4    28143.589844\n",
       "Name: 1, dtype: float32"
      ]
     },
     "execution_count": 52,
     "metadata": {},
     "output_type": "execute_result"
    }
   ],
   "source": [
    "balance = gen_df.iloc[:,-1] * (balance_std + balance_mean)\n",
    "balance.head()"
   ]
  },
  {
   "cell_type": "code",
   "execution_count": 53,
   "metadata": {},
   "outputs": [
    {
     "data": {
      "text/html": [
       "<div>\n",
       "<style scoped>\n",
       "    .dataframe tbody tr th:only-of-type {\n",
       "        vertical-align: middle;\n",
       "    }\n",
       "\n",
       "    .dataframe tbody tr th {\n",
       "        vertical-align: top;\n",
       "    }\n",
       "\n",
       "    .dataframe thead th {\n",
       "        text-align: right;\n",
       "    }\n",
       "</style>\n",
       "<table border=\"1\" class=\"dataframe\">\n",
       "  <thead>\n",
       "    <tr style=\"text-align: right;\">\n",
       "      <th></th>\n",
       "      <th>amount</th>\n",
       "      <th>balance</th>\n",
       "    </tr>\n",
       "  </thead>\n",
       "  <tbody>\n",
       "    <tr>\n",
       "      <th>0</th>\n",
       "      <td>2255.431885</td>\n",
       "      <td>8511.186523</td>\n",
       "    </tr>\n",
       "    <tr>\n",
       "      <th>1</th>\n",
       "      <td>1553.019409</td>\n",
       "      <td>5860.535645</td>\n",
       "    </tr>\n",
       "    <tr>\n",
       "      <th>2</th>\n",
       "      <td>2643.625488</td>\n",
       "      <td>9976.088867</td>\n",
       "    </tr>\n",
       "    <tr>\n",
       "      <th>3</th>\n",
       "      <td>1454.358276</td>\n",
       "      <td>5488.223633</td>\n",
       "    </tr>\n",
       "    <tr>\n",
       "      <th>4</th>\n",
       "      <td>7457.943359</td>\n",
       "      <td>28143.589844</td>\n",
       "    </tr>\n",
       "  </tbody>\n",
       "</table>\n",
       "</div>"
      ],
      "text/plain": [
       "        amount       balance\n",
       "0  2255.431885   8511.186523\n",
       "1  1553.019409   5860.535645\n",
       "2  2643.625488   9976.088867\n",
       "3  1454.358276   5488.223633\n",
       "4  7457.943359  28143.589844"
      ]
     },
     "execution_count": 53,
     "metadata": {},
     "output_type": "execute_result"
    }
   ],
   "source": [
    "# Creating new dataframe with amount and balance\n",
    "\n",
    "column_names = [\"amount\", \"balance\"]\n",
    "new_data = pd.DataFrame(columns = column_names)\n",
    "\n",
    "new_data['balance'] = balance\n",
    "new_data['amount'] = amount\n",
    "new_data.head()"
   ]
  },
  {
   "cell_type": "code",
   "execution_count": 54,
   "metadata": {},
   "outputs": [
    {
     "data": {
      "text/html": [
       "<div>\n",
       "<style scoped>\n",
       "    .dataframe tbody tr th:only-of-type {\n",
       "        vertical-align: middle;\n",
       "    }\n",
       "\n",
       "    .dataframe tbody tr th {\n",
       "        vertical-align: top;\n",
       "    }\n",
       "\n",
       "    .dataframe thead th {\n",
       "        text-align: right;\n",
       "    }\n",
       "</style>\n",
       "<table border=\"1\" class=\"dataframe\">\n",
       "  <thead>\n",
       "    <tr style=\"text-align: right;\">\n",
       "      <th></th>\n",
       "      <th>amount</th>\n",
       "      <th>balance</th>\n",
       "    </tr>\n",
       "  </thead>\n",
       "  <tbody>\n",
       "    <tr>\n",
       "      <th>0</th>\n",
       "      <td>2255.0</td>\n",
       "      <td>8511.0</td>\n",
       "    </tr>\n",
       "    <tr>\n",
       "      <th>1</th>\n",
       "      <td>1553.0</td>\n",
       "      <td>5860.0</td>\n",
       "    </tr>\n",
       "    <tr>\n",
       "      <th>2</th>\n",
       "      <td>2643.0</td>\n",
       "      <td>9976.0</td>\n",
       "    </tr>\n",
       "    <tr>\n",
       "      <th>3</th>\n",
       "      <td>1454.0</td>\n",
       "      <td>5488.0</td>\n",
       "    </tr>\n",
       "    <tr>\n",
       "      <th>4</th>\n",
       "      <td>7457.0</td>\n",
       "      <td>28143.0</td>\n",
       "    </tr>\n",
       "  </tbody>\n",
       "</table>\n",
       "</div>"
      ],
      "text/plain": [
       "   amount  balance\n",
       "0  2255.0   8511.0\n",
       "1  1553.0   5860.0\n",
       "2  2643.0   9976.0\n",
       "3  1454.0   5488.0\n",
       "4  7457.0  28143.0"
      ]
     },
     "execution_count": 54,
     "metadata": {},
     "output_type": "execute_result"
    }
   ],
   "source": [
    "# Rounding-off the values of amount and balance\n",
    "\n",
    "new_data['amount'] = new_data['amount'].apply(np.floor)\n",
    "new_data['balance'] = new_data['balance'].apply(np.floor)\n",
    "new_data.head()"
   ]
  },
  {
   "cell_type": "code",
   "execution_count": 55,
   "metadata": {},
   "outputs": [],
   "source": [
    "# Combining the categorical variable - synthetic output with the numerical variable - synthetic output\n",
    "\n",
    "generated_data = pd.DataFrame(generated_cat, columns=['Type','operation','k_symbol'])"
   ]
  },
  {
   "cell_type": "code",
   "execution_count": 56,
   "metadata": {},
   "outputs": [],
   "source": [
    "generated_data['balance'] = new_data['balance']\n",
    "generated_data['amount'] = new_data['amount']"
   ]
  },
  {
   "cell_type": "code",
   "execution_count": 57,
   "metadata": {},
   "outputs": [
    {
     "data": {
      "text/html": [
       "<div>\n",
       "<style scoped>\n",
       "    .dataframe tbody tr th:only-of-type {\n",
       "        vertical-align: middle;\n",
       "    }\n",
       "\n",
       "    .dataframe tbody tr th {\n",
       "        vertical-align: top;\n",
       "    }\n",
       "\n",
       "    .dataframe thead th {\n",
       "        text-align: right;\n",
       "    }\n",
       "</style>\n",
       "<table border=\"1\" class=\"dataframe\">\n",
       "  <thead>\n",
       "    <tr style=\"text-align: right;\">\n",
       "      <th></th>\n",
       "      <th>Type</th>\n",
       "      <th>operation</th>\n",
       "      <th>k_symbol</th>\n",
       "      <th>balance</th>\n",
       "      <th>amount</th>\n",
       "    </tr>\n",
       "  </thead>\n",
       "  <tbody>\n",
       "    <tr>\n",
       "      <th>0</th>\n",
       "      <td>VYBER</td>\n",
       "      <td>PREVOD NA UCET</td>\n",
       "      <td>SLUZBY</td>\n",
       "      <td>8511.0</td>\n",
       "      <td>2255.0</td>\n",
       "    </tr>\n",
       "    <tr>\n",
       "      <th>1</th>\n",
       "      <td>VYBER</td>\n",
       "      <td>PREVOD NA UCET</td>\n",
       "      <td>UROK</td>\n",
       "      <td>5860.0</td>\n",
       "      <td>1553.0</td>\n",
       "    </tr>\n",
       "    <tr>\n",
       "      <th>2</th>\n",
       "      <td>VYBER</td>\n",
       "      <td>VYBER KARTOU</td>\n",
       "      <td>UVER</td>\n",
       "      <td>9976.0</td>\n",
       "      <td>2643.0</td>\n",
       "    </tr>\n",
       "    <tr>\n",
       "      <th>3</th>\n",
       "      <td>VYBER</td>\n",
       "      <td>VYBER KARTOU</td>\n",
       "      <td>UVER</td>\n",
       "      <td>5488.0</td>\n",
       "      <td>1454.0</td>\n",
       "    </tr>\n",
       "    <tr>\n",
       "      <th>4</th>\n",
       "      <td>VYBER</td>\n",
       "      <td>VYBER KARTOU</td>\n",
       "      <td>SLUZBY</td>\n",
       "      <td>28143.0</td>\n",
       "      <td>7457.0</td>\n",
       "    </tr>\n",
       "  </tbody>\n",
       "</table>\n",
       "</div>"
      ],
      "text/plain": [
       "    Type       operation k_symbol  balance  amount\n",
       "0  VYBER  PREVOD NA UCET   SLUZBY   8511.0  2255.0\n",
       "1  VYBER  PREVOD NA UCET     UROK   5860.0  1553.0\n",
       "2  VYBER    VYBER KARTOU     UVER   9976.0  2643.0\n",
       "3  VYBER    VYBER KARTOU     UVER   5488.0  1454.0\n",
       "4  VYBER    VYBER KARTOU   SLUZBY  28143.0  7457.0"
      ]
     },
     "execution_count": 57,
     "metadata": {},
     "output_type": "execute_result"
    }
   ],
   "source": [
    "generated_data.head() #1 Million rows\n",
    "\n",
    "# Trans_id and Account_id -> generate random numbers between its min and max range\n",
    "# Date --> still figuring out (it didn't resemble the original values and difficult to explain the output)"
   ]
  },
  {
   "cell_type": "code",
   "execution_count": 58,
   "metadata": {},
   "outputs": [
    {
     "name": "stdout",
     "output_type": "stream",
     "text": [
      "<class 'pandas.core.frame.DataFrame'>\n",
      "RangeIndex: 1000000 entries, 0 to 999999\n",
      "Data columns (total 5 columns):\n",
      " #   Column     Non-Null Count    Dtype  \n",
      "---  ------     --------------    -----  \n",
      " 0   Type       1000000 non-null  object \n",
      " 1   operation  1000000 non-null  object \n",
      " 2   k_symbol   1000000 non-null  object \n",
      " 3   balance    1000000 non-null  float32\n",
      " 4   amount     1000000 non-null  float32\n",
      "dtypes: float32(2), object(3)\n",
      "memory usage: 30.5+ MB\n"
     ]
    }
   ],
   "source": [
    "generated_data.info() #1 Million rows"
   ]
  },
  {
   "cell_type": "code",
   "execution_count": 59,
   "metadata": {},
   "outputs": [],
   "source": [
    "from scipy.stats import entropy"
   ]
  },
  {
   "cell_type": "code",
   "execution_count": 62,
   "metadata": {},
   "outputs": [
    {
     "data": {
      "text/html": [
       "<div>\n",
       "<style scoped>\n",
       "    .dataframe tbody tr th:only-of-type {\n",
       "        vertical-align: middle;\n",
       "    }\n",
       "\n",
       "    .dataframe tbody tr th {\n",
       "        vertical-align: top;\n",
       "    }\n",
       "\n",
       "    .dataframe thead th {\n",
       "        text-align: right;\n",
       "    }\n",
       "</style>\n",
       "<table border=\"1\" class=\"dataframe\">\n",
       "  <thead>\n",
       "    <tr style=\"text-align: right;\">\n",
       "      <th></th>\n",
       "      <th>trans_id</th>\n",
       "      <th>account_id</th>\n",
       "      <th>date</th>\n",
       "      <th>type</th>\n",
       "      <th>operation</th>\n",
       "      <th>amount</th>\n",
       "      <th>balance</th>\n",
       "      <th>k_symbol</th>\n",
       "    </tr>\n",
       "  </thead>\n",
       "  <tbody>\n",
       "    <tr>\n",
       "      <th>0</th>\n",
       "      <td>695247</td>\n",
       "      <td>2378</td>\n",
       "      <td>930101</td>\n",
       "      <td>PRIJEM</td>\n",
       "      <td>VKLAD</td>\n",
       "      <td>700.0</td>\n",
       "      <td>700.0</td>\n",
       "      <td>unspecified</td>\n",
       "    </tr>\n",
       "    <tr>\n",
       "      <th>1</th>\n",
       "      <td>171812</td>\n",
       "      <td>576</td>\n",
       "      <td>930101</td>\n",
       "      <td>PRIJEM</td>\n",
       "      <td>VKLAD</td>\n",
       "      <td>900.0</td>\n",
       "      <td>900.0</td>\n",
       "      <td>unspecified</td>\n",
       "    </tr>\n",
       "    <tr>\n",
       "      <th>2</th>\n",
       "      <td>207264</td>\n",
       "      <td>704</td>\n",
       "      <td>930101</td>\n",
       "      <td>PRIJEM</td>\n",
       "      <td>VKLAD</td>\n",
       "      <td>1000.0</td>\n",
       "      <td>1000.0</td>\n",
       "      <td>unspecified</td>\n",
       "    </tr>\n",
       "    <tr>\n",
       "      <th>3</th>\n",
       "      <td>1117247</td>\n",
       "      <td>3818</td>\n",
       "      <td>930101</td>\n",
       "      <td>PRIJEM</td>\n",
       "      <td>VKLAD</td>\n",
       "      <td>600.0</td>\n",
       "      <td>600.0</td>\n",
       "      <td>unspecified</td>\n",
       "    </tr>\n",
       "    <tr>\n",
       "      <th>4</th>\n",
       "      <td>579373</td>\n",
       "      <td>1972</td>\n",
       "      <td>930102</td>\n",
       "      <td>PRIJEM</td>\n",
       "      <td>VKLAD</td>\n",
       "      <td>400.0</td>\n",
       "      <td>400.0</td>\n",
       "      <td>unspecified</td>\n",
       "    </tr>\n",
       "    <tr>\n",
       "      <th>...</th>\n",
       "      <td>...</td>\n",
       "      <td>...</td>\n",
       "      <td>...</td>\n",
       "      <td>...</td>\n",
       "      <td>...</td>\n",
       "      <td>...</td>\n",
       "      <td>...</td>\n",
       "      <td>...</td>\n",
       "    </tr>\n",
       "    <tr>\n",
       "      <th>1048570</th>\n",
       "      <td>1106561</td>\n",
       "      <td>3779</td>\n",
       "      <td>981219</td>\n",
       "      <td>VYDAJ</td>\n",
       "      <td>VYBER</td>\n",
       "      <td>12200.0</td>\n",
       "      <td>59783.7</td>\n",
       "      <td>unspecified</td>\n",
       "    </tr>\n",
       "    <tr>\n",
       "      <th>1048571</th>\n",
       "      <td>1109169</td>\n",
       "      <td>3787</td>\n",
       "      <td>981219</td>\n",
       "      <td>VYDAJ</td>\n",
       "      <td>VYBER</td>\n",
       "      <td>2600.0</td>\n",
       "      <td>81497.4</td>\n",
       "      <td>unspecified</td>\n",
       "    </tr>\n",
       "    <tr>\n",
       "      <th>1048572</th>\n",
       "      <td>1109971</td>\n",
       "      <td>3789</td>\n",
       "      <td>981219</td>\n",
       "      <td>VYBER</td>\n",
       "      <td>VYBER</td>\n",
       "      <td>4900.0</td>\n",
       "      <td>44784.0</td>\n",
       "      <td>unspecified</td>\n",
       "    </tr>\n",
       "    <tr>\n",
       "      <th>1048573</th>\n",
       "      <td>1110516</td>\n",
       "      <td>3791</td>\n",
       "      <td>981219</td>\n",
       "      <td>VYDAJ</td>\n",
       "      <td>VYBER</td>\n",
       "      <td>23500.0</td>\n",
       "      <td>60146.1</td>\n",
       "      <td>unspecified</td>\n",
       "    </tr>\n",
       "    <tr>\n",
       "      <th>1048574</th>\n",
       "      <td>1110008</td>\n",
       "      <td>3789</td>\n",
       "      <td>981219</td>\n",
       "      <td>VYDAJ</td>\n",
       "      <td>VYBER</td>\n",
       "      <td>11100.0</td>\n",
       "      <td>33684.0</td>\n",
       "      <td>unspecified</td>\n",
       "    </tr>\n",
       "  </tbody>\n",
       "</table>\n",
       "<p>1048575 rows × 8 columns</p>\n",
       "</div>"
      ],
      "text/plain": [
       "         trans_id  account_id    date    type operation   amount  balance  \\\n",
       "0          695247        2378  930101  PRIJEM     VKLAD    700.0    700.0   \n",
       "1          171812         576  930101  PRIJEM     VKLAD    900.0    900.0   \n",
       "2          207264         704  930101  PRIJEM     VKLAD   1000.0   1000.0   \n",
       "3         1117247        3818  930101  PRIJEM     VKLAD    600.0    600.0   \n",
       "4          579373        1972  930102  PRIJEM     VKLAD    400.0    400.0   \n",
       "...           ...         ...     ...     ...       ...      ...      ...   \n",
       "1048570   1106561        3779  981219   VYDAJ     VYBER  12200.0  59783.7   \n",
       "1048571   1109169        3787  981219   VYDAJ     VYBER   2600.0  81497.4   \n",
       "1048572   1109971        3789  981219   VYBER     VYBER   4900.0  44784.0   \n",
       "1048573   1110516        3791  981219   VYDAJ     VYBER  23500.0  60146.1   \n",
       "1048574   1110008        3789  981219   VYDAJ     VYBER  11100.0  33684.0   \n",
       "\n",
       "            k_symbol  \n",
       "0        unspecified  \n",
       "1        unspecified  \n",
       "2        unspecified  \n",
       "3        unspecified  \n",
       "4        unspecified  \n",
       "...              ...  \n",
       "1048570  unspecified  \n",
       "1048571  unspecified  \n",
       "1048572  unspecified  \n",
       "1048573  unspecified  \n",
       "1048574  unspecified  \n",
       "\n",
       "[1048575 rows x 8 columns]"
      ]
     },
     "execution_count": 62,
     "metadata": {},
     "output_type": "execute_result"
    }
   ],
   "source": [
    "df                                                          #Ran first two cells again to get original data"
   ]
  },
  {
   "cell_type": "code",
   "execution_count": 63,
   "metadata": {},
   "outputs": [
    {
     "data": {
      "text/html": [
       "<div>\n",
       "<style scoped>\n",
       "    .dataframe tbody tr th:only-of-type {\n",
       "        vertical-align: middle;\n",
       "    }\n",
       "\n",
       "    .dataframe tbody tr th {\n",
       "        vertical-align: top;\n",
       "    }\n",
       "\n",
       "    .dataframe thead th {\n",
       "        text-align: right;\n",
       "    }\n",
       "</style>\n",
       "<table border=\"1\" class=\"dataframe\">\n",
       "  <thead>\n",
       "    <tr style=\"text-align: right;\">\n",
       "      <th></th>\n",
       "      <th>type</th>\n",
       "      <th>operation</th>\n",
       "      <th>amount</th>\n",
       "      <th>balance</th>\n",
       "      <th>k_symbol</th>\n",
       "    </tr>\n",
       "  </thead>\n",
       "  <tbody>\n",
       "    <tr>\n",
       "      <th>0</th>\n",
       "      <td>PRIJEM</td>\n",
       "      <td>VKLAD</td>\n",
       "      <td>700.0</td>\n",
       "      <td>700.0</td>\n",
       "      <td>unspecified</td>\n",
       "    </tr>\n",
       "    <tr>\n",
       "      <th>1</th>\n",
       "      <td>PRIJEM</td>\n",
       "      <td>VKLAD</td>\n",
       "      <td>900.0</td>\n",
       "      <td>900.0</td>\n",
       "      <td>unspecified</td>\n",
       "    </tr>\n",
       "    <tr>\n",
       "      <th>2</th>\n",
       "      <td>PRIJEM</td>\n",
       "      <td>VKLAD</td>\n",
       "      <td>1000.0</td>\n",
       "      <td>1000.0</td>\n",
       "      <td>unspecified</td>\n",
       "    </tr>\n",
       "    <tr>\n",
       "      <th>3</th>\n",
       "      <td>PRIJEM</td>\n",
       "      <td>VKLAD</td>\n",
       "      <td>600.0</td>\n",
       "      <td>600.0</td>\n",
       "      <td>unspecified</td>\n",
       "    </tr>\n",
       "    <tr>\n",
       "      <th>4</th>\n",
       "      <td>PRIJEM</td>\n",
       "      <td>VKLAD</td>\n",
       "      <td>400.0</td>\n",
       "      <td>400.0</td>\n",
       "      <td>unspecified</td>\n",
       "    </tr>\n",
       "    <tr>\n",
       "      <th>...</th>\n",
       "      <td>...</td>\n",
       "      <td>...</td>\n",
       "      <td>...</td>\n",
       "      <td>...</td>\n",
       "      <td>...</td>\n",
       "    </tr>\n",
       "    <tr>\n",
       "      <th>1048570</th>\n",
       "      <td>VYDAJ</td>\n",
       "      <td>VYBER</td>\n",
       "      <td>12200.0</td>\n",
       "      <td>59783.7</td>\n",
       "      <td>unspecified</td>\n",
       "    </tr>\n",
       "    <tr>\n",
       "      <th>1048571</th>\n",
       "      <td>VYDAJ</td>\n",
       "      <td>VYBER</td>\n",
       "      <td>2600.0</td>\n",
       "      <td>81497.4</td>\n",
       "      <td>unspecified</td>\n",
       "    </tr>\n",
       "    <tr>\n",
       "      <th>1048572</th>\n",
       "      <td>VYBER</td>\n",
       "      <td>VYBER</td>\n",
       "      <td>4900.0</td>\n",
       "      <td>44784.0</td>\n",
       "      <td>unspecified</td>\n",
       "    </tr>\n",
       "    <tr>\n",
       "      <th>1048573</th>\n",
       "      <td>VYDAJ</td>\n",
       "      <td>VYBER</td>\n",
       "      <td>23500.0</td>\n",
       "      <td>60146.1</td>\n",
       "      <td>unspecified</td>\n",
       "    </tr>\n",
       "    <tr>\n",
       "      <th>1048574</th>\n",
       "      <td>VYDAJ</td>\n",
       "      <td>VYBER</td>\n",
       "      <td>11100.0</td>\n",
       "      <td>33684.0</td>\n",
       "      <td>unspecified</td>\n",
       "    </tr>\n",
       "  </tbody>\n",
       "</table>\n",
       "<p>1048575 rows × 5 columns</p>\n",
       "</div>"
      ],
      "text/plain": [
       "           type operation   amount  balance     k_symbol\n",
       "0        PRIJEM     VKLAD    700.0    700.0  unspecified\n",
       "1        PRIJEM     VKLAD    900.0    900.0  unspecified\n",
       "2        PRIJEM     VKLAD   1000.0   1000.0  unspecified\n",
       "3        PRIJEM     VKLAD    600.0    600.0  unspecified\n",
       "4        PRIJEM     VKLAD    400.0    400.0  unspecified\n",
       "...         ...       ...      ...      ...          ...\n",
       "1048570   VYDAJ     VYBER  12200.0  59783.7  unspecified\n",
       "1048571   VYDAJ     VYBER   2600.0  81497.4  unspecified\n",
       "1048572   VYBER     VYBER   4900.0  44784.0  unspecified\n",
       "1048573   VYDAJ     VYBER  23500.0  60146.1  unspecified\n",
       "1048574   VYDAJ     VYBER  11100.0  33684.0  unspecified\n",
       "\n",
       "[1048575 rows x 5 columns]"
      ]
     },
     "execution_count": 63,
     "metadata": {},
     "output_type": "execute_result"
    }
   ],
   "source": [
    "df.drop(['trans_id','account_id', 'date'],axis=1,inplace=True)\n",
    "df"
   ]
  },
  {
   "cell_type": "code",
   "execution_count": 64,
   "metadata": {},
   "outputs": [
    {
     "data": {
      "text/html": [
       "<div>\n",
       "<style scoped>\n",
       "    .dataframe tbody tr th:only-of-type {\n",
       "        vertical-align: middle;\n",
       "    }\n",
       "\n",
       "    .dataframe tbody tr th {\n",
       "        vertical-align: top;\n",
       "    }\n",
       "\n",
       "    .dataframe thead th {\n",
       "        text-align: right;\n",
       "    }\n",
       "</style>\n",
       "<table border=\"1\" class=\"dataframe\">\n",
       "  <thead>\n",
       "    <tr style=\"text-align: right;\">\n",
       "      <th></th>\n",
       "      <th>Type</th>\n",
       "      <th>operation</th>\n",
       "      <th>k_symbol</th>\n",
       "      <th>balance</th>\n",
       "      <th>amount</th>\n",
       "    </tr>\n",
       "  </thead>\n",
       "  <tbody>\n",
       "    <tr>\n",
       "      <th>0</th>\n",
       "      <td>VYBER</td>\n",
       "      <td>PREVOD NA UCET</td>\n",
       "      <td>SLUZBY</td>\n",
       "      <td>8511.0</td>\n",
       "      <td>2255.0</td>\n",
       "    </tr>\n",
       "    <tr>\n",
       "      <th>1</th>\n",
       "      <td>VYBER</td>\n",
       "      <td>PREVOD NA UCET</td>\n",
       "      <td>UROK</td>\n",
       "      <td>5860.0</td>\n",
       "      <td>1553.0</td>\n",
       "    </tr>\n",
       "    <tr>\n",
       "      <th>2</th>\n",
       "      <td>VYBER</td>\n",
       "      <td>VYBER KARTOU</td>\n",
       "      <td>UVER</td>\n",
       "      <td>9976.0</td>\n",
       "      <td>2643.0</td>\n",
       "    </tr>\n",
       "    <tr>\n",
       "      <th>3</th>\n",
       "      <td>VYBER</td>\n",
       "      <td>VYBER KARTOU</td>\n",
       "      <td>UVER</td>\n",
       "      <td>5488.0</td>\n",
       "      <td>1454.0</td>\n",
       "    </tr>\n",
       "    <tr>\n",
       "      <th>4</th>\n",
       "      <td>VYBER</td>\n",
       "      <td>VYBER KARTOU</td>\n",
       "      <td>SLUZBY</td>\n",
       "      <td>28143.0</td>\n",
       "      <td>7457.0</td>\n",
       "    </tr>\n",
       "    <tr>\n",
       "      <th>...</th>\n",
       "      <td>...</td>\n",
       "      <td>...</td>\n",
       "      <td>...</td>\n",
       "      <td>...</td>\n",
       "      <td>...</td>\n",
       "    </tr>\n",
       "    <tr>\n",
       "      <th>999995</th>\n",
       "      <td>VYBER</td>\n",
       "      <td>VYBER KARTOU</td>\n",
       "      <td>UVER</td>\n",
       "      <td>13931.0</td>\n",
       "      <td>3691.0</td>\n",
       "    </tr>\n",
       "    <tr>\n",
       "      <th>999996</th>\n",
       "      <td>VYBER</td>\n",
       "      <td>VYBER</td>\n",
       "      <td>UROK</td>\n",
       "      <td>23839.0</td>\n",
       "      <td>6317.0</td>\n",
       "    </tr>\n",
       "    <tr>\n",
       "      <th>999997</th>\n",
       "      <td>VYBER</td>\n",
       "      <td>VYBER KARTOU</td>\n",
       "      <td>UROK</td>\n",
       "      <td>25706.0</td>\n",
       "      <td>6812.0</td>\n",
       "    </tr>\n",
       "    <tr>\n",
       "      <th>999998</th>\n",
       "      <td>VYBER</td>\n",
       "      <td>VYBER KARTOU</td>\n",
       "      <td>SLUZBY</td>\n",
       "      <td>41000.0</td>\n",
       "      <td>10865.0</td>\n",
       "    </tr>\n",
       "    <tr>\n",
       "      <th>999999</th>\n",
       "      <td>VYBER</td>\n",
       "      <td>VYBER KARTOU</td>\n",
       "      <td>UVER</td>\n",
       "      <td>2525.0</td>\n",
       "      <td>669.0</td>\n",
       "    </tr>\n",
       "  </tbody>\n",
       "</table>\n",
       "<p>1000000 rows × 5 columns</p>\n",
       "</div>"
      ],
      "text/plain": [
       "         Type       operation k_symbol  balance   amount\n",
       "0       VYBER  PREVOD NA UCET   SLUZBY   8511.0   2255.0\n",
       "1       VYBER  PREVOD NA UCET     UROK   5860.0   1553.0\n",
       "2       VYBER    VYBER KARTOU     UVER   9976.0   2643.0\n",
       "3       VYBER    VYBER KARTOU     UVER   5488.0   1454.0\n",
       "4       VYBER    VYBER KARTOU   SLUZBY  28143.0   7457.0\n",
       "...       ...             ...      ...      ...      ...\n",
       "999995  VYBER    VYBER KARTOU     UVER  13931.0   3691.0\n",
       "999996  VYBER           VYBER     UROK  23839.0   6317.0\n",
       "999997  VYBER    VYBER KARTOU     UROK  25706.0   6812.0\n",
       "999998  VYBER    VYBER KARTOU   SLUZBY  41000.0  10865.0\n",
       "999999  VYBER    VYBER KARTOU     UVER   2525.0    669.0\n",
       "\n",
       "[1000000 rows x 5 columns]"
      ]
     },
     "execution_count": 64,
     "metadata": {},
     "output_type": "execute_result"
    }
   ],
   "source": [
    "generated_data"
   ]
  },
  {
   "cell_type": "code",
   "execution_count": 65,
   "metadata": {},
   "outputs": [
    {
     "data": {
      "text/plain": [
       "(1000000, 5)"
      ]
     },
     "execution_count": 65,
     "metadata": {},
     "output_type": "execute_result"
    }
   ],
   "source": [
    "new_data = df.sample(n=1000000, replace=False, random_state=1)    #Both datasets have same shape\n",
    "new_data.shape                                                    #new_data is original dataset with 1M row shape"
   ]
  },
  {
   "cell_type": "code",
   "execution_count": 66,
   "metadata": {},
   "outputs": [
    {
     "data": {
      "text/plain": [
       "VYBER      15724\n",
       "PRIJEM    381590\n",
       "VYDAJ     602686\n",
       "Name: type, dtype: int64"
      ]
     },
     "execution_count": 66,
     "metadata": {},
     "output_type": "execute_result"
    }
   ],
   "source": [
    "new_data['type'].value_counts(ascending = True)                 #Finding number of distinct values and total values"
   ]
  },
  {
   "cell_type": "code",
   "execution_count": 67,
   "metadata": {},
   "outputs": [
    {
     "data": {
      "text/plain": [
       "VYDAJ        126\n",
       "PRIJEM     65553\n",
       "VYBER     934321\n",
       "Name: Type, dtype: int64"
      ]
     },
     "execution_count": 67,
     "metadata": {},
     "output_type": "execute_result"
    }
   ],
   "source": [
    "generated_data['Type'].value_counts(ascending = True)"
   ]
  },
  {
   "cell_type": "code",
   "execution_count": 68,
   "metadata": {},
   "outputs": [
    {
     "name": "stdout",
     "output_type": "stream",
     "text": [
      "P=1.000 Q=1.000\n"
     ]
    },
    {
     "data": {
      "image/png": "[encoded data removed]",
      "text/plain": [
       "<Figure size 432x288 with 2 Axes>"
      ]
     },
     "metadata": {
      "needs_background": "light"
     },
     "output_type": "display_data"
    }
   ],
   "source": [
    "from matplotlib import pyplot\n",
    "type = ['VYBER', 'PRIJEM', 'VYDAJ']\n",
    "p = [0.015724, 0.381590, 0.602686]\n",
    "q = [0.000126, 0.065553, 0.934321]\n",
    "print('P=%.3f Q=%.3f' % (sum(p), sum(q)))\n",
    "# plot first distribution\n",
    "pyplot.subplot(2,1,1)\n",
    "pyplot.bar(type, p)\n",
    "# plot second distribution\n",
    "pyplot.subplot(2,1,2)\n",
    "pyplot.bar(type, q)\n",
    "# show the plot\n",
    "pyplot.show()"
   ]
  },
  {
   "cell_type": "code",
   "execution_count": 69,
   "metadata": {},
   "outputs": [],
   "source": [
    "from math import log2\n",
    "# calculate the kl divergence\n",
    "def kl_divergence(p, q):\n",
    "    return sum(p[i] * log2(p[i]/q[i]) for i in range(len(p)))\n"
   ]
  },
  {
   "cell_type": "code",
   "execution_count": 70,
   "metadata": {},
   "outputs": [
    {
     "name": "stdout",
     "output_type": "stream",
     "text": [
      "0.6980172597980372\n"
     ]
    }
   ],
   "source": [
    "# calculate (P || Q)\n",
    "kl_pq = kl_divergence(p, q) \n",
    "print(kl_pq)"
   ]
  },
  {
   "cell_type": "code",
   "execution_count": 71,
   "metadata": {},
   "outputs": [
    {
     "name": "stdout",
     "output_type": "stream",
     "text": [
      "0.4235024544637879\n"
     ]
    }
   ],
   "source": [
    "# Calculate (Q // P) reverse\n",
    "kl_qp = kl_divergence(q, p)\n",
    "print(kl_qp)"
   ]
  },
  {
   "cell_type": "code",
   "execution_count": 72,
   "metadata": {},
   "outputs": [
    {
     "data": {
      "text/plain": [
       "<matplotlib.axes._subplots.AxesSubplot at 0x19b4f04a908>"
      ]
     },
     "execution_count": 72,
     "metadata": {},
     "output_type": "execute_result"
    },
    {
     "data": {
      "image/png": "[encoded data removed]",
      "text/plain": [
       "<Figure size 720x720 with 1 Axes>"
      ]
     },
     "metadata": {
      "needs_background": "light"
     },
     "output_type": "display_data"
    }
   ],
   "source": [
    "new_data['operation'].hist(figsize=(10,10))"
   ]
  },
  {
   "cell_type": "code",
   "execution_count": 73,
   "metadata": {},
   "outputs": [
    {
     "data": {
      "text/plain": [
       "<matplotlib.axes._subplots.AxesSubplot at 0x19b4f2b15f8>"
      ]
     },
     "execution_count": 73,
     "metadata": {},
     "output_type": "execute_result"
    },
    {
     "data": {
      "image/png": "[encoded data removed]",
      "text/plain": [
       "<Figure size 720x720 with 1 Axes>"
      ]
     },
     "metadata": {
      "needs_background": "light"
     },
     "output_type": "display_data"
    }
   ],
   "source": [
    "generated_data['operation'].hist(figsize=(10,10))"
   ]
  },
  {
   "cell_type": "code",
   "execution_count": 74,
   "metadata": {},
   "outputs": [
    {
     "data": {
      "text/plain": [
       "Unspecifed-Operation      1135\n",
       "VYBER KARTOU              7296\n",
       "PREVOD Z UCTU            62213\n",
       "VKLAD                   149036\n",
       "unspecified             169258\n",
       "PREVOD NA UCET          198696\n",
       "VYBER                   412366\n",
       "Name: operation, dtype: int64"
      ]
     },
     "execution_count": 74,
     "metadata": {},
     "output_type": "execute_result"
    }
   ],
   "source": [
    "new_data['operation'].value_counts(ascending = True)                 #unequal shape due to outliers"
   ]
  },
  {
   "cell_type": "code",
   "execution_count": 75,
   "metadata": {},
   "outputs": [
    {
     "data": {
      "text/plain": [
       "PREVOD Z UCTU          1\n",
       "VKLAD                  3\n",
       "VYBER              83022\n",
       "PREVOD NA UCET    276738\n",
       "VYBER KARTOU      640236\n",
       "Name: operation, dtype: int64"
      ]
     },
     "execution_count": 75,
     "metadata": {},
     "output_type": "execute_result"
    }
   ],
   "source": [
    "generated_data['operation'].value_counts(ascending = True) #Limitation of taking five highest values and converting them as part of decoding one hot encoding method"
   ]
  },
  {
   "cell_type": "code",
   "execution_count": 76,
   "metadata": {},
   "outputs": [
    {
     "name": "stdout",
     "output_type": "stream",
     "text": [
      "P=1.000 Q=1.000\n"
     ]
    },
    {
     "data": {
      "image/png": "[encoded data removed]",
      "text/plain": [
       "<Figure size 432x288 with 2 Axes>"
      ]
     },
     "metadata": {
      "needs_background": "light"
     },
     "output_type": "display_data"
    }
   ],
   "source": [
    "from matplotlib import pyplot\n",
    "operation = ['VYBER KARTOU', 'PREVOD Z UCTU', 'VKLAD','PREVOD NA UCET','VYBER']    #not including outliers (unspecified operation and operation)\n",
    "p = [0.008, 0.074, 0.175, 0.258, 0.485]  #Only taking proportion of 5 distinct values instead of 7 due to GANs generation of different data\n",
    "q = [0.000001, 0.000003, 0.083022, 0.276738, 0.640236]   \n",
    "print('P=%.3f Q=%.3f' % (sum(p), sum(q)))\n",
    "# plot first distribution\n",
    "pyplot.subplot(2,1,1)\n",
    "pyplot.bar(operation, p)\n",
    "# plot second distribution\n",
    "pyplot.subplot(2,1,2)\n",
    "pyplot.bar(operation, q)\n",
    "# show the plot\n",
    "pyplot.show()"
   ]
  },
  {
   "cell_type": "code",
   "execution_count": 77,
   "metadata": {},
   "outputs": [],
   "source": [
    "from math import log2\n",
    "# calculate the kl divergence\n",
    "def kl_divergence(p, q):\n",
    "    return sum(p[i] * log2(p[i]/q[i]) for i in range(len(p)))"
   ]
  },
  {
   "cell_type": "code",
   "execution_count": 78,
   "metadata": {},
   "outputs": [
    {
     "name": "stdout",
     "output_type": "stream",
     "text": [
      "1.1512729060530296\n"
     ]
    }
   ],
   "source": [
    "# calculate (P || Q)\n",
    "kl_pq = kl_divergence(p, q) \n",
    "print(kl_pq)"
   ]
  },
  {
   "cell_type": "code",
   "execution_count": 79,
   "metadata": {},
   "outputs": [
    {
     "name": "stdout",
     "output_type": "stream",
     "text": [
      "0.1951117860478755\n"
     ]
    }
   ],
   "source": [
    "# Calculate (Q // P)\n",
    "kl_qp = kl_divergence(q, p)\n",
    "print(kl_qp)"
   ]
  },
  {
   "cell_type": "code",
   "execution_count": 80,
   "metadata": {},
   "outputs": [
    {
     "data": {
      "text/plain": [
       "<matplotlib.axes._subplots.AxesSubplot at 0x19b4f32add8>"
      ]
     },
     "execution_count": 80,
     "metadata": {},
     "output_type": "execute_result"
    },
    {
     "data": {
      "image/png": "[encoded data removed]",
      "text/plain": [
       "<Figure size 720x720 with 1 Axes>"
      ]
     },
     "metadata": {
      "needs_background": "light"
     },
     "output_type": "display_data"
    }
   ],
   "source": [
    "new_data['k_symbol'].hist(figsize=(10,10))"
   ]
  },
  {
   "cell_type": "code",
   "execution_count": 81,
   "metadata": {},
   "outputs": [
    {
     "data": {
      "text/plain": [
       "<matplotlib.axes._subplots.AxesSubplot at 0x19b4e8eee48>"
      ]
     },
     "execution_count": 81,
     "metadata": {},
     "output_type": "execute_result"
    },
    {
     "data": {
      "image/png": "[encoded data removed]",
      "text/plain": [
       "<Figure size 720x720 with 1 Axes>"
      ]
     },
     "metadata": {
      "needs_background": "light"
     },
     "output_type": "display_data"
    }
   ],
   "source": [
    "generated_data['k_symbol'].hist(figsize=(10,10))"
   ]
  },
  {
   "cell_type": "code",
   "execution_count": 82,
   "metadata": {},
   "outputs": [
    {
     "data": {
      "text/plain": [
       "SANKC. UROK      1466\n",
       "UVER            12910\n",
       "POJISTNE        17625\n",
       "DUCHOD          29006\n",
       "SIPO           112627\n",
       "SLUZBY         148748\n",
       "UROK           170330\n",
       "unspecified    507288\n",
       "Name: k_symbol, dtype: int64"
      ]
     },
     "execution_count": 82,
     "metadata": {},
     "output_type": "execute_result"
    }
   ],
   "source": [
    "new_data['k_symbol'].value_counts(ascending = True)"
   ]
  },
  {
   "cell_type": "code",
   "execution_count": 83,
   "metadata": {},
   "outputs": [
    {
     "data": {
      "text/plain": [
       "DUCHOD         219\n",
       "POJISTNE     72406\n",
       "SLUZBY      197595\n",
       "UVER        303562\n",
       "UROK        426218\n",
       "Name: k_symbol, dtype: int64"
      ]
     },
     "execution_count": 83,
     "metadata": {},
     "output_type": "execute_result"
    }
   ],
   "source": [
    "generated_data['k_symbol'].value_counts(ascending = True)        #3 distinct values missing from original "
   ]
  },
  {
   "cell_type": "code",
   "execution_count": 84,
   "metadata": {},
   "outputs": [
    {
     "name": "stdout",
     "output_type": "stream",
     "text": [
      "P=1.000 Q=1.000\n"
     ]
    },
    {
     "data": {
      "image/png": "[encoded data removed]",
      "text/plain": [
       "<Figure size 432x288 with 2 Axes>"
      ]
     },
     "metadata": {
      "needs_background": "light"
     },
     "output_type": "display_data"
    }
   ],
   "source": [
    "from matplotlib import pyplot\n",
    "k_symbol = ['UVER', 'POJISTNE', 'DUCHOD', 'UROK', 'SLUZBY']                     \n",
    "p = [0.0341, 0.0466, 0.393, 0.077, 0.4493]                  #Only comparing 5 distinct values generated in synthetic data\n",
    "q = [0.000219, 0.072406, 0.197595, 0.303562, 0.426218]      #Formula does not work without category matching \n",
    "                                              #Limitation of taking five highest values and converting them as part of decoding one hot encoding methodprint('P=%.3f Q=%.3f' % (sum(p), sum(q)))\n",
    "# plot first distribution (original data)\n",
    "pyplot.subplot(2,1,1)\n",
    "pyplot.bar(k_symbol, p)\n",
    "# plot second distribution (synthetic data)\n",
    "pyplot.subplot(2,1,2)\n",
    "pyplot.bar(k_symbol, q)\n",
    "# show the plot\n",
    "pyplot.show()"
   ]
  },
  {
   "cell_type": "code",
   "execution_count": 85,
   "metadata": {},
   "outputs": [],
   "source": [
    "from math import log2\n",
    "# calculate the kl divergence\n",
    "def kl_divergence(p, q):\n",
    "    return sum(p[i] * log2(p[i]/q[i]) for i in range(len(p)))"
   ]
  },
  {
   "cell_type": "code",
   "execution_count": 86,
   "metadata": {},
   "outputs": [
    {
     "name": "stdout",
     "output_type": "stream",
     "text": [
      "0.4903603687445523\n"
     ]
    }
   ],
   "source": [
    "# calculate (P || Q)\n",
    "kl_pq = kl_divergence(p, q) \n",
    "print(kl_pq)"
   ]
  },
  {
   "cell_type": "code",
   "execution_count": 87,
   "metadata": {},
   "outputs": [
    {
     "name": "stdout",
     "output_type": "stream",
     "text": [
      "0.41676626168375147\n"
     ]
    }
   ],
   "source": [
    "# Calculate (Q // P)\n",
    "kl_qp = kl_divergence(q, p)\n",
    "print(kl_qp)"
   ]
  },
  {
   "cell_type": "code",
   "execution_count": 88,
   "metadata": {
    "scrolled": true
   },
   "outputs": [
    {
     "data": {
      "text/plain": [
       "<matplotlib.axes._subplots.AxesSubplot at 0x19b03245550>"
      ]
     },
     "execution_count": 88,
     "metadata": {},
     "output_type": "execute_result"
    },
    {
     "data": {
      "image/png": "[encoded data removed]",
      "text/plain": [
       "<Figure size 720x720 with 1 Axes>"
      ]
     },
     "metadata": {
      "needs_background": "light"
     },
     "output_type": "display_data"
    }
   ],
   "source": [
    "new_data['amount'].hist(figsize=(10,10))                                      "
   ]
  },
  {
   "cell_type": "code",
   "execution_count": 89,
   "metadata": {},
   "outputs": [
    {
     "data": {
      "text/plain": [
       "<matplotlib.axes._subplots.AxesSubplot at 0x19b032b6b38>"
      ]
     },
     "execution_count": 89,
     "metadata": {},
     "output_type": "execute_result"
    },
    {
     "data": {
      "image/png": "[encoded data removed]",
      "text/plain": [
       "<Figure size 720x720 with 1 Axes>"
      ]
     },
     "metadata": {
      "needs_background": "light"
     },
     "output_type": "display_data"
    }
   ],
   "source": [
    "generated_data['amount'].hist(figsize=(10,10))             #Uneven range from synthetic data generated"
   ]
  },
  {
   "cell_type": "code",
   "execution_count": 100,
   "metadata": {},
   "outputs": [],
   "source": [
    "from pandas.plotting import scatter_matrix\n",
    "from sklearn.preprocessing import MinMaxScaler\n",
    "from matplotlib import pyplot"
   ]
  },
  {
   "cell_type": "code",
   "execution_count": 101,
   "metadata": {},
   "outputs": [
    {
     "ename": "IndexError",
     "evalue": "only integers, slices (`:`), ellipsis (`...`), numpy.newaxis (`None`) and integer or boolean arrays are valid indices",
     "output_type": "error",
     "traceback": [
      "\u001b[1;31m---------------------------------------------------------------------------\u001b[0m",
      "\u001b[1;31mIndexError\u001b[0m                                Traceback (most recent call last)",
      "\u001b[1;32m<ipython-input-101-2934fd9442a5>\u001b[0m in \u001b[0;36m<module>\u001b[1;34m\u001b[0m\n\u001b[0;32m      1\u001b[0m \u001b[1;32mimport\u001b[0m \u001b[0mnumpy\u001b[0m \u001b[1;32mas\u001b[0m \u001b[0mnp\u001b[0m\u001b[1;33m\u001b[0m\u001b[1;33m\u001b[0m\u001b[0m\n\u001b[1;32m----> 2\u001b[1;33m \u001b[0mnew_data\u001b[0m \u001b[1;33m=\u001b[0m \u001b[0mnew_data\u001b[0m\u001b[1;33m[\u001b[0m\u001b[1;34m'amount'\u001b[0m\u001b[1;33m]\u001b[0m\u001b[1;33m.\u001b[0m\u001b[0mvalues\u001b[0m\u001b[1;33m.\u001b[0m\u001b[0mreshape\u001b[0m\u001b[1;33m(\u001b[0m\u001b[1;33m-\u001b[0m\u001b[1;36m1\u001b[0m\u001b[1;33m,\u001b[0m \u001b[1;36m1\u001b[0m\u001b[1;33m)\u001b[0m\u001b[1;33m\u001b[0m\u001b[1;33m\u001b[0m\u001b[0m\n\u001b[0m\u001b[0;32m      3\u001b[0m \u001b[0mgenerated_data\u001b[0m \u001b[1;33m=\u001b[0m \u001b[0mgenerated_data\u001b[0m\u001b[1;33m[\u001b[0m\u001b[1;34m'amount'\u001b[0m\u001b[1;33m]\u001b[0m\u001b[1;33m.\u001b[0m\u001b[0mvalues\u001b[0m\u001b[1;33m.\u001b[0m\u001b[0mreshape\u001b[0m\u001b[1;33m(\u001b[0m\u001b[1;33m-\u001b[0m\u001b[1;36m1\u001b[0m\u001b[1;33m,\u001b[0m \u001b[1;36m1\u001b[0m\u001b[1;33m)\u001b[0m\u001b[1;33m\u001b[0m\u001b[1;33m\u001b[0m\u001b[0m\n",
      "\u001b[1;31mIndexError\u001b[0m: only integers, slices (`:`), ellipsis (`...`), numpy.newaxis (`None`) and integer or boolean arrays are valid indices"
     ]
    }
   ],
   "source": [
    "import numpy as np\n",
    "new_data = new_data['amount'].values.reshape(-1, 1)\n",
    "generated_data = generated_data['amount'].values.reshape(-1, 1)       #Error generated after restarting the kernal?"
   ]
  },
  {
   "cell_type": "code",
   "execution_count": 102,
   "metadata": {},
   "outputs": [],
   "source": [
    "trans = MinMaxScaler()\n",
    "data0 = trans.fit_transform(new_data)                          #Rescaled 'amount' column to have equal ranges\n",
    "data1 = trans.fit_transform(generated_data)"
   ]
  },
  {
   "cell_type": "code",
   "execution_count": 103,
   "metadata": {},
   "outputs": [],
   "source": [
    "dataset0 = pd.DataFrame(data0)\n",
    "dataset1 = pd.DataFrame(data1)"
   ]
  },
  {
   "cell_type": "code",
   "execution_count": 104,
   "metadata": {},
   "outputs": [
    {
     "name": "stdout",
     "output_type": "stream",
     "text": [
      "                    0\n",
      "count  1000000.000000\n",
      "mean         0.317314\n",
      "std          0.087994\n",
      "min          0.000000\n",
      "25%          0.253250\n",
      "50%          0.295939\n",
      "75%          0.361376\n",
      "max          1.000000\n",
      "                    0\n",
      "count  1000000.000000\n",
      "mean         0.269614\n",
      "std          0.191995\n",
      "min          0.000000\n",
      "25%          0.117584\n",
      "50%          0.220392\n",
      "75%          0.381303\n",
      "max          1.000000\n"
     ]
    }
   ],
   "source": [
    "print(dataset0.describe())                                         #Original Data Rescaled statistics\n",
    "print(dataset1.describe())                                         #Synthetic Data Rescaled statistics"
   ]
  },
  {
   "cell_type": "code",
   "execution_count": 142,
   "metadata": {},
   "outputs": [
    {
     "data": {
      "image/png": "[encoded data removed]",
      "text/plain": [
       "<Figure size 432x288 with 1 Axes>"
      ]
     },
     "metadata": {
      "needs_background": "light"
     },
     "output_type": "display_data"
    }
   ],
   "source": [
    "from matplotlib import pyplot as plt       #Original Amount Column Histogram with common range in order to compare\n",
    "import numpy as np   \n",
    "   \n",
    "a = np.array(dataset0) \n",
    "plt.hist(a, bins = [0, 0.2, 0.4, 0.6, 0.8, 1]) \n",
    "plt.title(\"histogramp\") \n",
    "plt.show()  #Probability Distribution counted by proportion of data points in each bin in proportion to total"
   ]
  },
  {
   "cell_type": "code",
   "execution_count": 141,
   "metadata": {},
   "outputs": [
    {
     "data": {
      "image/png": "[encoded data removed]",
      "text/plain": [
       "<Figure size 432x288 with 1 Axes>"
      ]
     },
     "metadata": {
      "needs_background": "light"
     },
     "output_type": "display_data"
    }
   ],
   "source": [
    "from matplotlib import pyplot as plt    #Synthetic Amount Column Histogram with common range in order to compare\n",
    "import numpy as np  \n",
    "   \n",
    "a = np.array(dataset1) \n",
    "plt.hist(a, bins = [0, 0.2, 0.4, 0.6, 0.8, 1]) \n",
    "plt.title(\"histogramq\") \n",
    "plt.show()  #Probability Distribution counted by proportion of data points in each bin in proportion to total"
   ]
  },
  {
   "cell_type": "code",
   "execution_count": 133,
   "metadata": {},
   "outputs": [],
   "source": [
    "p = [0.01, 0.15, 0.01, 0.83]\n",
    "q = [0.59, 0.30 , 0.15, 0.05, 0.01]"
   ]
  },
  {
   "cell_type": "code",
   "execution_count": 134,
   "metadata": {},
   "outputs": [],
   "source": [
    "from math import log2\n",
    "# calculate the kl divergence\n",
    "def kl_divergence(p, q):\n",
    "    return sum(p[i] * log2(p[i]/q[i]) for i in range(len(p)))"
   ]
  },
  {
   "cell_type": "code",
   "execution_count": 135,
   "metadata": {},
   "outputs": [
    {
     "name": "stdout",
     "output_type": "stream",
     "text": [
      "3.1161870728117327\n"
     ]
    }
   ],
   "source": [
    "# calculate (P || Q)\n",
    "kl_pq = kl_divergence(p, q) \n",
    "print(kl_pq)                                                 "
   ]
  },
  {
   "cell_type": "code",
   "execution_count": 136,
   "metadata": {},
   "outputs": [
    {
     "ename": "IndexError",
     "evalue": "list index out of range",
     "output_type": "error",
     "traceback": [
      "\u001b[1;31m---------------------------------------------------------------------------\u001b[0m",
      "\u001b[1;31mIndexError\u001b[0m                                Traceback (most recent call last)",
      "\u001b[1;32m<ipython-input-136-33f21cb0f4de>\u001b[0m in \u001b[0;36m<module>\u001b[1;34m\u001b[0m\n\u001b[0;32m      1\u001b[0m \u001b[1;31m# Calculate (Q // P)\u001b[0m\u001b[1;33m\u001b[0m\u001b[1;33m\u001b[0m\u001b[1;33m\u001b[0m\u001b[0m\n\u001b[1;32m----> 2\u001b[1;33m \u001b[0mkl_qp\u001b[0m \u001b[1;33m=\u001b[0m \u001b[0mkl_divergence\u001b[0m\u001b[1;33m(\u001b[0m\u001b[0mq\u001b[0m\u001b[1;33m,\u001b[0m \u001b[0mp\u001b[0m\u001b[1;33m)\u001b[0m\u001b[1;33m\u001b[0m\u001b[1;33m\u001b[0m\u001b[0m\n\u001b[0m\u001b[0;32m      3\u001b[0m \u001b[0mprint\u001b[0m\u001b[1;33m(\u001b[0m\u001b[0mkl_qp\u001b[0m\u001b[1;33m)\u001b[0m\u001b[1;33m\u001b[0m\u001b[1;33m\u001b[0m\u001b[0m\n",
      "\u001b[1;32m<ipython-input-134-516171a1360d>\u001b[0m in \u001b[0;36mkl_divergence\u001b[1;34m(p, q)\u001b[0m\n\u001b[0;32m      2\u001b[0m \u001b[1;31m# calculate the kl divergence\u001b[0m\u001b[1;33m\u001b[0m\u001b[1;33m\u001b[0m\u001b[1;33m\u001b[0m\u001b[0m\n\u001b[0;32m      3\u001b[0m \u001b[1;32mdef\u001b[0m \u001b[0mkl_divergence\u001b[0m\u001b[1;33m(\u001b[0m\u001b[0mp\u001b[0m\u001b[1;33m,\u001b[0m \u001b[0mq\u001b[0m\u001b[1;33m)\u001b[0m\u001b[1;33m:\u001b[0m\u001b[1;33m\u001b[0m\u001b[1;33m\u001b[0m\u001b[0m\n\u001b[1;32m----> 4\u001b[1;33m     \u001b[1;32mreturn\u001b[0m \u001b[0msum\u001b[0m\u001b[1;33m(\u001b[0m\u001b[0mp\u001b[0m\u001b[1;33m[\u001b[0m\u001b[0mi\u001b[0m\u001b[1;33m]\u001b[0m \u001b[1;33m*\u001b[0m \u001b[0mlog2\u001b[0m\u001b[1;33m(\u001b[0m\u001b[0mp\u001b[0m\u001b[1;33m[\u001b[0m\u001b[0mi\u001b[0m\u001b[1;33m]\u001b[0m\u001b[1;33m/\u001b[0m\u001b[0mq\u001b[0m\u001b[1;33m[\u001b[0m\u001b[0mi\u001b[0m\u001b[1;33m]\u001b[0m\u001b[1;33m)\u001b[0m \u001b[1;32mfor\u001b[0m \u001b[0mi\u001b[0m \u001b[1;32min\u001b[0m \u001b[0mrange\u001b[0m\u001b[1;33m(\u001b[0m\u001b[0mlen\u001b[0m\u001b[1;33m(\u001b[0m\u001b[0mp\u001b[0m\u001b[1;33m)\u001b[0m\u001b[1;33m)\u001b[0m\u001b[1;33m)\u001b[0m\u001b[1;33m\u001b[0m\u001b[1;33m\u001b[0m\u001b[0m\n\u001b[0m",
      "\u001b[1;32m<ipython-input-134-516171a1360d>\u001b[0m in \u001b[0;36m<genexpr>\u001b[1;34m(.0)\u001b[0m\n\u001b[0;32m      2\u001b[0m \u001b[1;31m# calculate the kl divergence\u001b[0m\u001b[1;33m\u001b[0m\u001b[1;33m\u001b[0m\u001b[1;33m\u001b[0m\u001b[0m\n\u001b[0;32m      3\u001b[0m \u001b[1;32mdef\u001b[0m \u001b[0mkl_divergence\u001b[0m\u001b[1;33m(\u001b[0m\u001b[0mp\u001b[0m\u001b[1;33m,\u001b[0m \u001b[0mq\u001b[0m\u001b[1;33m)\u001b[0m\u001b[1;33m:\u001b[0m\u001b[1;33m\u001b[0m\u001b[1;33m\u001b[0m\u001b[0m\n\u001b[1;32m----> 4\u001b[1;33m     \u001b[1;32mreturn\u001b[0m \u001b[0msum\u001b[0m\u001b[1;33m(\u001b[0m\u001b[0mp\u001b[0m\u001b[1;33m[\u001b[0m\u001b[0mi\u001b[0m\u001b[1;33m]\u001b[0m \u001b[1;33m*\u001b[0m \u001b[0mlog2\u001b[0m\u001b[1;33m(\u001b[0m\u001b[0mp\u001b[0m\u001b[1;33m[\u001b[0m\u001b[0mi\u001b[0m\u001b[1;33m]\u001b[0m\u001b[1;33m/\u001b[0m\u001b[0mq\u001b[0m\u001b[1;33m[\u001b[0m\u001b[0mi\u001b[0m\u001b[1;33m]\u001b[0m\u001b[1;33m)\u001b[0m \u001b[1;32mfor\u001b[0m \u001b[0mi\u001b[0m \u001b[1;32min\u001b[0m \u001b[0mrange\u001b[0m\u001b[1;33m(\u001b[0m\u001b[0mlen\u001b[0m\u001b[1;33m(\u001b[0m\u001b[0mp\u001b[0m\u001b[1;33m)\u001b[0m\u001b[1;33m)\u001b[0m\u001b[1;33m)\u001b[0m\u001b[1;33m\u001b[0m\u001b[1;33m\u001b[0m\u001b[0m\n\u001b[0m",
      "\u001b[1;31mIndexError\u001b[0m: list index out of range"
     ]
    }
   ],
   "source": [
    "# Calculate (Q // P)\n",
    "kl_qp = kl_divergence(q, p)\n",
    "print(kl_qp)                                        #Cannot calulate reverse, possibly due to being numerical column? "
   ]
  },
  {
   "cell_type": "code",
   "execution_count": 90,
   "metadata": {},
   "outputs": [
    {
     "data": {
      "text/plain": [
       "<matplotlib.axes._subplots.AxesSubplot at 0x19b03345ba8>"
      ]
     },
     "execution_count": 90,
     "metadata": {},
     "output_type": "execute_result"
    },
    {
     "data": {
      "image/png": "[encoded data removed]",
      "text/plain": [
       "<Figure size 720x720 with 1 Axes>"
      ]
     },
     "metadata": {
      "needs_background": "light"
     },
     "output_type": "display_data"
    }
   ],
   "source": [
    "generated_data['balance'].hist(figsize=(10,10))                 #Synthetic Balance Column     "
   ]
  },
  {
   "cell_type": "code",
   "execution_count": 91,
   "metadata": {},
   "outputs": [
    {
     "data": {
      "text/plain": [
       "<matplotlib.axes._subplots.AxesSubplot at 0x19b038ee470>"
      ]
     },
     "execution_count": 91,
     "metadata": {},
     "output_type": "execute_result"
    },
    {
     "data": {
      "image/png": "[encoded data removed]",
      "text/plain": [
       "<Figure size 720x720 with 1 Axes>"
      ]
     },
     "metadata": {
      "needs_background": "light"
     },
     "output_type": "display_data"
    }
   ],
   "source": [
    "new_data['balance'].hist(figsize=(10,10))                   #Original Balance Column with different range vs synthetic"
   ]
  },
  {
   "cell_type": "code",
   "execution_count": 92,
   "metadata": {},
   "outputs": [],
   "source": [
    "from pandas.plotting import scatter_matrix\n",
    "from sklearn.preprocessing import MinMaxScaler\n",
    "from matplotlib import pyplot"
   ]
  },
  {
   "cell_type": "code",
   "execution_count": 93,
   "metadata": {},
   "outputs": [],
   "source": [
    "import numpy as np\n",
    "new_data = new_data['balance'].values.reshape(-1, 1)\n",
    "generated_data = generated_data['balance'].values.reshape(-1, 1)   #Reshaped as some data points are negative and range is different"
   ]
  },
  {
   "cell_type": "code",
   "execution_count": 94,
   "metadata": {},
   "outputs": [],
   "source": [
    "trans = MinMaxScaler()\n",
    "data2 = trans.fit_transform(new_data)\n",
    "data3 = trans.fit_transform(generated_data)"
   ]
  },
  {
   "cell_type": "code",
   "execution_count": 96,
   "metadata": {},
   "outputs": [],
   "source": [
    "dataset2 = pd.DataFrame(data2) \n",
    "dataset3 = pd.DataFrame(data3)                             "
   ]
  },
  {
   "cell_type": "code",
   "execution_count": 97,
   "metadata": {},
   "outputs": [
    {
     "name": "stdout",
     "output_type": "stream",
     "text": [
      "                    0\n",
      "count  1000000.000000\n",
      "mean         0.317314\n",
      "std          0.087994\n",
      "min          0.000000\n",
      "25%          0.253250\n",
      "50%          0.295939\n",
      "75%          0.361376\n",
      "max          1.000000\n",
      "                    0\n",
      "count  1000000.000000\n",
      "mean         0.269614\n",
      "std          0.191995\n",
      "min          0.000000\n",
      "25%          0.117584\n",
      "50%          0.220392\n",
      "75%          0.381303\n",
      "max          1.000000\n"
     ]
    }
   ],
   "source": [
    "print(dataset2.describe())                                      #Original Data Rescaled statistics   \n",
    "print(dataset3.describe())                                      #Synthetic Data Rescaled statistics"
   ]
  },
  {
   "cell_type": "code",
   "execution_count": 140,
   "metadata": {},
   "outputs": [
    {
     "data": {
      "image/png": "[encoded data removed]",
      "text/plain": [
       "<Figure size 432x288 with 1 Axes>"
      ]
     },
     "metadata": {
      "needs_background": "light"
     },
     "output_type": "display_data"
    }
   ],
   "source": [
    "from matplotlib import pyplot as plt ##Probability Distribution counted by proportion of data points in each bin in proportion to total\n",
    "import numpy as np                           #Similar histogram is generated as Amount Column\n",
    "   \n",
    "a = np.array(dataset2) \n",
    "plt.hist(a, bins = [0, 0.2, 0.4, 0.6, 0.8, 1]) \n",
    "plt.title(\"histogramp\") \n",
    "plt.show()"
   ]
  },
  {
   "cell_type": "code",
   "execution_count": 139,
   "metadata": {},
   "outputs": [
    {
     "data": {
      "image/png": "[encoded data removed]",
      "text/plain": [
       "<Figure size 432x288 with 1 Axes>"
      ]
     },
     "metadata": {
      "needs_background": "light"
     },
     "output_type": "display_data"
    }
   ],
   "source": [
    "from matplotlib import pyplot as plt            \n",
    "                                                #Similar histogram is generated as Amount Column\n",
    "import numpy as np  \n",
    "   \n",
    "a = np.array(dataset3) \n",
    "plt.hist(a, bins = [0, 0.2, 0.4, 0.6, 0.8, 1]) \n",
    "plt.title(\"histogramq\") \n",
    "plt.show()               #Probability Distribution counted by proportion of data points in each bin in proportion to total"
   ]
  },
  {
   "cell_type": "code",
   "execution_count": 127,
   "metadata": {},
   "outputs": [],
   "source": [
    "p = [0.01, 0.15, 0.01, 0.83]                           \n",
    "q = [0.59, 0.30 , 0.15, 0.05, 0.01]   "
   ]
  },
  {
   "cell_type": "code",
   "execution_count": 128,
   "metadata": {},
   "outputs": [],
   "source": [
    "from math import log2\n",
    "# calculate the kl divergence\n",
    "def kl_divergence(p, q):\n",
    "    return sum(p[i] * log2(p[i]/q[i]) for i in range(len(p)))"
   ]
  },
  {
   "cell_type": "code",
   "execution_count": 129,
   "metadata": {},
   "outputs": [
    {
     "name": "stdout",
     "output_type": "stream",
     "text": [
      "3.1161870728117327\n"
     ]
    }
   ],
   "source": [
    "# calculate (P || Q)\n",
    "kl_pq = kl_divergence(p, q)  \n",
    "print(kl_pq)"
   ]
  }
 ],
 "metadata": {
  "kernelspec": {
   "display_name": "Python 3",
   "language": "python",
   "name": "python3"
  },
  "language_info": {
   "codemirror_mode": {
    "name": "ipython",
    "version": 3
   },
   "file_extension": ".py",
   "mimetype": "text/x-python",
   "name": "python",
   "nbconvert_exporter": "python",
   "pygments_lexer": "ipython3",
   "version": "3.6.10"
  }
 },
 "nbformat": 4,
 "nbformat_minor": 4
}
