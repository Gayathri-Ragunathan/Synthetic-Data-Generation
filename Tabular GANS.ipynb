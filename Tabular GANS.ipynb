{
  "nbformat": 4,
  "nbformat_minor": 0,
  "metadata": {
    "colab": {
      "name": "Tabular_GANS",
      "provenance": [],
      "collapsed_sections": []
    },
    "kernelspec": {
      "name": "python3",
      "display_name": "Python 3"
    }
  },
  "cells": [
    {
      "cell_type": "markdown",
      "metadata": {
        "id": "Ho8K7fsFlIY9",
        "colab_type": "text"
      },
      "source": [
        "*Importing the data using goodle drive* \n",
        "\n"
      ]
    },
    {
      "cell_type": "code",
      "metadata": {
        "id": "FzirrNmS71h-",
        "colab_type": "code",
        "colab": {
          "base_uri": "https://localhost:8080/",
          "height": 123
        },
        "outputId": "607da1c5-9488-48e6-c752-38ec7c21f48c"
      },
      "source": [
        "# connect to google drive to import data\n",
        "from google.colab import drive\n",
        "#need to input a key to connect to your drive\n",
        "drive.mount('/content/drive')"
      ],
      "execution_count": null,
      "outputs": [
        {
          "output_type": "stream",
          "text": [
            "Go to this URL in a browser: https://accounts.google.com/o/oauth2/auth?client_id=947318989803-6bn6qk8qdgf4n4g3pfee6491hc0brc4i.apps.googleusercontent.com&redirect_uri=urn%3aietf%3awg%3aoauth%3a2.0%3aoob&scope=email%20https%3a%2f%2fwww.googleapis.com%2fauth%2fdocs.test%20https%3a%2f%2fwww.googleapis.com%2fauth%2fdrive%20https%3a%2f%2fwww.googleapis.com%2fauth%2fdrive.photos.readonly%20https%3a%2f%2fwww.googleapis.com%2fauth%2fpeopleapi.readonly&response_type=code\n",
            "\n",
            "Enter your authorization code:\n",
            "··········\n",
            "Mounted at /content/drive\n"
          ],
          "name": "stdout"
        }
      ]
    },
    {
      "cell_type": "code",
      "metadata": {
        "id": "pM1ggsOR7_oc",
        "colab_type": "code",
        "colab": {
          "base_uri": "https://localhost:8080/",
          "height": 274
        },
        "outputId": "d306d14b-c04a-4988-d060-1a16bcdb3553"
      },
      "source": [
        "import pandas as pd \n",
        "import matplotlib\n",
        "df = pd.read_csv('/content/drive/My Drive/trans.csv')\n",
        "df.info()"
      ],
      "execution_count": null,
      "outputs": [
        {
          "output_type": "stream",
          "text": [
            "<class 'pandas.core.frame.DataFrame'>\n",
            "RangeIndex: 1048575 entries, 0 to 1048574\n",
            "Data columns (total 8 columns):\n",
            " #   Column      Non-Null Count    Dtype  \n",
            "---  ------      --------------    -----  \n",
            " 0   trans_id    1048575 non-null  int64  \n",
            " 1   account_id  1048575 non-null  int64  \n",
            " 2   date        1048575 non-null  int64  \n",
            " 3   type        1048575 non-null  object \n",
            " 4   operation   869912 non-null   object \n",
            " 5   amount      1048575 non-null  float64\n",
            " 6   balance     1048575 non-null  float64\n",
            " 7   k_symbol    569929 non-null   object \n",
            "dtypes: float64(2), int64(3), object(3)\n",
            "memory usage: 64.0+ MB\n"
          ],
          "name": "stdout"
        }
      ]
    },
    {
      "cell_type": "code",
      "metadata": {
        "id": "2p3DtuF6_AvW",
        "colab_type": "code",
        "colab": {
          "base_uri": "https://localhost:8080/",
          "height": 295
        },
        "outputId": "62d1884c-789b-4ac3-cd0d-d5a115b0aa6e"
      },
      "source": [
        "df.describe()"
      ],
      "execution_count": null,
      "outputs": [
        {
          "output_type": "execute_result",
          "data": {
            "text/html": [
              "<div>\n",
              "<style scoped>\n",
              "    .dataframe tbody tr th:only-of-type {\n",
              "        vertical-align: middle;\n",
              "    }\n",
              "\n",
              "    .dataframe tbody tr th {\n",
              "        vertical-align: top;\n",
              "    }\n",
              "\n",
              "    .dataframe thead th {\n",
              "        text-align: right;\n",
              "    }\n",
              "</style>\n",
              "<table border=\"1\" class=\"dataframe\">\n",
              "  <thead>\n",
              "    <tr style=\"text-align: right;\">\n",
              "      <th></th>\n",
              "      <th>trans_id</th>\n",
              "      <th>account_id</th>\n",
              "      <th>date</th>\n",
              "      <th>amount</th>\n",
              "      <th>balance</th>\n",
              "    </tr>\n",
              "  </thead>\n",
              "  <tbody>\n",
              "    <tr>\n",
              "      <th>count</th>\n",
              "      <td>1.048575e+06</td>\n",
              "      <td>1.048575e+06</td>\n",
              "      <td>1.048575e+06</td>\n",
              "      <td>1.048575e+06</td>\n",
              "      <td>1.048575e+06</td>\n",
              "    </tr>\n",
              "    <tr>\n",
              "      <th>mean</th>\n",
              "      <td>1.327034e+06</td>\n",
              "      <td>2.936277e+03</td>\n",
              "      <td>9.655599e+05</td>\n",
              "      <td>5.942088e+03</td>\n",
              "      <td>3.845673e+04</td>\n",
              "    </tr>\n",
              "    <tr>\n",
              "      <th>std</th>\n",
              "      <td>1.222294e+06</td>\n",
              "      <td>2.477151e+03</td>\n",
              "      <td>1.393231e+04</td>\n",
              "      <td>9.529394e+03</td>\n",
              "      <td>2.206851e+04</td>\n",
              "    </tr>\n",
              "    <tr>\n",
              "      <th>min</th>\n",
              "      <td>1.000000e+00</td>\n",
              "      <td>1.000000e+00</td>\n",
              "      <td>9.301010e+05</td>\n",
              "      <td>0.000000e+00</td>\n",
              "      <td>-4.112570e+04</td>\n",
              "    </tr>\n",
              "    <tr>\n",
              "      <th>25%</th>\n",
              "      <td>4.280845e+05</td>\n",
              "      <td>1.204000e+03</td>\n",
              "      <td>9.601130e+05</td>\n",
              "      <td>1.359000e+02</td>\n",
              "      <td>2.238840e+04</td>\n",
              "    </tr>\n",
              "    <tr>\n",
              "      <th>50%</th>\n",
              "      <td>8.554380e+05</td>\n",
              "      <td>2.434000e+03</td>\n",
              "      <td>9.704060e+05</td>\n",
              "      <td>2.100000e+03</td>\n",
              "      <td>3.309880e+04</td>\n",
              "    </tr>\n",
              "    <tr>\n",
              "      <th>75%</th>\n",
              "      <td>1.982606e+06</td>\n",
              "      <td>3.659000e+03</td>\n",
              "      <td>9.802120e+05</td>\n",
              "      <td>6.817000e+03</td>\n",
              "      <td>4.950220e+04</td>\n",
              "    </tr>\n",
              "    <tr>\n",
              "      <th>max</th>\n",
              "      <td>3.682986e+06</td>\n",
              "      <td>1.138200e+04</td>\n",
              "      <td>9.812190e+05</td>\n",
              "      <td>8.740000e+04</td>\n",
              "      <td>2.096370e+05</td>\n",
              "    </tr>\n",
              "  </tbody>\n",
              "</table>\n",
              "</div>"
            ],
            "text/plain": [
              "           trans_id    account_id          date        amount       balance\n",
              "count  1.048575e+06  1.048575e+06  1.048575e+06  1.048575e+06  1.048575e+06\n",
              "mean   1.327034e+06  2.936277e+03  9.655599e+05  5.942088e+03  3.845673e+04\n",
              "std    1.222294e+06  2.477151e+03  1.393231e+04  9.529394e+03  2.206851e+04\n",
              "min    1.000000e+00  1.000000e+00  9.301010e+05  0.000000e+00 -4.112570e+04\n",
              "25%    4.280845e+05  1.204000e+03  9.601130e+05  1.359000e+02  2.238840e+04\n",
              "50%    8.554380e+05  2.434000e+03  9.704060e+05  2.100000e+03  3.309880e+04\n",
              "75%    1.982606e+06  3.659000e+03  9.802120e+05  6.817000e+03  4.950220e+04\n",
              "max    3.682986e+06  1.138200e+04  9.812190e+05  8.740000e+04  2.096370e+05"
            ]
          },
          "metadata": {
            "tags": []
          },
          "execution_count": 11
        }
      ]
    },
    {
      "cell_type": "markdown",
      "metadata": {
        "id": "SW15yHfVJjSG",
        "colab_type": "text"
      },
      "source": [
        "**Installing tgan package using pip command**"
      ]
    },
    {
      "cell_type": "code",
      "metadata": {
        "id": "j26HCbXbVUN8",
        "colab_type": "code",
        "colab": {
          "base_uri": "https://localhost:8080/",
          "height": 1000
        },
        "outputId": "d651bc87-dad4-477c-80db-d0ebd190b9a3"
      },
      "source": [
        "pip install tgan"
      ],
      "execution_count": null,
      "outputs": [
        {
          "output_type": "stream",
          "text": [
            "Collecting tgan\n",
            "  Downloading https://files.pythonhosted.org/packages/90/e1/3174c7fb5e2bc6b28771797e74af060f05cb7275aa222e40be56108c303e/tgan-0.1.0-py2.py3-none-any.whl\n",
            "Collecting tensorflow<2.0,>=1.13.0\n",
            "\u001b[?25l  Downloading https://files.pythonhosted.org/packages/02/36/9a02e27f0ec248b676a380ffe910c1858e3af3027c0d4d513dd0b56a5613/tensorflow-1.15.3-cp36-cp36m-manylinux2010_x86_64.whl (110.5MB)\n",
            "\u001b[K     |████████████████████████████████| 110.5MB 90kB/s \n",
            "\u001b[?25hRequirement already satisfied: scikit-learn>=0.20.2 in /usr/local/lib/python3.6/dist-packages (from tgan) (0.22.2.post1)\n",
            "Collecting tensorpack==0.9.4\n",
            "\u001b[?25l  Downloading https://files.pythonhosted.org/packages/21/69/c825f9fbd60ebca7387ab81f5704bf43ba6605c452555e305cbe6fcca61d/tensorpack-0.9.4-py2.py3-none-any.whl (273kB)\n",
            "\u001b[K     |████████████████████████████████| 276kB 41.4MB/s \n",
            "\u001b[?25hRequirement already satisfied: numpy>=1.16.0 in /usr/local/lib/python3.6/dist-packages (from tgan) (1.18.5)\n",
            "Requirement already satisfied: pandas>=0.23.4 in /usr/local/lib/python3.6/dist-packages (from tgan) (1.0.5)\n",
            "Requirement already satisfied: astor>=0.6.0 in /usr/local/lib/python3.6/dist-packages (from tensorflow<2.0,>=1.13.0->tgan) (0.8.1)\n",
            "Collecting keras-applications>=1.0.8\n",
            "\u001b[?25l  Downloading https://files.pythonhosted.org/packages/71/e3/19762fdfc62877ae9102edf6342d71b28fbfd9dea3d2f96a882ce099b03f/Keras_Applications-1.0.8-py3-none-any.whl (50kB)\n",
            "\u001b[K     |████████████████████████████████| 51kB 4.8MB/s \n",
            "\u001b[?25hRequirement already satisfied: wrapt>=1.11.1 in /usr/local/lib/python3.6/dist-packages (from tensorflow<2.0,>=1.13.0->tgan) (1.12.1)\n",
            "Requirement already satisfied: protobuf>=3.6.1 in /usr/local/lib/python3.6/dist-packages (from tensorflow<2.0,>=1.13.0->tgan) (3.12.4)\n",
            "Collecting tensorboard<1.16.0,>=1.15.0\n",
            "\u001b[?25l  Downloading https://files.pythonhosted.org/packages/1e/e9/d3d747a97f7188f48aa5eda486907f3b345cd409f0a0850468ba867db246/tensorboard-1.15.0-py3-none-any.whl (3.8MB)\n",
            "\u001b[K     |████████████████████████████████| 3.8MB 42.4MB/s \n",
            "\u001b[?25hRequirement already satisfied: absl-py>=0.7.0 in /usr/local/lib/python3.6/dist-packages (from tensorflow<2.0,>=1.13.0->tgan) (0.9.0)\n",
            "Collecting tensorflow-estimator==1.15.1\n",
            "\u001b[?25l  Downloading https://files.pythonhosted.org/packages/de/62/2ee9cd74c9fa2fa450877847ba560b260f5d0fb70ee0595203082dafcc9d/tensorflow_estimator-1.15.1-py2.py3-none-any.whl (503kB)\n",
            "\u001b[K     |████████████████████████████████| 512kB 43.8MB/s \n",
            "\u001b[?25hRequirement already satisfied: opt-einsum>=2.3.2 in /usr/local/lib/python3.6/dist-packages (from tensorflow<2.0,>=1.13.0->tgan) (3.3.0)\n",
            "Requirement already satisfied: six>=1.10.0 in /usr/local/lib/python3.6/dist-packages (from tensorflow<2.0,>=1.13.0->tgan) (1.15.0)\n",
            "Requirement already satisfied: termcolor>=1.1.0 in /usr/local/lib/python3.6/dist-packages (from tensorflow<2.0,>=1.13.0->tgan) (1.1.0)\n",
            "Requirement already satisfied: google-pasta>=0.1.6 in /usr/local/lib/python3.6/dist-packages (from tensorflow<2.0,>=1.13.0->tgan) (0.2.0)\n",
            "Requirement already satisfied: grpcio>=1.8.6 in /usr/local/lib/python3.6/dist-packages (from tensorflow<2.0,>=1.13.0->tgan) (1.31.0)\n",
            "Collecting gast==0.2.2\n",
            "  Downloading https://files.pythonhosted.org/packages/4e/35/11749bf99b2d4e3cceb4d55ca22590b0d7c2c62b9de38ac4a4a7f4687421/gast-0.2.2.tar.gz\n",
            "Requirement already satisfied: keras-preprocessing>=1.0.5 in /usr/local/lib/python3.6/dist-packages (from tensorflow<2.0,>=1.13.0->tgan) (1.1.2)\n",
            "Requirement already satisfied: wheel>=0.26; python_version >= \"3\" in /usr/local/lib/python3.6/dist-packages (from tensorflow<2.0,>=1.13.0->tgan) (0.34.2)\n",
            "Requirement already satisfied: joblib>=0.11 in /usr/local/lib/python3.6/dist-packages (from scikit-learn>=0.20.2->tgan) (0.16.0)\n",
            "Requirement already satisfied: scipy>=0.17.0 in /usr/local/lib/python3.6/dist-packages (from scikit-learn>=0.20.2->tgan) (1.4.1)\n",
            "Collecting msgpack-numpy>=0.4.4.2\n",
            "  Downloading https://files.pythonhosted.org/packages/ba/50/8a49f3da7dca7baa9a5a12cd573af99b62746ba9298fa751e04a3c38c311/msgpack_numpy-0.4.6.1-py2.py3-none-any.whl\n",
            "Requirement already satisfied: tabulate>=0.7.7 in /usr/local/lib/python3.6/dist-packages (from tensorpack==0.9.4->tgan) (0.8.7)\n",
            "Requirement already satisfied: msgpack>=0.5.2 in /usr/local/lib/python3.6/dist-packages (from tensorpack==0.9.4->tgan) (1.0.0)\n",
            "Requirement already satisfied: tqdm>4.11.1 in /usr/local/lib/python3.6/dist-packages (from tensorpack==0.9.4->tgan) (4.41.1)\n",
            "Requirement already satisfied: pyzmq>=16 in /usr/local/lib/python3.6/dist-packages (from tensorpack==0.9.4->tgan) (19.0.2)\n",
            "Requirement already satisfied: python-dateutil>=2.6.1 in /usr/local/lib/python3.6/dist-packages (from pandas>=0.23.4->tgan) (2.8.1)\n",
            "Requirement already satisfied: pytz>=2017.2 in /usr/local/lib/python3.6/dist-packages (from pandas>=0.23.4->tgan) (2018.9)\n",
            "Requirement already satisfied: h5py in /usr/local/lib/python3.6/dist-packages (from keras-applications>=1.0.8->tensorflow<2.0,>=1.13.0->tgan) (2.10.0)\n",
            "Requirement already satisfied: setuptools in /usr/local/lib/python3.6/dist-packages (from protobuf>=3.6.1->tensorflow<2.0,>=1.13.0->tgan) (49.2.0)\n",
            "Requirement already satisfied: markdown>=2.6.8 in /usr/local/lib/python3.6/dist-packages (from tensorboard<1.16.0,>=1.15.0->tensorflow<2.0,>=1.13.0->tgan) (3.2.2)\n",
            "Requirement already satisfied: werkzeug>=0.11.15 in /usr/local/lib/python3.6/dist-packages (from tensorboard<1.16.0,>=1.15.0->tensorflow<2.0,>=1.13.0->tgan) (1.0.1)\n",
            "Requirement already satisfied: importlib-metadata; python_version < \"3.8\" in /usr/local/lib/python3.6/dist-packages (from markdown>=2.6.8->tensorboard<1.16.0,>=1.15.0->tensorflow<2.0,>=1.13.0->tgan) (1.7.0)\n",
            "Requirement already satisfied: zipp>=0.5 in /usr/local/lib/python3.6/dist-packages (from importlib-metadata; python_version < \"3.8\"->markdown>=2.6.8->tensorboard<1.16.0,>=1.15.0->tensorflow<2.0,>=1.13.0->tgan) (3.1.0)\n",
            "Building wheels for collected packages: gast\n",
            "  Building wheel for gast (setup.py) ... \u001b[?25l\u001b[?25hdone\n",
            "  Created wheel for gast: filename=gast-0.2.2-cp36-none-any.whl size=7540 sha256=afe72daca577a14e6b52ac782a290d51d71efe2e98f51755e3b9df44a2ea6aae\n",
            "  Stored in directory: /root/.cache/pip/wheels/5c/2e/7e/a1d4d4fcebe6c381f378ce7743a3ced3699feb89bcfbdadadd\n",
            "Successfully built gast\n",
            "\u001b[31mERROR: tensorflow-probability 0.11.0 has requirement gast>=0.3.2, but you'll have gast 0.2.2 which is incompatible.\u001b[0m\n",
            "Installing collected packages: keras-applications, tensorboard, tensorflow-estimator, gast, tensorflow, msgpack-numpy, tensorpack, tgan\n",
            "  Found existing installation: tensorboard 2.3.0\n",
            "    Uninstalling tensorboard-2.3.0:\n",
            "      Successfully uninstalled tensorboard-2.3.0\n",
            "  Found existing installation: tensorflow-estimator 2.3.0\n",
            "    Uninstalling tensorflow-estimator-2.3.0:\n",
            "      Successfully uninstalled tensorflow-estimator-2.3.0\n",
            "  Found existing installation: gast 0.3.3\n",
            "    Uninstalling gast-0.3.3:\n",
            "      Successfully uninstalled gast-0.3.3\n",
            "  Found existing installation: tensorflow 2.3.0\n",
            "    Uninstalling tensorflow-2.3.0:\n",
            "      Successfully uninstalled tensorflow-2.3.0\n",
            "Successfully installed gast-0.2.2 keras-applications-1.0.8 msgpack-numpy-0.4.6.1 tensorboard-1.15.0 tensorflow-1.15.3 tensorflow-estimator-1.15.1 tensorpack-0.9.4 tgan-0.1.0\n"
          ],
          "name": "stdout"
        }
      ]
    },
    {
      "cell_type": "markdown",
      "metadata": {
        "id": "Rwv8CRWjJung",
        "colab_type": "text"
      },
      "source": [
        "**Loading the dataset using pandas library package**"
      ]
    },
    {
      "cell_type": "code",
      "metadata": {
        "id": "ijYazF1fVqln",
        "colab_type": "code",
        "colab": {
          "base_uri": "https://localhost:8080/",
          "height": 274
        },
        "outputId": "5f77ad72-6eeb-4611-eb66-8630a22dedde"
      },
      "source": [
        "import pandas as pd\n",
        "df = pd.read_csv(\"trans.csv\")\n",
        "df.info()"
      ],
      "execution_count": null,
      "outputs": [
        {
          "output_type": "stream",
          "text": [
            "<class 'pandas.core.frame.DataFrame'>\n",
            "RangeIndex: 104871 entries, 0 to 104870\n",
            "Data columns (total 8 columns):\n",
            " #   Column      Non-Null Count   Dtype  \n",
            "---  ------      --------------   -----  \n",
            " 0   trans_id    104871 non-null  int64  \n",
            " 1   account_id  104871 non-null  int64  \n",
            " 2   date        104871 non-null  int64  \n",
            " 3   type        104871 non-null  object \n",
            " 4   operation   85734 non-null   object \n",
            " 5   amount      104871 non-null  float64\n",
            " 6   balance     104871 non-null  float64\n",
            " 7   k_symbol    54145 non-null   object \n",
            "dtypes: float64(2), int64(3), object(3)\n",
            "memory usage: 6.4+ MB\n"
          ],
          "name": "stdout"
        }
      ]
    },
    {
      "cell_type": "markdown",
      "metadata": {
        "id": "Q1u6p89jJ8IY",
        "colab_type": "text"
      },
      "source": [
        "**Data Preparation**"
      ]
    },
    {
      "cell_type": "code",
      "metadata": {
        "id": "v0AOVpNtU9Cz",
        "colab_type": "code",
        "colab": {
          "base_uri": "https://localhost:8080/",
          "height": 171
        },
        "outputId": "61325a39-6e03-42aa-de1e-fef893d611c8"
      },
      "source": [
        "#Checking Null values in each column\n",
        "df.isnull().sum()"
      ],
      "execution_count": null,
      "outputs": [
        {
          "output_type": "execute_result",
          "data": {
            "text/plain": [
              "trans_id           0\n",
              "account_id         0\n",
              "date               0\n",
              "type               0\n",
              "operation     178663\n",
              "amount             0\n",
              "balance            0\n",
              "k_symbol      478646\n",
              "dtype: int64"
            ]
          },
          "metadata": {
            "tags": []
          },
          "execution_count": 4
        }
      ]
    },
    {
      "cell_type": "code",
      "metadata": {
        "id": "pTRshjx5VuHx",
        "colab_type": "code",
        "colab": {}
      },
      "source": [
        "# Filling the missing values\n",
        "df = df.fillna(value='unspecified')\n",
        "\n",
        "# print unique, found that some elements of 'k_symbol' is \"space\", so replace the 'space' with 'unspecified'\n",
        "df = df.replace(' ', 'unspecified')"
      ],
      "execution_count": null,
      "outputs": []
    },
    {
      "cell_type": "code",
      "metadata": {
        "id": "hrDtnGlbJ1oz",
        "colab_type": "code",
        "colab": {
          "base_uri": "https://localhost:8080/",
          "height": 203
        },
        "outputId": "f555f646-d8c3-467f-b3d3-719128761574"
      },
      "source": [
        "df.head()"
      ],
      "execution_count": null,
      "outputs": [
        {
          "output_type": "execute_result",
          "data": {
            "text/html": [
              "<div>\n",
              "<style scoped>\n",
              "    .dataframe tbody tr th:only-of-type {\n",
              "        vertical-align: middle;\n",
              "    }\n",
              "\n",
              "    .dataframe tbody tr th {\n",
              "        vertical-align: top;\n",
              "    }\n",
              "\n",
              "    .dataframe thead th {\n",
              "        text-align: right;\n",
              "    }\n",
              "</style>\n",
              "<table border=\"1\" class=\"dataframe\">\n",
              "  <thead>\n",
              "    <tr style=\"text-align: right;\">\n",
              "      <th></th>\n",
              "      <th>trans_id</th>\n",
              "      <th>account_id</th>\n",
              "      <th>date</th>\n",
              "      <th>type</th>\n",
              "      <th>operation</th>\n",
              "      <th>amount</th>\n",
              "      <th>balance</th>\n",
              "      <th>k_symbol</th>\n",
              "    </tr>\n",
              "  </thead>\n",
              "  <tbody>\n",
              "    <tr>\n",
              "      <th>0</th>\n",
              "      <td>695247</td>\n",
              "      <td>2378</td>\n",
              "      <td>930101</td>\n",
              "      <td>PRIJEM</td>\n",
              "      <td>VKLAD</td>\n",
              "      <td>700.0</td>\n",
              "      <td>700.0</td>\n",
              "      <td>unspecified</td>\n",
              "    </tr>\n",
              "    <tr>\n",
              "      <th>1</th>\n",
              "      <td>171812</td>\n",
              "      <td>576</td>\n",
              "      <td>930101</td>\n",
              "      <td>PRIJEM</td>\n",
              "      <td>VKLAD</td>\n",
              "      <td>900.0</td>\n",
              "      <td>900.0</td>\n",
              "      <td>unspecified</td>\n",
              "    </tr>\n",
              "    <tr>\n",
              "      <th>2</th>\n",
              "      <td>207264</td>\n",
              "      <td>704</td>\n",
              "      <td>930101</td>\n",
              "      <td>PRIJEM</td>\n",
              "      <td>VKLAD</td>\n",
              "      <td>1000.0</td>\n",
              "      <td>1000.0</td>\n",
              "      <td>unspecified</td>\n",
              "    </tr>\n",
              "    <tr>\n",
              "      <th>3</th>\n",
              "      <td>1117247</td>\n",
              "      <td>3818</td>\n",
              "      <td>930101</td>\n",
              "      <td>PRIJEM</td>\n",
              "      <td>VKLAD</td>\n",
              "      <td>600.0</td>\n",
              "      <td>600.0</td>\n",
              "      <td>unspecified</td>\n",
              "    </tr>\n",
              "    <tr>\n",
              "      <th>4</th>\n",
              "      <td>579373</td>\n",
              "      <td>1972</td>\n",
              "      <td>930102</td>\n",
              "      <td>PRIJEM</td>\n",
              "      <td>VKLAD</td>\n",
              "      <td>400.0</td>\n",
              "      <td>400.0</td>\n",
              "      <td>unspecified</td>\n",
              "    </tr>\n",
              "  </tbody>\n",
              "</table>\n",
              "</div>"
            ],
            "text/plain": [
              "   trans_id  account_id    date    type operation  amount  balance     k_symbol\n",
              "0    695247        2378  930101  PRIJEM     VKLAD   700.0    700.0  unspecified\n",
              "1    171812         576  930101  PRIJEM     VKLAD   900.0    900.0  unspecified\n",
              "2    207264         704  930101  PRIJEM     VKLAD  1000.0   1000.0  unspecified\n",
              "3   1117247        3818  930101  PRIJEM     VKLAD   600.0    600.0  unspecified\n",
              "4    579373        1972  930102  PRIJEM     VKLAD   400.0    400.0  unspecified"
            ]
          },
          "metadata": {
            "tags": []
          },
          "execution_count": 6
        }
      ]
    },
    {
      "cell_type": "markdown",
      "metadata": {
        "id": "p2Ut-YOKKLuA",
        "colab_type": "text"
      },
      "source": [
        "*Checking for Duplicates Values*"
      ]
    },
    {
      "cell_type": "code",
      "metadata": {
        "id": "QIxDFSdrKRHG",
        "colab_type": "code",
        "colab": {
          "base_uri": "https://localhost:8080/",
          "height": 34
        },
        "outputId": "cbc4f947-b8f0-45e6-ff06-4e9545cf268c"
      },
      "source": [
        "print(f'Duplicate values = {df.duplicated().sum()}')"
      ],
      "execution_count": null,
      "outputs": [
        {
          "output_type": "stream",
          "text": [
            "Duplicate values = 0\n"
          ],
          "name": "stdout"
        }
      ]
    },
    {
      "cell_type": "markdown",
      "metadata": {
        "id": "W2GAG9XgKCgo",
        "colab_type": "text"
      },
      "source": [
        "*Taking a random sample of 1000 observations from the dataset and loading it into prepared. If we consider more than 5000 samples, the session will crash due to RAM issues while fitting the model*"
      ]
    },
    {
      "cell_type": "code",
      "metadata": {
        "id": "0MYxbx53V0Dt",
        "colab_type": "code",
        "colab": {
          "base_uri": "https://localhost:8080/",
          "height": 34
        },
        "outputId": "bc10d765-69eb-4624-d299-aa0bbbe0fdd4"
      },
      "source": [
        "prepared=df.sample(n=10000, replace=False, random_state=1)  \n",
        "prepared.shape"
      ],
      "execution_count": null,
      "outputs": [
        {
          "output_type": "execute_result",
          "data": {
            "text/plain": [
              "(10000, 8)"
            ]
          },
          "metadata": {
            "tags": []
          },
          "execution_count": 6
        }
      ]
    },
    {
      "cell_type": "code",
      "metadata": {
        "id": "rrSHtBreV1wX",
        "colab_type": "code",
        "colab": {}
      },
      "source": [
        "# Creating a list with name of the columns\n",
        "continuous_columns = ['trans_id','account_id','date','amount','balance','type','operation','k_symbol']"
      ],
      "execution_count": null,
      "outputs": []
    },
    {
      "cell_type": "markdown",
      "metadata": {
        "id": "1028swd8Kflb",
        "colab_type": "text"
      },
      "source": [
        "**Importing the Tabular GANS model from tgan package**"
      ]
    },
    {
      "cell_type": "code",
      "metadata": {
        "id": "eBeERvnyWCZt",
        "colab_type": "code",
        "colab": {
          "base_uri": "https://localhost:8080/",
          "height": 140
        },
        "outputId": "8f6f8ec9-0a25-4dcc-bbd8-f0e85e99c34a"
      },
      "source": [
        "from tgan.model import TGANModel\n",
        "tgan = TGANModel(continuous_columns, max_epoch = 1, steps_per_epoch = 100)"
      ],
      "execution_count": null,
      "outputs": [
        {
          "output_type": "stream",
          "text": [
            "WARNING:tensorflow:From /usr/local/lib/python3.6/dist-packages/tensorpack/callbacks/hooks.py:17: The name tf.train.SessionRunHook is deprecated. Please use tf.estimator.SessionRunHook instead.\n",
            "\n",
            "WARNING:tensorflow:From /usr/local/lib/python3.6/dist-packages/tensorpack/tfutils/optimizer.py:18: The name tf.train.Optimizer is deprecated. Please use tf.compat.v1.train.Optimizer instead.\n",
            "\n",
            "WARNING:tensorflow:From /usr/local/lib/python3.6/dist-packages/tensorpack/tfutils/sesscreate.py:20: The name tf.train.SessionCreator is deprecated. Please use tf.compat.v1.train.SessionCreator instead.\n",
            "\n"
          ],
          "name": "stdout"
        }
      ]
    },
    {
      "cell_type": "markdown",
      "metadata": {
        "id": "CdJoNKSiKqVD",
        "colab_type": "text"
      },
      "source": [
        "**Model Preparation**"
      ]
    },
    {
      "cell_type": "code",
      "metadata": {
        "id": "Vk3adt5FWRw1",
        "colab_type": "code",
        "colab": {
          "base_uri": "https://localhost:8080/",
          "height": 1000
        },
        "outputId": "051f9250-4d3b-4cb6-eb26-e6b6e39b6a05"
      },
      "source": [
        "# Training the model with the prepared data \n",
        "tgan.fit(prepared)"
      ],
      "execution_count": null,
      "outputs": [
        {
          "output_type": "stream",
          "text": [
            "WARNING:tensorflow:From /usr/local/lib/python3.6/dist-packages/tensorpack/graph_builder/model_desc.py:29: The name tf.get_default_graph is deprecated. Please use tf.compat.v1.get_default_graph instead.\n",
            "\n",
            "WARNING:tensorflow:From /usr/local/lib/python3.6/dist-packages/tensorpack/graph_builder/model_desc.py:39: The name tf.placeholder is deprecated. Please use tf.compat.v1.placeholder instead.\n",
            "\n",
            "WARNING:tensorflow:From /usr/local/lib/python3.6/dist-packages/tensorpack/input_source/input_source.py:219: The name tf.FIFOQueue is deprecated. Please use tf.queue.FIFOQueue instead.\n",
            "\n",
            "\u001b[32m[0824 10:16:03 @input_source.py:222]\u001b[0m Setting up the queue 'QueueInput/input_queue' for CPU prefetching ...\n",
            "WARNING:tensorflow:From /usr/local/lib/python3.6/dist-packages/tensorpack/tfutils/summary.py:237: The name tf.get_variable_scope is deprecated. Please use tf.compat.v1.get_variable_scope instead.\n",
            "\n",
            "WARNING:tensorflow:From /usr/local/lib/python3.6/dist-packages/tensorpack/tfutils/summary.py:27: The name tf.variable_scope is deprecated. Please use tf.compat.v1.variable_scope instead.\n",
            "\n",
            "WARNING:tensorflow:From /usr/local/lib/python3.6/dist-packages/tensorpack/tfutils/summary.py:254: The name tf.get_variable is deprecated. Please use tf.compat.v1.get_variable instead.\n",
            "\n",
            "WARNING:tensorflow:From /usr/local/lib/python3.6/dist-packages/tensorpack/tfutils/summary.py:264: The name tf.summary.scalar is deprecated. Please use tf.compat.v1.summary.scalar instead.\n",
            "\n",
            "WARNING:tensorflow:From /usr/local/lib/python3.6/dist-packages/tensorpack/tfutils/collection.py:105: The name tf.GraphKeys is deprecated. Please use tf.compat.v1.GraphKeys instead.\n",
            "\n",
            "WARNING:tensorflow:From /usr/local/lib/python3.6/dist-packages/tensorpack/tfutils/collection.py:33: The name tf.get_collection is deprecated. Please use tf.compat.v1.get_collection instead.\n",
            "\n",
            "WARNING:tensorflow:From /usr/local/lib/python3.6/dist-packages/tgan/model.py:455: The name tf.random_normal is deprecated. Please use tf.random.normal instead.\n",
            "\n",
            "WARNING:tensorflow:From /usr/local/lib/python3.6/dist-packages/tgan/model.py:458: The name tf.placeholder_with_default is deprecated. Please use tf.compat.v1.placeholder_with_default instead.\n",
            "\n",
            "WARNING:tensorflow:From /usr/local/lib/python3.6/dist-packages/tgan/model.py:259: LSTMCell.__init__ (from tensorflow.python.ops.rnn_cell_impl) is deprecated and will be removed in a future version.\n",
            "Instructions for updating:\n",
            "This class is equivalent as tf.keras.layers.LSTMCell, and will be replaced by that in Tensorflow 2.0.\n",
            "WARNING:tensorflow:From /usr/local/lib/python3.6/dist-packages/tensorflow_core/python/ops/rnn_cell_impl.py:958: Layer.add_variable (from tensorflow.python.keras.engine.base_layer) is deprecated and will be removed in a future version.\n",
            "Instructions for updating:\n",
            "Please use `layer.add_weight` method instead.\n",
            "WARNING:tensorflow:From /usr/local/lib/python3.6/dist-packages/tensorflow_core/python/ops/rnn_cell_impl.py:962: calling Zeros.__init__ (from tensorflow.python.ops.init_ops) with dtype is deprecated and will be removed in a future version.\n",
            "Instructions for updating:\n",
            "Call initializer instance with the dtype argument instead of passing it to the constructor\n",
            "\u001b[32m[0824 10:16:03 @registry.py:126]\u001b[0m gen/LSTM/00/FC input: [200, 100]\n",
            "WARNING:tensorflow:From /usr/local/lib/python3.6/dist-packages/tensorpack/models/fc.py:57: The name tf.layers.Dense is deprecated. Please use tf.compat.v1.layers.Dense instead.\n",
            "\n",
            "WARNING:tensorflow:From /usr/local/lib/python3.6/dist-packages/tensorpack/models/fc.py:67: Layer.apply (from tensorflow.python.keras.engine.base_layer) is deprecated and will be removed in a future version.\n",
            "Instructions for updating:\n",
            "Please use `layer.__call__` method instead.\n",
            "\u001b[32m[0824 10:16:03 @registry.py:134]\u001b[0m gen/LSTM/00/FC output: [200, 100]\n",
            "\u001b[32m[0824 10:16:03 @registry.py:126]\u001b[0m gen/LSTM/00/FC2 input: [200, 100]\n",
            "\u001b[32m[0824 10:16:03 @registry.py:134]\u001b[0m gen/LSTM/00/FC2 output: [200, 10000]\n",
            "\u001b[32m[0824 10:16:03 @registry.py:126]\u001b[0m gen/LSTM/00/FC3 input: [200, 10000]\n",
            "\u001b[32m[0824 10:16:04 @registry.py:134]\u001b[0m gen/LSTM/00/FC3 output: [200, 100]\n",
            "\u001b[32m[0824 10:16:04 @registry.py:126]\u001b[0m gen/LSTM/01/FC input: [200, 100]\n",
            "\u001b[32m[0824 10:16:04 @registry.py:134]\u001b[0m gen/LSTM/01/FC output: [200, 100]\n",
            "\u001b[32m[0824 10:16:04 @registry.py:126]\u001b[0m gen/LSTM/01/FC2 input: [200, 100]\n",
            "\u001b[32m[0824 10:16:04 @registry.py:134]\u001b[0m gen/LSTM/01/FC2 output: [200, 3660]\n",
            "\u001b[32m[0824 10:16:04 @registry.py:126]\u001b[0m gen/LSTM/01/FC3 input: [200, 3660]\n",
            "\u001b[32m[0824 10:16:04 @registry.py:134]\u001b[0m gen/LSTM/01/FC3 output: [200, 100]\n",
            "\u001b[32m[0824 10:16:04 @registry.py:126]\u001b[0m gen/LSTM/02/FC input: [200, 100]\n",
            "\u001b[32m[0824 10:16:04 @registry.py:134]\u001b[0m gen/LSTM/02/FC output: [200, 100]\n",
            "\u001b[32m[0824 10:16:04 @registry.py:126]\u001b[0m gen/LSTM/02/FC2 input: [200, 100]\n",
            "\u001b[32m[0824 10:16:04 @registry.py:134]\u001b[0m gen/LSTM/02/FC2 output: [200, 1651]\n",
            "\u001b[32m[0824 10:16:04 @registry.py:126]\u001b[0m gen/LSTM/02/FC3 input: [200, 1651]\n",
            "\u001b[32m[0824 10:16:04 @registry.py:134]\u001b[0m gen/LSTM/02/FC3 output: [200, 100]\n",
            "\u001b[32m[0824 10:16:04 @registry.py:126]\u001b[0m gen/LSTM/03/FC input: [200, 100]\n",
            "\u001b[32m[0824 10:16:04 @registry.py:134]\u001b[0m gen/LSTM/03/FC output: [200, 100]\n",
            "\u001b[32m[0824 10:16:04 @registry.py:126]\u001b[0m gen/LSTM/03/FC2 input: [200, 100]\n",
            "\u001b[32m[0824 10:16:04 @registry.py:134]\u001b[0m gen/LSTM/03/FC2 output: [200, 3]\n",
            "\u001b[32m[0824 10:16:04 @registry.py:126]\u001b[0m gen/LSTM/03/FC3 input: [200, 3]\n",
            "\u001b[32m[0824 10:16:04 @registry.py:134]\u001b[0m gen/LSTM/03/FC3 output: [200, 100]\n",
            "\u001b[32m[0824 10:16:04 @registry.py:126]\u001b[0m gen/LSTM/04/FC input: [200, 100]\n",
            "\u001b[32m[0824 10:16:04 @registry.py:134]\u001b[0m gen/LSTM/04/FC output: [200, 100]\n",
            "\u001b[32m[0824 10:16:04 @registry.py:126]\u001b[0m gen/LSTM/04/FC2 input: [200, 100]\n",
            "\u001b[32m[0824 10:16:04 @registry.py:134]\u001b[0m gen/LSTM/04/FC2 output: [200, 6]\n",
            "\u001b[32m[0824 10:16:04 @registry.py:126]\u001b[0m gen/LSTM/04/FC3 input: [200, 6]\n",
            "\u001b[32m[0824 10:16:04 @registry.py:134]\u001b[0m gen/LSTM/04/FC3 output: [200, 100]\n",
            "\u001b[32m[0824 10:16:04 @registry.py:126]\u001b[0m gen/LSTM/05/FC input: [200, 100]\n",
            "\u001b[32m[0824 10:16:04 @registry.py:134]\u001b[0m gen/LSTM/05/FC output: [200, 100]\n",
            "\u001b[32m[0824 10:16:04 @registry.py:126]\u001b[0m gen/LSTM/05/FC2 input: [200, 100]\n",
            "\u001b[32m[0824 10:16:04 @registry.py:134]\u001b[0m gen/LSTM/05/FC2 output: [200, 4679]\n",
            "\u001b[32m[0824 10:16:04 @registry.py:126]\u001b[0m gen/LSTM/05/FC3 input: [200, 4679]\n",
            "\u001b[32m[0824 10:16:04 @registry.py:134]\u001b[0m gen/LSTM/05/FC3 output: [200, 100]\n",
            "\u001b[32m[0824 10:16:04 @registry.py:126]\u001b[0m gen/LSTM/06/FC input: [200, 100]\n",
            "\u001b[32m[0824 10:16:04 @registry.py:134]\u001b[0m gen/LSTM/06/FC output: [200, 100]\n",
            "\u001b[32m[0824 10:16:04 @registry.py:126]\u001b[0m gen/LSTM/06/FC2 input: [200, 100]\n",
            "\u001b[32m[0824 10:16:04 @registry.py:134]\u001b[0m gen/LSTM/06/FC2 output: [200, 9883]\n",
            "\u001b[32m[0824 10:16:04 @registry.py:126]\u001b[0m gen/LSTM/06/FC3 input: [200, 9883]\n",
            "\u001b[32m[0824 10:16:04 @registry.py:134]\u001b[0m gen/LSTM/06/FC3 output: [200, 100]\n",
            "\u001b[32m[0824 10:16:04 @registry.py:126]\u001b[0m gen/LSTM/07/FC input: [200, 100]\n",
            "\u001b[32m[0824 10:16:04 @registry.py:134]\u001b[0m gen/LSTM/07/FC output: [200, 100]\n",
            "\u001b[32m[0824 10:16:04 @registry.py:126]\u001b[0m gen/LSTM/07/FC2 input: [200, 100]\n",
            "\u001b[32m[0824 10:16:04 @registry.py:134]\u001b[0m gen/LSTM/07/FC2 output: [200, 8]\n",
            "\u001b[32m[0824 10:16:04 @registry.py:126]\u001b[0m gen/LSTM/07/FC3 input: [200, 8]\n",
            "\u001b[32m[0824 10:16:04 @registry.py:134]\u001b[0m gen/LSTM/07/FC3 output: [200, 100]\n",
            "WARNING:tensorflow:From /usr/local/lib/python3.6/dist-packages/tgan/model.py:494: The name tf.random_uniform is deprecated. Please use tf.random.uniform instead.\n",
            "\n",
            "WARNING:tensorflow:From /usr/local/lib/python3.6/dist-packages/tgan/model.py:443: The name tf.log is deprecated. Please use tf.math.log instead.\n",
            "\n",
            "\u001b[32m[0824 10:16:05 @registry.py:126]\u001b[0m discrim/dis_fc0/fc input: [200, 29890]\n",
            "\u001b[32m[0824 10:16:05 @registry.py:134]\u001b[0m discrim/dis_fc0/fc output: [200, 100]\n",
            "\u001b[32m[0824 10:16:05 @registry.py:126]\u001b[0m discrim/dis_fc0/fc_diversity input: [200, 100]\n",
            "\u001b[32m[0824 10:16:05 @registry.py:134]\u001b[0m discrim/dis_fc0/fc_diversity output: [200, 100]\n",
            "WARNING:tensorflow:From /usr/local/lib/python3.6/dist-packages/tensorpack/models/batch_norm.py:204: The name tf.layers.BatchNormalization is deprecated. Please use tf.compat.v1.layers.BatchNormalization instead.\n",
            "\n",
            "WARNING:tensorflow:From /usr/local/lib/python3.6/dist-packages/tensorpack/models/batch_norm.py:212: The name tf.add_to_collection is deprecated. Please use tf.compat.v1.add_to_collection instead.\n",
            "\n",
            "\u001b[32m[0824 10:16:05 @registry.py:126]\u001b[0m discrim/dis_fc_top input: [200, 110]\n",
            "\u001b[32m[0824 10:16:05 @registry.py:134]\u001b[0m discrim/dis_fc_top output: [200, 1]\n",
            "WARNING:tensorflow:From /usr/local/lib/python3.6/dist-packages/tgan/model.py:118: The name tf.summary.histogram is deprecated. Please use tf.compat.v1.summary.histogram instead.\n",
            "\n",
            "WARNING:tensorflow:From /usr/local/lib/python3.6/dist-packages/tensorflow_core/python/ops/nn_impl.py:183: where (from tensorflow.python.ops.array_ops) is deprecated and will be removed in a future version.\n",
            "Instructions for updating:\n",
            "Use tf.where in 2.0, which has the same broadcast rule as np.where\n",
            "WARNING:tensorflow:\n",
            "The TensorFlow contrib module will not be included in TensorFlow 2.0.\n",
            "For more information, please see:\n",
            "  * https://github.com/tensorflow/community/blob/master/rfcs/20180907-contrib-sunset.md\n",
            "  * https://github.com/tensorflow/addons\n",
            "  * https://github.com/tensorflow/io (for I/O related ops)\n",
            "If you depend on functionality not listed there, please file an issue.\n",
            "\n",
            "WARNING:tensorflow:From /usr/local/lib/python3.6/dist-packages/tgan/model.py:551: The name tf.train.AdamOptimizer is deprecated. Please use tf.compat.v1.train.AdamOptimizer instead.\n",
            "\n",
            "\u001b[32m[0824 10:16:10 @logger.py:90]\u001b[0m Argv: /usr/local/lib/python3.6/dist-packages/ipykernel_launcher.py -f /root/.local/share/jupyter/runtime/kernel-80ec8e46-3aff-46ca-a586-4a5efa20d24e.json\n",
            "WARNING:tensorflow:From /usr/local/lib/python3.6/dist-packages/tensorpack/callbacks/saver.py:43: The name tf.gfile.IsDirectory is deprecated. Please use tf.io.gfile.isdir instead.\n",
            "\n",
            "WARNING:tensorflow:From /usr/local/lib/python3.6/dist-packages/tensorpack/callbacks/saver.py:44: The name tf.gfile.MakeDirs is deprecated. Please use tf.io.gfile.makedirs instead.\n",
            "\n",
            "WARNING:tensorflow:From /usr/local/lib/python3.6/dist-packages/tensorpack/tfutils/common.py:41: The name tf.ConfigProto is deprecated. Please use tf.compat.v1.ConfigProto instead.\n",
            "\n",
            "\u001b[32m[0824 10:16:10 @model_utils.py:67]\u001b[0m \u001b[36mList of Trainable Variables: \n",
            "\u001b[0mname                              shape           #elements\n",
            "--------------------------------  ------------  -----------\n",
            "gen/LSTM/go:0                     [1, 100]              100\n",
            "gen/LSTM/lstm_cell/kernel:0       [500, 400]         200000\n",
            "gen/LSTM/lstm_cell/bias:0         [400]                 400\n",
            "gen/LSTM/00/FC/W:0                [100, 100]          10000\n",
            "gen/LSTM/00/FC/b:0                [100]                 100\n",
            "gen/LSTM/00/FC2/W:0               [100, 10000]      1000000\n",
            "gen/LSTM/00/FC2/b:0               [10000]             10000\n",
            "gen/LSTM/00/FC3/W:0               [10000, 100]      1000000\n",
            "gen/LSTM/00/FC3/b:0               [100]                 100\n",
            "gen/LSTM/00/attw:0                [1, 1, 1]               1\n",
            "gen/LSTM/01/FC/W:0                [100, 100]          10000\n",
            "gen/LSTM/01/FC/b:0                [100]                 100\n",
            "gen/LSTM/01/FC2/W:0               [100, 3660]        366000\n",
            "gen/LSTM/01/FC2/b:0               [3660]               3660\n",
            "gen/LSTM/01/FC3/W:0               [3660, 100]        366000\n",
            "gen/LSTM/01/FC3/b:0               [100]                 100\n",
            "gen/LSTM/01/attw:0                [2, 1, 1]               2\n",
            "gen/LSTM/02/FC/W:0                [100, 100]          10000\n",
            "gen/LSTM/02/FC/b:0                [100]                 100\n",
            "gen/LSTM/02/FC2/W:0               [100, 1651]        165100\n",
            "gen/LSTM/02/FC2/b:0               [1651]               1651\n",
            "gen/LSTM/02/FC3/W:0               [1651, 100]        165100\n",
            "gen/LSTM/02/FC3/b:0               [100]                 100\n",
            "gen/LSTM/02/attw:0                [3, 1, 1]               3\n",
            "gen/LSTM/03/FC/W:0                [100, 100]          10000\n",
            "gen/LSTM/03/FC/b:0                [100]                 100\n",
            "gen/LSTM/03/FC2/W:0               [100, 3]              300\n",
            "gen/LSTM/03/FC2/b:0               [3]                     3\n",
            "gen/LSTM/03/FC3/W:0               [3, 100]              300\n",
            "gen/LSTM/03/FC3/b:0               [100]                 100\n",
            "gen/LSTM/03/attw:0                [4, 1, 1]               4\n",
            "gen/LSTM/04/FC/W:0                [100, 100]          10000\n",
            "gen/LSTM/04/FC/b:0                [100]                 100\n",
            "gen/LSTM/04/FC2/W:0               [100, 6]              600\n",
            "gen/LSTM/04/FC2/b:0               [6]                     6\n",
            "gen/LSTM/04/FC3/W:0               [6, 100]              600\n",
            "gen/LSTM/04/FC3/b:0               [100]                 100\n",
            "gen/LSTM/04/attw:0                [5, 1, 1]               5\n",
            "gen/LSTM/05/FC/W:0                [100, 100]          10000\n",
            "gen/LSTM/05/FC/b:0                [100]                 100\n",
            "gen/LSTM/05/FC2/W:0               [100, 4679]        467900\n",
            "gen/LSTM/05/FC2/b:0               [4679]               4679\n",
            "gen/LSTM/05/FC3/W:0               [4679, 100]        467900\n",
            "gen/LSTM/05/FC3/b:0               [100]                 100\n",
            "gen/LSTM/05/attw:0                [6, 1, 1]               6\n",
            "gen/LSTM/06/FC/W:0                [100, 100]          10000\n",
            "gen/LSTM/06/FC/b:0                [100]                 100\n",
            "gen/LSTM/06/FC2/W:0               [100, 9883]        988300\n",
            "gen/LSTM/06/FC2/b:0               [9883]               9883\n",
            "gen/LSTM/06/FC3/W:0               [9883, 100]        988300\n",
            "gen/LSTM/06/FC3/b:0               [100]                 100\n",
            "gen/LSTM/06/attw:0                [7, 1, 1]               7\n",
            "gen/LSTM/07/FC/W:0                [100, 100]          10000\n",
            "gen/LSTM/07/FC/b:0                [100]                 100\n",
            "gen/LSTM/07/FC2/W:0               [100, 8]              800\n",
            "gen/LSTM/07/FC2/b:0               [8]                     8\n",
            "gen/LSTM/07/FC3/W:0               [8, 100]              800\n",
            "gen/LSTM/07/FC3/b:0               [100]                 100\n",
            "gen/LSTM/07/attw:0                [8, 1, 1]               8\n",
            "discrim/dis_fc0/fc/W:0            [29890, 100]      2989000\n",
            "discrim/dis_fc0/fc/b:0            [100]                 100\n",
            "discrim/dis_fc0/fc_diversity/W:0  [100, 100]          10000\n",
            "discrim/dis_fc0/fc_diversity/b:0  [100]                 100\n",
            "discrim/dis_fc0/bn/beta:0         [110]                 110\n",
            "discrim/dis_fc_top/W:0            [110, 1]              110\n",
            "discrim/dis_fc_top/b:0            [1]                     1\u001b[36m\n",
            "Number of trainable variables: 66\n",
            "Number of parameters (elements): 9289447\n",
            "Storage space needed for all trainable variables: 35.44MB\u001b[0m\n",
            "\u001b[32m[0824 10:16:10 @base.py:209]\u001b[0m Setup callbacks graph ...\n",
            "WARNING:tensorflow:From /usr/local/lib/python3.6/dist-packages/tensorpack/callbacks/graph.py:54: The name tf.train.SessionRunArgs is deprecated. Please use tf.estimator.SessionRunArgs instead.\n",
            "\n",
            "WARNING:tensorflow:From /usr/local/lib/python3.6/dist-packages/tensorpack/tfutils/common.py:75: The name tf.VariableScope is deprecated. Please use tf.compat.v1.VariableScope instead.\n",
            "\n",
            "WARNING:tensorflow:From /usr/local/lib/python3.6/dist-packages/tensorpack/tfutils/common.py:77: The name tf.train.get_or_create_global_step is deprecated. Please use tf.compat.v1.train.get_or_create_global_step instead.\n",
            "\n",
            "WARNING:tensorflow:From /usr/local/lib/python3.6/dist-packages/tensorpack/callbacks/steps.py:117: The name tf.assign_add is deprecated. Please use tf.compat.v1.assign_add instead.\n",
            "\n",
            "WARNING:tensorflow:From /usr/local/lib/python3.6/dist-packages/tensorpack/callbacks/saver.py:55: The name tf.train.Saver is deprecated. Please use tf.compat.v1.train.Saver instead.\n",
            "\n",
            "WARNING:tensorflow:From /usr/local/lib/python3.6/dist-packages/tensorpack/callbacks/saver.py:59: The name tf.train.SaverDef is deprecated. Please use tf.compat.v1.train.SaverDef instead.\n",
            "\n",
            "\u001b[32m[0824 10:16:10 @summary.py:46]\u001b[0m [MovingAverageSummary] 6 operations in collection 'MOVING_SUMMARY_OPS' will be run with session hooks.\n",
            "\u001b[32m[0824 10:16:10 @summary.py:93]\u001b[0m Summarizing collection 'summaries' of size 9.\n",
            "WARNING:tensorflow:From /usr/local/lib/python3.6/dist-packages/tensorpack/callbacks/summary.py:94: The name tf.summary.merge_all is deprecated. Please use tf.compat.v1.summary.merge_all instead.\n",
            "\n",
            "\u001b[32m[0824 10:16:10 @graph.py:98]\u001b[0m Applying collection UPDATE_OPS of 4 ops.\n",
            "WARNING:tensorflow:From /usr/local/lib/python3.6/dist-packages/tensorpack/callbacks/monitor.py:261: The name tf.summary.FileWriter is deprecated. Please use tf.compat.v1.summary.FileWriter instead.\n",
            "\n",
            "\u001b[32m[0824 10:16:11 @base.py:230]\u001b[0m Creating the session ...\n",
            "WARNING:tensorflow:From /usr/local/lib/python3.6/dist-packages/tensorpack/tfutils/sesscreate.py:42: The name tf.Session is deprecated. Please use tf.compat.v1.Session instead.\n",
            "\n",
            "WARNING:tensorflow:From /usr/local/lib/python3.6/dist-packages/tensorpack/tfutils/sesscreate.py:71: The name tf.global_variables_initializer is deprecated. Please use tf.compat.v1.global_variables_initializer instead.\n",
            "\n",
            "WARNING:tensorflow:From /usr/local/lib/python3.6/dist-packages/tensorpack/tfutils/sesscreate.py:62: get_backward_walk_ops (from tensorflow.contrib.graph_editor.select) is deprecated and will be removed after 2019-06-06.\n",
            "Instructions for updating:\n",
            "Please use tensorflow.python.ops.op_selector.get_backward_walk_ops.\n",
            "WARNING:tensorflow:From /usr/local/lib/python3.6/dist-packages/tensorpack/tfutils/sesscreate.py:72: The name tf.local_variables_initializer is deprecated. Please use tf.compat.v1.local_variables_initializer instead.\n",
            "\n",
            "WARNING:tensorflow:From /usr/local/lib/python3.6/dist-packages/tensorpack/tfutils/sesscreate.py:73: The name tf.tables_initializer is deprecated. Please use tf.compat.v1.tables_initializer instead.\n",
            "\n",
            "WARNING:tensorflow:From /usr/local/lib/python3.6/dist-packages/tensorpack/train/base.py:254: The name tf.train.MonitoredSession is deprecated. Please use tf.compat.v1.train.MonitoredSession instead.\n",
            "\n",
            "\u001b[32m[0824 10:16:12 @base.py:236]\u001b[0m Initializing the session ...\n",
            "\u001b[32m[0824 10:16:12 @base.py:243]\u001b[0m Graph Finalized.\n",
            "WARNING:tensorflow:From /usr/local/lib/python3.6/dist-packages/tensorpack/tfutils/common.py:89: The name tf.train.global_step is deprecated. Please use tf.compat.v1.train.global_step instead.\n",
            "\n",
            "WARNING:tensorflow:From /usr/local/lib/python3.6/dist-packages/tensorpack/tfutils/common.py:90: The name tf.get_default_session is deprecated. Please use tf.compat.v1.get_default_session instead.\n",
            "\n",
            "\u001b[32m[0824 10:16:13 @concurrency.py:38]\u001b[0m Starting EnqueueThread QueueInput/input_queue ...\n",
            "WARNING:tensorflow:From /usr/local/lib/python3.6/dist-packages/tensorpack/callbacks/monitor.py:309: The name tf.gfile.Exists is deprecated. Please use tf.io.gfile.exists instead.\n",
            "\n",
            "\u001b[32m[0824 10:16:13 @base.py:275]\u001b[0m Start Epoch 1 ...\n"
          ],
          "name": "stdout"
        },
        {
          "output_type": "stream",
          "text": [
            " 99%|#########9|99/100[01:14<00:00, 1.38it/s]"
          ],
          "name": "stderr"
        },
        {
          "output_type": "stream",
          "text": [
            "WARNING:tensorflow:From /usr/local/lib/python3.6/dist-packages/tensorpack/callbacks/monitor.py:148: The name tf.Summary is deprecated. Please use tf.compat.v1.Summary instead.\n",
            "\n"
          ],
          "name": "stdout"
        },
        {
          "output_type": "stream",
          "text": [
            "100%|##########|100/100[01:17<00:00, 1.28it/s]"
          ],
          "name": "stderr"
        },
        {
          "output_type": "stream",
          "text": [
            "\u001b[32m[0824 10:17:31 @base.py:285]\u001b[0m Epoch 1 (global_step 100) finished, time:1 minute 17 seconds.\n",
            "WARNING:tensorflow:From /usr/local/lib/python3.6/dist-packages/tensorpack/callbacks/saver.py:77: The name tf.train.get_global_step is deprecated. Please use tf.compat.v1.train.get_global_step instead.\n",
            "\n"
          ],
          "name": "stdout"
        },
        {
          "output_type": "stream",
          "text": [
            "\n"
          ],
          "name": "stderr"
        },
        {
          "output_type": "stream",
          "text": [
            "\u001b[32m[0824 10:17:31 @saver.py:79]\u001b[0m Model saved to output/model/model-100.\n",
            "\u001b[32m[0824 10:17:31 @monitor.py:467]\u001b[0m GAN_loss/discrim/accuracy_fake: 0.79\n",
            "\u001b[32m[0824 10:17:31 @monitor.py:467]\u001b[0m GAN_loss/discrim/accuracy_real: 0.42\n",
            "\u001b[32m[0824 10:17:31 @monitor.py:467]\u001b[0m GAN_loss/discrim/loss: 0.65882\n",
            "\u001b[32m[0824 10:17:31 @monitor.py:467]\u001b[0m GAN_loss/gen/final-g-loss: 1.2735\n",
            "\u001b[32m[0824 10:17:31 @monitor.py:467]\u001b[0m GAN_loss/gen/klloss: 0.022169\n",
            "\u001b[32m[0824 10:17:31 @monitor.py:467]\u001b[0m GAN_loss/gen/loss: 1.2514\n",
            "\u001b[32m[0824 10:17:31 @monitor.py:467]\u001b[0m QueueInput/queue_size: 50\n",
            "\u001b[32m[0824 10:17:31 @base.py:289]\u001b[0m Training has finished!\n",
            "WARNING:tensorflow:From /usr/local/lib/python3.6/dist-packages/tensorpack/predict/config.py:101: The name tf.train.ChiefSessionCreator is deprecated. Please use tf.compat.v1.train.ChiefSessionCreator instead.\n",
            "\n",
            "\u001b[32m[0824 10:17:32 @input_source.py:178]\u001b[0m EnqueueThread QueueInput/input_queue Exited.\n",
            "WARNING:tensorflow:From /usr/local/lib/python3.6/dist-packages/tensorpack/tfutils/collection.py:45: The name tf.get_collection_ref is deprecated. Please use tf.compat.v1.get_collection_ref instead.\n",
            "\n",
            "\u001b[32m[0824 10:17:33 @collection.py:146]\u001b[0m New collections created in tower : tf.GraphKeys.REGULARIZATION_LOSSES\n",
            "\u001b[32m[0824 10:17:33 @collection.py:165]\u001b[0m These collections were modified but restored in : (tf.GraphKeys.SUMMARIES: 0->2)\n",
            "WARNING:tensorflow:From /usr/local/lib/python3.6/dist-packages/tensorpack/tfutils/sessinit.py:120: The name tf.train.NewCheckpointReader is deprecated. Please use tf.compat.v1.train.NewCheckpointReader instead.\n",
            "\n",
            "WARNING:tensorflow:From /usr/local/lib/python3.6/dist-packages/tensorpack/tfutils/sessinit.py:127: The name tf.global_variables is deprecated. Please use tf.compat.v1.global_variables instead.\n",
            "\n",
            "\u001b[32m[0824 10:17:33 @sessinit.py:87]\u001b[0m \u001b[5m\u001b[31mWRN\u001b[0m The following variables are in the checkpoint, but not found in the graph: global_step, optimize/beta1_power, optimize/beta2_power\n",
            "INFO:tensorflow:Graph was finalized.\n",
            "INFO:tensorflow:Running local_init_op.\n",
            "INFO:tensorflow:Done running local_init_op.\n",
            "\u001b[32m[0824 10:17:34 @sessinit.py:114]\u001b[0m Restoring checkpoint from output/model/model-100 ...\n",
            "INFO:tensorflow:Restoring parameters from output/model/model-100\n"
          ],
          "name": "stdout"
        }
      ]
    },
    {
      "cell_type": "markdown",
      "metadata": {
        "id": "rLTz2N9EKvj7",
        "colab_type": "text"
      },
      "source": [
        "**Synthetic data generation**"
      ]
    },
    {
      "cell_type": "code",
      "metadata": {
        "id": "TZslTPn4XTBN",
        "colab_type": "code",
        "colab": {
          "base_uri": "https://localhost:8080/",
          "height": 312
        },
        "outputId": "754eae0b-01bf-4478-dd5a-1af1dfe4c6b5"
      },
      "source": [
        "# Generating synthetic data \n",
        "num_samples = 10000\n",
        "samples = tgan.sample(num_samples)\n",
        "samples.head(3).T[:10]"
      ],
      "execution_count": null,
      "outputs": [
        {
          "output_type": "stream",
          "text": [
            " 24%|##4       |49/200[00:07<00:21, 6.94it/s]\n"
          ],
          "name": "stderr"
        },
        {
          "output_type": "execute_result",
          "data": {
            "text/html": [
              "<div>\n",
              "<style scoped>\n",
              "    .dataframe tbody tr th:only-of-type {\n",
              "        vertical-align: middle;\n",
              "    }\n",
              "\n",
              "    .dataframe tbody tr th {\n",
              "        vertical-align: top;\n",
              "    }\n",
              "\n",
              "    .dataframe thead th {\n",
              "        text-align: right;\n",
              "    }\n",
              "</style>\n",
              "<table border=\"1\" class=\"dataframe\">\n",
              "  <thead>\n",
              "    <tr style=\"text-align: right;\">\n",
              "      <th></th>\n",
              "      <th>0</th>\n",
              "      <th>1</th>\n",
              "      <th>2</th>\n",
              "    </tr>\n",
              "  </thead>\n",
              "  <tbody>\n",
              "    <tr>\n",
              "      <th>trans_id</th>\n",
              "      <td>3630068</td>\n",
              "      <td>3538663</td>\n",
              "      <td>1436937</td>\n",
              "    </tr>\n",
              "    <tr>\n",
              "      <th>account_id</th>\n",
              "      <td>2780</td>\n",
              "      <td>2059</td>\n",
              "      <td>2968</td>\n",
              "    </tr>\n",
              "    <tr>\n",
              "      <th>date</th>\n",
              "      <td>980408</td>\n",
              "      <td>950319</td>\n",
              "      <td>931214</td>\n",
              "    </tr>\n",
              "    <tr>\n",
              "      <th>type</th>\n",
              "      <td>PRIJEM</td>\n",
              "      <td>PRIJEM</td>\n",
              "      <td>VYDAJ</td>\n",
              "    </tr>\n",
              "    <tr>\n",
              "      <th>operation</th>\n",
              "      <td>PREVOD NA UCET</td>\n",
              "      <td>unspecified</td>\n",
              "      <td>VYBER</td>\n",
              "    </tr>\n",
              "    <tr>\n",
              "      <th>amount</th>\n",
              "      <td>23908.0</td>\n",
              "      <td>51800.0</td>\n",
              "      <td>6001.0</td>\n",
              "    </tr>\n",
              "    <tr>\n",
              "      <th>balance</th>\n",
              "      <td>30399.9</td>\n",
              "      <td>44913.1</td>\n",
              "      <td>118599.2</td>\n",
              "    </tr>\n",
              "    <tr>\n",
              "      <th>k_symbol</th>\n",
              "      <td>unspecified</td>\n",
              "      <td>UROK</td>\n",
              "      <td>unspecified</td>\n",
              "    </tr>\n",
              "  </tbody>\n",
              "</table>\n",
              "</div>"
            ],
            "text/plain": [
              "                         0            1            2\n",
              "trans_id           3630068      3538663      1436937\n",
              "account_id            2780         2059         2968\n",
              "date                980408       950319       931214\n",
              "type                PRIJEM       PRIJEM        VYDAJ\n",
              "operation   PREVOD NA UCET  unspecified        VYBER\n",
              "amount             23908.0      51800.0       6001.0\n",
              "balance            30399.9      44913.1     118599.2\n",
              "k_symbol       unspecified         UROK  unspecified"
            ]
          },
          "metadata": {
            "tags": []
          },
          "execution_count": 12
        }
      ]
    },
    {
      "cell_type": "markdown",
      "metadata": {
        "id": "Iv1cYN25K2At",
        "colab_type": "text"
      },
      "source": [
        "*Loading the generated synthetic data to a new dataframe known as 'new_data'*"
      ]
    },
    {
      "cell_type": "code",
      "metadata": {
        "id": "47qFLNpHYegu",
        "colab_type": "code",
        "colab": {}
      },
      "source": [
        "new_data = pd.DataFrame(samples)"
      ],
      "execution_count": null,
      "outputs": []
    },
    {
      "cell_type": "code",
      "metadata": {
        "id": "Q0fnxJzfYnql",
        "colab_type": "code",
        "colab": {
          "base_uri": "https://localhost:8080/",
          "height": 203
        },
        "outputId": "b64843ef-8231-451f-e8ba-35293934c2ee"
      },
      "source": [
        "# Displaying the first five observations of the new data\n",
        "samples.head()"
      ],
      "execution_count": null,
      "outputs": [
        {
          "output_type": "execute_result",
          "data": {
            "text/html": [
              "<div>\n",
              "<style scoped>\n",
              "    .dataframe tbody tr th:only-of-type {\n",
              "        vertical-align: middle;\n",
              "    }\n",
              "\n",
              "    .dataframe tbody tr th {\n",
              "        vertical-align: top;\n",
              "    }\n",
              "\n",
              "    .dataframe thead th {\n",
              "        text-align: right;\n",
              "    }\n",
              "</style>\n",
              "<table border=\"1\" class=\"dataframe\">\n",
              "  <thead>\n",
              "    <tr style=\"text-align: right;\">\n",
              "      <th></th>\n",
              "      <th>trans_id</th>\n",
              "      <th>account_id</th>\n",
              "      <th>date</th>\n",
              "      <th>type</th>\n",
              "      <th>operation</th>\n",
              "      <th>amount</th>\n",
              "      <th>balance</th>\n",
              "      <th>k_symbol</th>\n",
              "    </tr>\n",
              "  </thead>\n",
              "  <tbody>\n",
              "    <tr>\n",
              "      <th>0</th>\n",
              "      <td>3630068</td>\n",
              "      <td>2780</td>\n",
              "      <td>980408</td>\n",
              "      <td>PRIJEM</td>\n",
              "      <td>PREVOD NA UCET</td>\n",
              "      <td>23908.0</td>\n",
              "      <td>30399.9</td>\n",
              "      <td>unspecified</td>\n",
              "    </tr>\n",
              "    <tr>\n",
              "      <th>1</th>\n",
              "      <td>3538663</td>\n",
              "      <td>2059</td>\n",
              "      <td>950319</td>\n",
              "      <td>PRIJEM</td>\n",
              "      <td>unspecified</td>\n",
              "      <td>51800.0</td>\n",
              "      <td>44913.1</td>\n",
              "      <td>UROK</td>\n",
              "    </tr>\n",
              "    <tr>\n",
              "      <th>2</th>\n",
              "      <td>1436937</td>\n",
              "      <td>2968</td>\n",
              "      <td>931214</td>\n",
              "      <td>VYDAJ</td>\n",
              "      <td>VYBER</td>\n",
              "      <td>6001.0</td>\n",
              "      <td>118599.2</td>\n",
              "      <td>unspecified</td>\n",
              "    </tr>\n",
              "    <tr>\n",
              "      <th>3</th>\n",
              "      <td>1743633</td>\n",
              "      <td>720</td>\n",
              "      <td>980430</td>\n",
              "      <td>PRIJEM</td>\n",
              "      <td>PREVOD Z UCTU</td>\n",
              "      <td>2848.0</td>\n",
              "      <td>106892.0</td>\n",
              "      <td>DUCHOD</td>\n",
              "    </tr>\n",
              "    <tr>\n",
              "      <th>4</th>\n",
              "      <td>3571892</td>\n",
              "      <td>3452</td>\n",
              "      <td>941117</td>\n",
              "      <td>VYDAJ</td>\n",
              "      <td>VYBER</td>\n",
              "      <td>5836.0</td>\n",
              "      <td>27242.7</td>\n",
              "      <td>unspecified</td>\n",
              "    </tr>\n",
              "  </tbody>\n",
              "</table>\n",
              "</div>"
            ],
            "text/plain": [
              "  trans_id account_id    date  ...   amount   balance     k_symbol\n",
              "0  3630068       2780  980408  ...  23908.0   30399.9  unspecified\n",
              "1  3538663       2059  950319  ...  51800.0   44913.1         UROK\n",
              "2  1436937       2968  931214  ...   6001.0  118599.2  unspecified\n",
              "3  1743633        720  980430  ...   2848.0  106892.0       DUCHOD\n",
              "4  3571892       3452  941117  ...   5836.0   27242.7  unspecified\n",
              "\n",
              "[5 rows x 8 columns]"
            ]
          },
          "metadata": {
            "tags": []
          },
          "execution_count": 16
        }
      ]
    },
    {
      "cell_type": "markdown",
      "metadata": {
        "id": "x018MumQLIpG",
        "colab_type": "text"
      },
      "source": [
        "**Comparison of Original data and Synthetic Data**\n",
        "\n",
        "***1. Using Density plots for Numerical variables and Histograms for Categorical variables***"
      ]
    },
    {
      "cell_type": "markdown",
      "metadata": {
        "id": "q2gGXNUlLZsg",
        "colab_type": "text"
      },
      "source": [
        "***Density plots for Trans_id and Account_id column***"
      ]
    },
    {
      "cell_type": "code",
      "metadata": {
        "id": "iRhJLlff5c4u",
        "colab_type": "code",
        "colab": {
          "base_uri": "https://localhost:8080/",
          "height": 671
        },
        "outputId": "dcbc364e-c233-4b28-e8a2-640666fedd05"
      },
      "source": [
        "# Building Density plots to compare the original data and the synthetic data\n",
        "import matplotlib.pyplot as plt\n",
        "import seaborn as sns\n",
        "\n",
        "# Comparison between the Original Data and the Synthetic Data (Trans_id and Account_id variable)\n",
        "fig, axes = plt.subplots(2, 2, figsize=(10, 10))\n",
        "\n",
        "sns.distplot(df.trans_id , color=\"darkblue\", ax=axes[0,0], axlabel='Original Data - Trans_id')\n",
        "sns.distplot(new_data.trans_id , color=\"darkblue\", ax=axes[0,1], axlabel='Synthetic Data - trans_id')\n",
        "\n",
        "sns.distplot(df.account_id , color=\"darkblue\", ax=axes[1,0], axlabel='Original Data - account_id')\n",
        "sns.distplot(new_data.account_id , color=\"darkblue\", ax=axes[1,1], axlabel='Synthetic Data - account_id')\n",
        "\n",
        "plt.show();\n"
      ],
      "execution_count": null,
      "outputs": [
        {
          "output_type": "stream",
          "text": [
            "/usr/local/lib/python3.6/dist-packages/statsmodels/tools/_testing.py:19: FutureWarning: pandas.util.testing is deprecated. Use the functions in the public API at pandas.testing instead.\n",
            "  import pandas.util.testing as tm\n"
          ],
          "name": "stderr"
        },
        {
          "output_type": "display_data",
          "data": {
            "image/png": "[encoded data removed]",
            "text/plain": [
              "<Figure size 720x720 with 4 Axes>"
            ]
          },
          "metadata": {
            "tags": [],
            "needs_background": "light"
          }
        }
      ]
    },
    {
      "cell_type": "markdown",
      "metadata": {
        "id": "3Of0rdccMMda",
        "colab_type": "text"
      },
      "source": [
        "***Density plots for Date column***\n",
        "\n",
        "\n",
        "\n"
      ]
    },
    {
      "cell_type": "code",
      "metadata": {
        "id": "uEesL5aY58d8",
        "colab_type": "code",
        "colab": {
          "base_uri": "https://localhost:8080/",
          "height": 459
        },
        "outputId": "f9e70b85-0222-41e8-98e2-b9fb3ab46e28"
      },
      "source": [
        "fig, axes = plt.subplots(2 ,figsize=(7, 7))\n",
        "sns.distplot(df.date , color=\"darkblue\", ax=axes[0], axlabel='Original data - date')\n",
        "sns.distplot(new_data.date , color=\"darkblue\", ax=axes[1], axlabel='Synthetic data - date')"
      ],
      "execution_count": null,
      "outputs": [
        {
          "output_type": "execute_result",
          "data": {
            "text/plain": [
              "<matplotlib.axes._subplots.AxesSubplot at 0x7f4d96fd1908>"
            ]
          },
          "metadata": {
            "tags": []
          },
          "execution_count": 12
        },
        {
          "output_type": "display_data",
          "data": {
            "image/png": "[encoded data removed]",
            "text/plain": [
              "<Figure size 504x504 with 2 Axes>"
            ]
          },
          "metadata": {
            "tags": [],
            "needs_background": "light"
          }
        }
      ]
    },
    {
      "cell_type": "markdown",
      "metadata": {
        "id": "aYYnmlBoMWCr",
        "colab_type": "text"
      },
      "source": [
        "***Density plots for Balance and Amount columns***"
      ]
    },
    {
      "cell_type": "code",
      "metadata": {
        "id": "r2xvngLD9HFG",
        "colab_type": "code",
        "colab": {
          "base_uri": "https://localhost:8080/",
          "height": 606
        },
        "outputId": "4f4cc1bd-d6ae-463c-8ec5-f78a9fa24e74"
      },
      "source": [
        "fig, axes = plt.subplots(2,2 , figsize=(10, 10))\n",
        "\n",
        "sns.distplot(new_data.amount , color=\"darkblue\", ax=axes[0,0], axlabel='Original Data - Amount')\n",
        "sns.distplot(new_data.amount , color=\"darkblue\", ax=axes[0,1], axlabel='Synthetic Data - Amount')\n",
        "\n",
        "sns.distplot(new_data.balance, color=\"darkblue\", ax=axes[1,0], axlabel='Original Data - Balance')\n",
        "sns.distplot(new_data.balance, color=\"darkblue\", ax=axes[1,1], axlabel='Synthetic Data - Balance')\n",
        "plt.show();"
      ],
      "execution_count": null,
      "outputs": [
        {
          "output_type": "display_data",
          "data": {
            "image/png": "[encoded data removed]",
            "text/plain": [
              "<Figure size 720x720 with 4 Axes>"
            ]
          },
          "metadata": {
            "tags": [],
            "needs_background": "light"
          }
        }
      ]
    },
    {
      "cell_type": "markdown",
      "metadata": {
        "id": "lU5e5nUSMbYS",
        "colab_type": "text"
      },
      "source": [
        "***Histograms for Categorical Varibles***"
      ]
    },
    {
      "cell_type": "code",
      "metadata": {
        "id": "tHqgDuEyt7Gg",
        "colab_type": "code",
        "colab": {
          "base_uri": "https://localhost:8080/",
          "height": 322
        },
        "outputId": "a366bb04-2fbc-4745-afbf-c5002b96a30a"
      },
      "source": [
        "# Type column - Original data\n",
        "df['type'].value_counts().plot(kind='bar',title = 'Original data - Type')"
      ],
      "execution_count": null,
      "outputs": [
        {
          "output_type": "execute_result",
          "data": {
            "text/plain": [
              "<matplotlib.axes._subplots.AxesSubplot at 0x7f4dac1bd198>"
            ]
          },
          "metadata": {
            "tags": []
          },
          "execution_count": 15
        },
        {
          "output_type": "display_data",
          "data": {
            "image/png": "[encoded data removed]",
            "text/plain": [
              "<Figure size 432x288 with 1 Axes>"
            ]
          },
          "metadata": {
            "tags": [],
            "needs_background": "light"
          }
        }
      ]
    },
    {
      "cell_type": "code",
      "metadata": {
        "id": "xhk14-DxuQLY",
        "colab_type": "code",
        "colab": {
          "base_uri": "https://localhost:8080/",
          "height": 322
        },
        "outputId": "544d2aa0-01b0-4110-ed86-35dc6615fe1f"
      },
      "source": [
        "# Type column - Synthetic data\n",
        "new_data['type'].value_counts().plot(kind='bar', title = 'Synthetic data - Type')"
      ],
      "execution_count": null,
      "outputs": [
        {
          "output_type": "execute_result",
          "data": {
            "text/plain": [
              "<matplotlib.axes._subplots.AxesSubplot at 0x7f4dac13d9b0>"
            ]
          },
          "metadata": {
            "tags": []
          },
          "execution_count": 16
        },
        {
          "output_type": "display_data",
          "data": {
            "image/png": "[encoded data removed]",
            "text/plain": [
              "<Figure size 432x288 with 1 Axes>"
            ]
          },
          "metadata": {
            "tags": [],
            "needs_background": "light"
          }
        }
      ]
    },
    {
      "cell_type": "markdown",
      "metadata": {
        "id": "OkB_izOnMmxl",
        "colab_type": "text"
      },
      "source": [
        "***Histogram for Operation column***"
      ]
    },
    {
      "cell_type": "code",
      "metadata": {
        "id": "2E1gsZQAuWr3",
        "colab_type": "code",
        "colab": {
          "base_uri": "https://localhost:8080/",
          "height": 377
        },
        "outputId": "87655f0e-a756-4da2-a26b-eb3785f5ba32"
      },
      "source": [
        "# Operation column - Original Data\n",
        "df['operation'].value_counts().plot(kind='bar',title = 'Original data - Operation')"
      ],
      "execution_count": null,
      "outputs": [
        {
          "output_type": "execute_result",
          "data": {
            "text/plain": [
              "<matplotlib.axes._subplots.AxesSubplot at 0x7f4dac0fccf8>"
            ]
          },
          "metadata": {
            "tags": []
          },
          "execution_count": 17
        },
        {
          "output_type": "display_data",
          "data": {
            "image/png": "[encoded data removed]",
            "text/plain": [
              "<Figure size 432x288 with 1 Axes>"
            ]
          },
          "metadata": {
            "tags": [],
            "needs_background": "light"
          }
        }
      ]
    },
    {
      "cell_type": "code",
      "metadata": {
        "id": "D0trC5guubFe",
        "colab_type": "code",
        "colab": {
          "base_uri": "https://localhost:8080/",
          "height": 377
        },
        "outputId": "f19d9a33-fd8a-4d8c-9474-4416e022d3b1"
      },
      "source": [
        "# Operation column - Synethtic data \n",
        "new_data['operation'].value_counts().plot(kind='bar',title = 'Synthetic data - Operation')"
      ],
      "execution_count": null,
      "outputs": [
        {
          "output_type": "execute_result",
          "data": {
            "text/plain": [
              "<matplotlib.axes._subplots.AxesSubplot at 0x7f4d99b74320>"
            ]
          },
          "metadata": {
            "tags": []
          },
          "execution_count": 18
        },
        {
          "output_type": "display_data",
          "data": {
            "image/png": "[encoded data removed]",
            "text/plain": [
              "<Figure size 432x288 with 1 Axes>"
            ]
          },
          "metadata": {
            "tags": [],
            "needs_background": "light"
          }
        }
      ]
    },
    {
      "cell_type": "markdown",
      "metadata": {
        "id": "jevRQ9TUN5EG",
        "colab_type": "text"
      },
      "source": [
        "***Histogram for k_symbol column***"
      ]
    },
    {
      "cell_type": "code",
      "metadata": {
        "id": "931J85DVueyB",
        "colab_type": "code",
        "colab": {
          "base_uri": "https://localhost:8080/",
          "height": 357
        },
        "outputId": "4e702495-a60c-44d0-a67d-a78620850396"
      },
      "source": [
        "# k_symbol - Original Data\n",
        "df['k_symbol'].value_counts().plot(kind='bar',title = 'Original data - k_symbol')"
      ],
      "execution_count": null,
      "outputs": [
        {
          "output_type": "execute_result",
          "data": {
            "text/plain": [
              "<matplotlib.axes._subplots.AxesSubplot at 0x7f4dac026a58>"
            ]
          },
          "metadata": {
            "tags": []
          },
          "execution_count": 19
        },
        {
          "output_type": "display_data",
          "data": {
            "image/png": "[encoded data removed]",
            "text/plain": [
              "<Figure size 432x288 with 1 Axes>"
            ]
          },
          "metadata": {
            "tags": [],
            "needs_background": "light"
          }
        }
      ]
    },
    {
      "cell_type": "code",
      "metadata": {
        "id": "t1UIGIEKuiHY",
        "colab_type": "code",
        "colab": {
          "base_uri": "https://localhost:8080/",
          "height": 357
        },
        "outputId": "56b03b13-d6e4-45a3-cfa5-d3c030f5520f"
      },
      "source": [
        "#k_symbol - Synthetic Data\n",
        "new_data['k_symbol'].value_counts().plot(kind='bar',title = 'Original data - k_symbol')"
      ],
      "execution_count": null,
      "outputs": [
        {
          "output_type": "execute_result",
          "data": {
            "text/plain": [
              "<matplotlib.axes._subplots.AxesSubplot at 0x7f4dabfb6be0>"
            ]
          },
          "metadata": {
            "tags": []
          },
          "execution_count": 20
        },
        {
          "output_type": "display_data",
          "data": {
            "image/png": "[encoded data removed]",
            "text/plain": [
              "<Figure size 432x288 with 1 Axes>"
            ]
          },
          "metadata": {
            "tags": [],
            "needs_background": "light"
          }
        }
      ]
    },
    {
      "cell_type": "markdown",
      "metadata": {
        "id": "8Cuy_P2MOErL",
        "colab_type": "text"
      },
      "source": [
        "***2. KL Divergence Test***"
      ]
    },
    {
      "cell_type": "code",
      "metadata": {
        "id": "jQ1dPjujulY5",
        "colab_type": "code",
        "colab": {
          "base_uri": "https://localhost:8080/",
          "height": 86
        },
        "outputId": "a41bdf95-2dc0-422d-9584-aa0e374588f4"
      },
      "source": [
        "# KL Divergence for 'Type' column\n",
        "\n",
        "df['type'].value_counts(ascending = True)"
      ],
      "execution_count": null,
      "outputs": [
        {
          "output_type": "execute_result",
          "data": {
            "text/plain": [
              "VYBER      16471\n",
              "PRIJEM    400209\n",
              "VYDAJ     631895\n",
              "Name: type, dtype: int64"
            ]
          },
          "metadata": {
            "tags": []
          },
          "execution_count": 24
        }
      ]
    },
    {
      "cell_type": "code",
      "metadata": {
        "id": "OiRYjMBUuxIz",
        "colab_type": "code",
        "colab": {
          "base_uri": "https://localhost:8080/",
          "height": 86
        },
        "outputId": "4f172dbd-bac7-451c-909f-041b8a42c116"
      },
      "source": [
        "samples['type'].value_counts(ascending = True)"
      ],
      "execution_count": null,
      "outputs": [
        {
          "output_type": "execute_result",
          "data": {
            "text/plain": [
              "VYBER       37\n",
              "PRIJEM    4068\n",
              "VYDAJ     5895\n",
              "Name: type, dtype: int64"
            ]
          },
          "metadata": {
            "tags": []
          },
          "execution_count": 26
        }
      ]
    },
    {
      "cell_type": "code",
      "metadata": {
        "id": "vN7pVVmru0TK",
        "colab_type": "code",
        "colab": {
          "base_uri": "https://localhost:8080/",
          "height": 282
        },
        "outputId": "a8ced046-73f7-418c-e1ba-02a0c392bf96"
      },
      "source": [
        "from matplotlib import pyplot\n",
        "type = ['VYBER', 'PRIJEM', 'VYDAJ']\n",
        "p = [16471/1048575, 400209/1048575, 631895/1048575]\n",
        "q = [ 37/10000, 4068/10000, 5895/10000]\n",
        "print('P=%.3f Q=%.3f' % (sum(p), sum(q)))\n",
        "# plot first distribution\n",
        "pyplot.subplot(2,1,1)\n",
        "pyplot.bar(type, p)\n",
        "# plot second distribution\n",
        "pyplot.subplot(2,1,2)\n",
        "pyplot.bar(type, q)\n",
        "# show the plot\n",
        "pyplot.show()"
      ],
      "execution_count": null,
      "outputs": [
        {
          "output_type": "stream",
          "text": [
            "P=1.000 Q=1.000\n"
          ],
          "name": "stdout"
        },
        {
          "output_type": "display_data",
          "data": {
            "image/png": "[encoded data removed]",
            "text/plain": [
              "<Figure size 432x288 with 2 Axes>"
            ]
          },
          "metadata": {
            "tags": [],
            "needs_background": "light"
          }
        }
      ]
    },
    {
      "cell_type": "code",
      "metadata": {
        "id": "qGvn1wcNvqrA",
        "colab_type": "code",
        "colab": {
          "base_uri": "https://localhost:8080/",
          "height": 34
        },
        "outputId": "8d803e75-8f24-47dc-e2ca-8daa71346183"
      },
      "source": [
        "from math import log2\n",
        "# calculate the kl divergence\n",
        "def kl_divergence(p, q):\n",
        "    return sum(p[i] * log2(p[i]/q[i]) for i in range(len(p)))\n",
        "\n",
        "# calculate (P || Q)\n",
        "kl_pq = kl_divergence(p, q) \n",
        "print(kl_pq)"
      ],
      "execution_count": null,
      "outputs": [
        {
          "output_type": "stream",
          "text": [
            "0.016794284981456596\n"
          ],
          "name": "stdout"
        }
      ]
    },
    {
      "cell_type": "code",
      "metadata": {
        "id": "hRrnNEFjEm8P",
        "colab_type": "code",
        "colab": {
          "base_uri": "https://localhost:8080/",
          "height": 34
        },
        "outputId": "35b24a66-82b2-4268-dac6-cb8ba05f7c9f"
      },
      "source": [
        "# calculate (Q||P)\n",
        "kl_qp = kl_divergence(q,p)\n",
        "print(kl_qp)"
      ],
      "execution_count": null,
      "outputs": [
        {
          "output_type": "stream",
          "text": [
            "0.010981911313083986\n"
          ],
          "name": "stdout"
        }
      ]
    },
    {
      "cell_type": "markdown",
      "metadata": {
        "id": "eQm3WZ9fOXXy",
        "colab_type": "text"
      },
      "source": [
        "***KL Divergence for 'Operation' column***"
      ]
    },
    {
      "cell_type": "code",
      "metadata": {
        "id": "-nz_CSoMvxgL",
        "colab_type": "code",
        "colab": {
          "base_uri": "https://localhost:8080/",
          "height": 137
        },
        "outputId": "0fb3db20-f55e-4c92-ee20-b6284d2d002c"
      },
      "source": [
        "# KL Divergence for 'Operation' column\n",
        "\n",
        "df['operation'].value_counts(ascending = True)"
      ],
      "execution_count": null,
      "outputs": [
        {
          "output_type": "execute_result",
          "data": {
            "text/plain": [
              "VYBER KARTOU        7706\n",
              "PREVOD Z UCTU      65226\n",
              "VKLAD             156320\n",
              "unspecified       178663\n",
              "PREVOD NA UCET    208283\n",
              "VYBER             432377\n",
              "Name: operation, dtype: int64"
            ]
          },
          "metadata": {
            "tags": []
          },
          "execution_count": 30
        }
      ]
    },
    {
      "cell_type": "code",
      "metadata": {
        "id": "_2sigaUNv0r_",
        "colab_type": "code",
        "colab": {
          "base_uri": "https://localhost:8080/",
          "height": 137
        },
        "outputId": "eaa5c2ee-8294-477c-e833-3a7c3af2647e"
      },
      "source": [
        "samples['operation'].value_counts(ascending = True)"
      ],
      "execution_count": null,
      "outputs": [
        {
          "output_type": "execute_result",
          "data": {
            "text/plain": [
              "VYBER KARTOU         6\n",
              "PREVOD Z UCTU      701\n",
              "VKLAD             1041\n",
              "PREVOD NA UCET    1542\n",
              "unspecified       2258\n",
              "VYBER             4452\n",
              "Name: operation, dtype: int64"
            ]
          },
          "metadata": {
            "tags": []
          },
          "execution_count": 32
        }
      ]
    },
    {
      "cell_type": "code",
      "metadata": {
        "id": "WYgEQiW2v3VT",
        "colab_type": "code",
        "colab": {
          "base_uri": "https://localhost:8080/",
          "height": 282
        },
        "outputId": "89378898-4f98-414e-ea65-3b9447109526"
      },
      "source": [
        "from matplotlib import pyplot\n",
        "operation = ['PREVOD Z UCTU','VYBER KARTOU','PREVOD NA UCET','VYBER','VKLAD','unspecified']    #not including outliers (unspecified operation and operation)\n",
        "p = [65226/1048575, 7706/1048575, 208283/1048575, 432477/1048575, 156320/1048575, 178663/1048575]\n",
        "q = [701/10000, 6/10000, 1542/10000, 4452/10000, 1041/10000, 2258/10000]  \n",
        "print('P=%.3f Q=%.3f' % (sum(p), sum(q)))\n",
        "# plot first distribution\n",
        "pyplot.subplot(2,1,1)\n",
        "pyplot.bar(operation, p)\n",
        "# plot second distribution\n",
        "pyplot.subplot(2,1,2)\n",
        "pyplot.bar(operation, q)\n",
        "# show the plot\n",
        "pyplot.show()"
      ],
      "execution_count": null,
      "outputs": [
        {
          "output_type": "stream",
          "text": [
            "P=1.000 Q=1.000\n"
          ],
          "name": "stdout"
        },
        {
          "output_type": "display_data",
          "data": {
            "image/png": "[encoded data removed]",
            "text/plain": [
              "<Figure size 432x288 with 2 Axes>"
            ]
          },
          "metadata": {
            "tags": [],
            "needs_background": "light"
          }
        }
      ]
    },
    {
      "cell_type": "code",
      "metadata": {
        "id": "_O5Oo58BwZ9e",
        "colab_type": "code",
        "colab": {
          "base_uri": "https://localhost:8080/",
          "height": 34
        },
        "outputId": "f4f52bc5-6767-4c3c-e2ab-3cf28add2c04"
      },
      "source": [
        "from math import log2\n",
        "# calculate the kl divergence\n",
        "def kl_divergence(p, q):\n",
        "    return sum(p[i] * log2(p[i]/q[i]) for i in range(len(p)))\n",
        "\n",
        "# calculate (P || Q)\n",
        "kl_pq = kl_divergence(p, q) \n",
        "print(kl_pq)"
      ],
      "execution_count": null,
      "outputs": [
        {
          "output_type": "stream",
          "text": [
            "0.05094785397744099\n"
          ],
          "name": "stdout"
        }
      ]
    },
    {
      "cell_type": "code",
      "metadata": {
        "id": "WzF-tfN7FX6F",
        "colab_type": "code",
        "colab": {
          "base_uri": "https://localhost:8080/",
          "height": 34
        },
        "outputId": "2b07df4c-cadc-45b8-c244-03fa8eacc360"
      },
      "source": [
        "# calculate (Q||P)\n",
        "kl_qp = kl_divergence(q,p)\n",
        "print(kl_qp)"
      ],
      "execution_count": null,
      "outputs": [
        {
          "output_type": "stream",
          "text": [
            "0.040466388299373414\n"
          ],
          "name": "stdout"
        }
      ]
    },
    {
      "cell_type": "markdown",
      "metadata": {
        "id": "uDuxC2R_Oa6q",
        "colab_type": "text"
      },
      "source": [
        "***KL Divergence for 'k_symbol' column***"
      ]
    },
    {
      "cell_type": "code",
      "metadata": {
        "id": "_1VuCBUfwf_e",
        "colab_type": "code",
        "colab": {
          "base_uri": "https://localhost:8080/",
          "height": 171
        },
        "outputId": "083fc48a-0293-4aa3-b3cf-5904a66be8f5"
      },
      "source": [
        "# KL Divergence - 'k_symbol' column\n",
        "df['k_symbol'].value_counts(ascending = True)"
      ],
      "execution_count": null,
      "outputs": [
        {
          "output_type": "execute_result",
          "data": {
            "text/plain": [
              "SANKC. UROK      1527\n",
              "UVER            13580\n",
              "POJISTNE        18500\n",
              "DUCHOD          30338\n",
              "SIPO           118057\n",
              "SLUZBY         155832\n",
              "UROK           178663\n",
              "unspecified    532078\n",
              "Name: k_symbol, dtype: int64"
            ]
          },
          "metadata": {
            "tags": []
          },
          "execution_count": 36
        }
      ]
    },
    {
      "cell_type": "code",
      "metadata": {
        "id": "QqfI3NTzwi2y",
        "colab_type": "code",
        "colab": {
          "base_uri": "https://localhost:8080/",
          "height": 171
        },
        "outputId": "c7a6d7b3-4d18-4780-eb25-09e1ddf3a9f5"
      },
      "source": [
        "samples['k_symbol'].value_counts(ascending = True)"
      ],
      "execution_count": null,
      "outputs": [
        {
          "output_type": "execute_result",
          "data": {
            "text/plain": [
              "UVER              9\n",
              "SANKC. UROK      37\n",
              "POJISTNE         53\n",
              "DUCHOD          672\n",
              "SIPO            762\n",
              "SLUZBY         1267\n",
              "UROK           2150\n",
              "unspecified    5050\n",
              "Name: k_symbol, dtype: int64"
            ]
          },
          "metadata": {
            "tags": []
          },
          "execution_count": 38
        }
      ]
    },
    {
      "cell_type": "code",
      "metadata": {
        "id": "IoI6uyUMwl0O",
        "colab_type": "code",
        "colab": {
          "base_uri": "https://localhost:8080/",
          "height": 282
        },
        "outputId": "f68dad07-f880-4588-c760-625dc4d8fd44"
      },
      "source": [
        "from matplotlib import pyplot\n",
        "k_symbol = ['SANKC.UROK', 'UVER','POJISTNE','DUCHOD','SIPO','SLUZBY','UROK','unspecified']                     \n",
        "p = [1527/1048575, 13580/1048575, 18500/1048575, 30338/1048575, 118057/1048575, 155832/1048575, 178663/1048575, 532078/1048575]\n",
        "q = [37/10000, 9/10000, 53/10000, 672/10000, 762/10000, 126710000, 2150/10000, 5050/10000]\n",
        "print('P=%.3f Q=%.3f' % (sum(p), sum(q)))\n",
        "# plot first distribution\n",
        "pyplot.subplot(2,1,1)\n",
        "pyplot.bar(k_symbol, p)\n",
        "# plot second distribution\n",
        "pyplot.subplot(2,1,2)\n",
        "pyplot.bar(k_symbol, q)\n",
        "# show the plot\n",
        "pyplot.show()"
      ],
      "execution_count": null,
      "outputs": [
        {
          "output_type": "stream",
          "text": [
            "P=1.000 Q=126710000.873\n"
          ],
          "name": "stdout"
        },
        {
          "output_type": "display_data",
          "data": {
            "image/png": "[encoded data removed]",
            "text/plain": [
              "<Figure size 432x288 with 2 Axes>"
            ]
          },
          "metadata": {
            "tags": [],
            "needs_background": "light"
          }
        }
      ]
    },
    {
      "cell_type": "code",
      "metadata": {
        "id": "BOUgQ3c-xRvh",
        "colab_type": "code",
        "colab": {
          "base_uri": "https://localhost:8080/",
          "height": 34
        },
        "outputId": "b1e04221-8c88-4c76-a6a6-e8f753c70fec"
      },
      "source": [
        "from math import log2\n",
        "# calculate the kl divergence\n",
        "def kl_divergence(p, q):\n",
        "    return sum(p[i] * log2(p[i]/q[i]) for i in range(len(p)))\n",
        "\n",
        "# calculate (P || Q)\n",
        "kl_pq = kl_divergence(p, q) \n",
        "print(kl_pq)"
      ],
      "execution_count": null,
      "outputs": [
        {
          "output_type": "stream",
          "text": [
            "-4.355901329558758\n"
          ],
          "name": "stdout"
        }
      ]
    },
    {
      "cell_type": "code",
      "metadata": {
        "id": "VnQF6DeTGTrJ",
        "colab_type": "code",
        "colab": {
          "base_uri": "https://localhost:8080/",
          "height": 34
        },
        "outputId": "21609e6f-7ca8-4bd5-a2a8-c37c7fc5244c"
      },
      "source": [
        "# calculate (Q||P)\n",
        "kl_qp = kl_divergence(q,p)\n",
        "print(kl_qp)"
      ],
      "execution_count": null,
      "outputs": [
        {
          "output_type": "stream",
          "text": [
            "3759146342.271576\n"
          ],
          "name": "stdout"
        }
      ]
    }
  ]
}