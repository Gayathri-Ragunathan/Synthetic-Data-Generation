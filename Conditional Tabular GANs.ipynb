{
  "nbformat": 4,
  "nbformat_minor": 0,
  "metadata": {
    "colab": {
      "name": "Final-CTGANS",
      "provenance": [],
      "collapsed_sections": []
    },
    "kernelspec": {
      "name": "python3",
      "display_name": "Python 3"
    }
  },
  "cells": [
    {
      "cell_type": "markdown",
      "metadata": {
        "id": "YDOzNt0tu6S3",
        "colab_type": "text"
      },
      "source": [
        "***Conditional Tabular GANS***"
      ]
    },
    {
      "cell_type": "code",
      "metadata": {
        "id": "mVr1nDnXwIqJ",
        "colab_type": "code",
        "colab": {
          "base_uri": "https://localhost:8080/",
          "height": 123
        },
        "outputId": "9182f551-e844-4178-b058-be28f34d00d3"
      },
      "source": [
        "# connect to google drive to import data\n",
        "\n",
        "from google.colab import drive\n",
        "\n",
        "#need to input a key to connect to your drive\n",
        "drive.mount('/content/drive')\n"
      ],
      "execution_count": null,
      "outputs": [
        {
          "output_type": "stream",
          "text": [
            "Go to this URL in a browser: https://accounts.google.com/o/oauth2/auth?client_id=947318989803-6bn6qk8qdgf4n4g3pfee6491hc0brc4i.apps.googleusercontent.com&redirect_uri=urn%3aietf%3awg%3aoauth%3a2.0%3aoob&scope=email%20https%3a%2f%2fwww.googleapis.com%2fauth%2fdocs.test%20https%3a%2f%2fwww.googleapis.com%2fauth%2fdrive%20https%3a%2f%2fwww.googleapis.com%2fauth%2fdrive.photos.readonly%20https%3a%2f%2fwww.googleapis.com%2fauth%2fpeopleapi.readonly&response_type=code\n",
            "\n",
            "Enter your authorization code:\n",
            "··········\n",
            "Mounted at /content/drive\n"
          ],
          "name": "stdout"
        }
      ]
    },
    {
      "cell_type": "code",
      "metadata": {
        "id": "C4GDgnFCw4mR",
        "colab_type": "code",
        "colab": {
          "base_uri": "https://localhost:8080/",
          "height": 274
        },
        "outputId": "16385daa-d915-4cbe-b6f7-dc9165d0cd57"
      },
      "source": [
        "import pandas as pd \n",
        "import matplotlib\n",
        "df = pd.read_csv('/content/drive/My Drive/trans.csv')\n",
        "df.info()\n"
      ],
      "execution_count": null,
      "outputs": [
        {
          "output_type": "stream",
          "text": [
            "<class 'pandas.core.frame.DataFrame'>\n",
            "RangeIndex: 1048575 entries, 0 to 1048574\n",
            "Data columns (total 8 columns):\n",
            " #   Column      Non-Null Count    Dtype  \n",
            "---  ------      --------------    -----  \n",
            " 0   trans_id    1048575 non-null  int64  \n",
            " 1   account_id  1048575 non-null  int64  \n",
            " 2   date        1048575 non-null  int64  \n",
            " 3   type        1048575 non-null  object \n",
            " 4   operation   869912 non-null   object \n",
            " 5   amount      1048575 non-null  float64\n",
            " 6   balance     1048575 non-null  float64\n",
            " 7   k_symbol    569929 non-null   object \n",
            "dtypes: float64(2), int64(3), object(3)\n",
            "memory usage: 64.0+ MB\n"
          ],
          "name": "stdout"
        }
      ]
    },
    {
      "cell_type": "code",
      "metadata": {
        "id": "-hlWkSZnyBVw",
        "colab_type": "code",
        "colab": {
          "base_uri": "https://localhost:8080/",
          "height": 295
        },
        "outputId": "d90f922d-722d-48f8-f2c2-c8013b807361"
      },
      "source": [
        "df.describe()"
      ],
      "execution_count": null,
      "outputs": [
        {
          "output_type": "execute_result",
          "data": {
            "text/html": [
              "<div>\n",
              "<style scoped>\n",
              "    .dataframe tbody tr th:only-of-type {\n",
              "        vertical-align: middle;\n",
              "    }\n",
              "\n",
              "    .dataframe tbody tr th {\n",
              "        vertical-align: top;\n",
              "    }\n",
              "\n",
              "    .dataframe thead th {\n",
              "        text-align: right;\n",
              "    }\n",
              "</style>\n",
              "<table border=\"1\" class=\"dataframe\">\n",
              "  <thead>\n",
              "    <tr style=\"text-align: right;\">\n",
              "      <th></th>\n",
              "      <th>trans_id</th>\n",
              "      <th>account_id</th>\n",
              "      <th>date</th>\n",
              "      <th>amount</th>\n",
              "      <th>balance</th>\n",
              "    </tr>\n",
              "  </thead>\n",
              "  <tbody>\n",
              "    <tr>\n",
              "      <th>count</th>\n",
              "      <td>1.048575e+06</td>\n",
              "      <td>1.048575e+06</td>\n",
              "      <td>1.048575e+06</td>\n",
              "      <td>1.048575e+06</td>\n",
              "      <td>1.048575e+06</td>\n",
              "    </tr>\n",
              "    <tr>\n",
              "      <th>mean</th>\n",
              "      <td>1.327034e+06</td>\n",
              "      <td>2.936277e+03</td>\n",
              "      <td>9.655599e+05</td>\n",
              "      <td>5.942088e+03</td>\n",
              "      <td>3.845673e+04</td>\n",
              "    </tr>\n",
              "    <tr>\n",
              "      <th>std</th>\n",
              "      <td>1.222294e+06</td>\n",
              "      <td>2.477151e+03</td>\n",
              "      <td>1.393231e+04</td>\n",
              "      <td>9.529394e+03</td>\n",
              "      <td>2.206851e+04</td>\n",
              "    </tr>\n",
              "    <tr>\n",
              "      <th>min</th>\n",
              "      <td>1.000000e+00</td>\n",
              "      <td>1.000000e+00</td>\n",
              "      <td>9.301010e+05</td>\n",
              "      <td>0.000000e+00</td>\n",
              "      <td>-4.112570e+04</td>\n",
              "    </tr>\n",
              "    <tr>\n",
              "      <th>25%</th>\n",
              "      <td>4.280845e+05</td>\n",
              "      <td>1.204000e+03</td>\n",
              "      <td>9.601130e+05</td>\n",
              "      <td>1.359000e+02</td>\n",
              "      <td>2.238840e+04</td>\n",
              "    </tr>\n",
              "    <tr>\n",
              "      <th>50%</th>\n",
              "      <td>8.554380e+05</td>\n",
              "      <td>2.434000e+03</td>\n",
              "      <td>9.704060e+05</td>\n",
              "      <td>2.100000e+03</td>\n",
              "      <td>3.309880e+04</td>\n",
              "    </tr>\n",
              "    <tr>\n",
              "      <th>75%</th>\n",
              "      <td>1.982606e+06</td>\n",
              "      <td>3.659000e+03</td>\n",
              "      <td>9.802120e+05</td>\n",
              "      <td>6.817000e+03</td>\n",
              "      <td>4.950220e+04</td>\n",
              "    </tr>\n",
              "    <tr>\n",
              "      <th>max</th>\n",
              "      <td>3.682986e+06</td>\n",
              "      <td>1.138200e+04</td>\n",
              "      <td>9.812190e+05</td>\n",
              "      <td>8.740000e+04</td>\n",
              "      <td>2.096370e+05</td>\n",
              "    </tr>\n",
              "  </tbody>\n",
              "</table>\n",
              "</div>"
            ],
            "text/plain": [
              "           trans_id    account_id          date        amount       balance\n",
              "count  1.048575e+06  1.048575e+06  1.048575e+06  1.048575e+06  1.048575e+06\n",
              "mean   1.327034e+06  2.936277e+03  9.655599e+05  5.942088e+03  3.845673e+04\n",
              "std    1.222294e+06  2.477151e+03  1.393231e+04  9.529394e+03  2.206851e+04\n",
              "min    1.000000e+00  1.000000e+00  9.301010e+05  0.000000e+00 -4.112570e+04\n",
              "25%    4.280845e+05  1.204000e+03  9.601130e+05  1.359000e+02  2.238840e+04\n",
              "50%    8.554380e+05  2.434000e+03  9.704060e+05  2.100000e+03  3.309880e+04\n",
              "75%    1.982606e+06  3.659000e+03  9.802120e+05  6.817000e+03  4.950220e+04\n",
              "max    3.682986e+06  1.138200e+04  9.812190e+05  8.740000e+04  2.096370e+05"
            ]
          },
          "metadata": {
            "tags": []
          },
          "execution_count": 5
        }
      ]
    },
    {
      "cell_type": "markdown",
      "metadata": {
        "id": "W0TjOtOC9MjI",
        "colab_type": "text"
      },
      "source": [
        "**Importing the csv file using pandas library**\n",
        "\n",
        "*Loading the dataset to df and displaying the dataset information such as number of rows and columns, name of the columns and its datatypes*"
      ]
    },
    {
      "cell_type": "code",
      "metadata": {
        "id": "Pdd_HGwyU1DK",
        "colab_type": "code",
        "colab": {
          "base_uri": "https://localhost:8080/",
          "height": 274
        },
        "outputId": "9062251c-5670-4f01-d104-608c7e02d791"
      },
      "source": [
        "import pandas as pd\n",
        "import matplotlib\n",
        "df = pd.read_csv(\"trans.csv\")\n",
        "df.info()"
      ],
      "execution_count": null,
      "outputs": [
        {
          "output_type": "stream",
          "text": [
            "<class 'pandas.core.frame.DataFrame'>\n",
            "RangeIndex: 1048575 entries, 0 to 1048574\n",
            "Data columns (total 8 columns):\n",
            " #   Column      Non-Null Count    Dtype  \n",
            "---  ------      --------------    -----  \n",
            " 0   trans_id    1048575 non-null  int64  \n",
            " 1   account_id  1048575 non-null  int64  \n",
            " 2   date        1048575 non-null  int64  \n",
            " 3   type        1048575 non-null  object \n",
            " 4   operation   869912 non-null   object \n",
            " 5   amount      1048575 non-null  float64\n",
            " 6   balance     1048575 non-null  float64\n",
            " 7   k_symbol    569929 non-null   object \n",
            "dtypes: float64(2), int64(3), object(3)\n",
            "memory usage: 64.0+ MB\n"
          ],
          "name": "stdout"
        }
      ]
    },
    {
      "cell_type": "markdown",
      "metadata": {
        "id": "KJnZKQiB-np-",
        "colab_type": "text"
      },
      "source": [
        "***Displaying the First-five observations of the dataset***"
      ]
    },
    {
      "cell_type": "code",
      "metadata": {
        "id": "IehdAUZBVIOh",
        "colab_type": "code",
        "colab": {
          "base_uri": "https://localhost:8080/",
          "height": 203
        },
        "outputId": "aa935ff4-eb3d-49d8-9932-865920afcdcd"
      },
      "source": [
        "df.head()\n",
        "df.describe()"
      ],
      "execution_count": null,
      "outputs": [
        {
          "output_type": "execute_result",
          "data": {
            "text/html": [
              "<div>\n",
              "<style scoped>\n",
              "    .dataframe tbody tr th:only-of-type {\n",
              "        vertical-align: middle;\n",
              "    }\n",
              "\n",
              "    .dataframe tbody tr th {\n",
              "        vertical-align: top;\n",
              "    }\n",
              "\n",
              "    .dataframe thead th {\n",
              "        text-align: right;\n",
              "    }\n",
              "</style>\n",
              "<table border=\"1\" class=\"dataframe\">\n",
              "  <thead>\n",
              "    <tr style=\"text-align: right;\">\n",
              "      <th></th>\n",
              "      <th>trans_id</th>\n",
              "      <th>account_id</th>\n",
              "      <th>date</th>\n",
              "      <th>type</th>\n",
              "      <th>operation</th>\n",
              "      <th>amount</th>\n",
              "      <th>balance</th>\n",
              "      <th>k_symbol</th>\n",
              "    </tr>\n",
              "  </thead>\n",
              "  <tbody>\n",
              "    <tr>\n",
              "      <th>0</th>\n",
              "      <td>695247</td>\n",
              "      <td>2378</td>\n",
              "      <td>930101</td>\n",
              "      <td>PRIJEM</td>\n",
              "      <td>VKLAD</td>\n",
              "      <td>700.0</td>\n",
              "      <td>700.0</td>\n",
              "      <td>unspecified</td>\n",
              "    </tr>\n",
              "    <tr>\n",
              "      <th>1</th>\n",
              "      <td>171812</td>\n",
              "      <td>576</td>\n",
              "      <td>930101</td>\n",
              "      <td>PRIJEM</td>\n",
              "      <td>VKLAD</td>\n",
              "      <td>900.0</td>\n",
              "      <td>900.0</td>\n",
              "      <td>unspecified</td>\n",
              "    </tr>\n",
              "    <tr>\n",
              "      <th>2</th>\n",
              "      <td>207264</td>\n",
              "      <td>704</td>\n",
              "      <td>930101</td>\n",
              "      <td>PRIJEM</td>\n",
              "      <td>VKLAD</td>\n",
              "      <td>1000.0</td>\n",
              "      <td>1000.0</td>\n",
              "      <td>unspecified</td>\n",
              "    </tr>\n",
              "    <tr>\n",
              "      <th>3</th>\n",
              "      <td>1117247</td>\n",
              "      <td>3818</td>\n",
              "      <td>930101</td>\n",
              "      <td>PRIJEM</td>\n",
              "      <td>VKLAD</td>\n",
              "      <td>600.0</td>\n",
              "      <td>600.0</td>\n",
              "      <td>unspecified</td>\n",
              "    </tr>\n",
              "    <tr>\n",
              "      <th>4</th>\n",
              "      <td>579373</td>\n",
              "      <td>1972</td>\n",
              "      <td>930102</td>\n",
              "      <td>PRIJEM</td>\n",
              "      <td>VKLAD</td>\n",
              "      <td>400.0</td>\n",
              "      <td>400.0</td>\n",
              "      <td>unspecified</td>\n",
              "    </tr>\n",
              "  </tbody>\n",
              "</table>\n",
              "</div>"
            ],
            "text/plain": [
              "   trans_id  account_id    date    type operation  amount  balance     k_symbol\n",
              "0    695247        2378  930101  PRIJEM     VKLAD   700.0    700.0  unspecified\n",
              "1    171812         576  930101  PRIJEM     VKLAD   900.0    900.0  unspecified\n",
              "2    207264         704  930101  PRIJEM     VKLAD  1000.0   1000.0  unspecified\n",
              "3   1117247        3818  930101  PRIJEM     VKLAD   600.0    600.0  unspecified\n",
              "4    579373        1972  930102  PRIJEM     VKLAD   400.0    400.0  unspecified"
            ]
          },
          "metadata": {
            "tags": []
          },
          "execution_count": 115
        }
      ]
    },
    {
      "cell_type": "markdown",
      "metadata": {
        "id": "sD48Knel_W2U",
        "colab_type": "text"
      },
      "source": [
        "**Installing the ctgan package using pip command**\n",
        "\n",
        "*It directly installs the latest version of conditional GANS package from Python Package Index, which is a repository for Python programming language software*\n",
        "\n"
      ]
    },
    {
      "cell_type": "code",
      "metadata": {
        "id": "hxLLkPE6EUdg",
        "colab_type": "code",
        "colab": {
          "base_uri": "https://localhost:8080/",
          "height": 500
        },
        "outputId": "30dbdd84-abe6-4f59-f685-af01061c4c71"
      },
      "source": [
        "pip install ctgan"
      ],
      "execution_count": null,
      "outputs": [
        {
          "output_type": "stream",
          "text": [
            "Collecting ctgan\n",
            "  Downloading https://files.pythonhosted.org/packages/e2/e6/b744b740fb9636f726f0e8272fc25beb3340c6b1cd5385a9dd87f0316c24/ctgan-0.2.1-py2.py3-none-any.whl\n",
            "Requirement already satisfied: numpy<2,>=1.17.4 in /usr/local/lib/python3.6/dist-packages (from ctgan) (1.18.5)\n",
            "Requirement already satisfied: torch<2,>=1.0 in /usr/local/lib/python3.6/dist-packages (from ctgan) (1.6.0+cu101)\n",
            "Collecting pandas<0.26,>=0.24\n",
            "\u001b[?25l  Downloading https://files.pythonhosted.org/packages/52/3f/f6a428599e0d4497e1595030965b5ba455fd8ade6e977e3c819973c4b41d/pandas-0.25.3-cp36-cp36m-manylinux1_x86_64.whl (10.4MB)\n",
            "\u001b[K     |████████████████████████████████| 10.4MB 4.0MB/s \n",
            "\u001b[?25hRequirement already satisfied: torchvision<1,>=0.4.2 in /usr/local/lib/python3.6/dist-packages (from ctgan) (0.7.0+cu101)\n",
            "Requirement already satisfied: scikit-learn<0.23,>=0.21 in /usr/local/lib/python3.6/dist-packages (from ctgan) (0.22.2.post1)\n",
            "Requirement already satisfied: future in /usr/local/lib/python3.6/dist-packages (from torch<2,>=1.0->ctgan) (0.16.0)\n",
            "Requirement already satisfied: pytz>=2017.2 in /usr/local/lib/python3.6/dist-packages (from pandas<0.26,>=0.24->ctgan) (2018.9)\n",
            "Requirement already satisfied: python-dateutil>=2.6.1 in /usr/local/lib/python3.6/dist-packages (from pandas<0.26,>=0.24->ctgan) (2.8.1)\n",
            "Requirement already satisfied: pillow>=4.1.1 in /usr/local/lib/python3.6/dist-packages (from torchvision<1,>=0.4.2->ctgan) (7.0.0)\n",
            "Requirement already satisfied: scipy>=0.17.0 in /usr/local/lib/python3.6/dist-packages (from scikit-learn<0.23,>=0.21->ctgan) (1.4.1)\n",
            "Requirement already satisfied: joblib>=0.11 in /usr/local/lib/python3.6/dist-packages (from scikit-learn<0.23,>=0.21->ctgan) (0.16.0)\n",
            "Requirement already satisfied: six>=1.5 in /usr/local/lib/python3.6/dist-packages (from python-dateutil>=2.6.1->pandas<0.26,>=0.24->ctgan) (1.15.0)\n",
            "\u001b[31mERROR: google-colab 1.0.0 has requirement pandas~=1.0.0; python_version >= \"3.0\", but you'll have pandas 0.25.3 which is incompatible.\u001b[0m\n",
            "Installing collected packages: pandas, ctgan\n",
            "  Found existing installation: pandas 1.0.5\n",
            "    Uninstalling pandas-1.0.5:\n",
            "      Successfully uninstalled pandas-1.0.5\n",
            "Successfully installed ctgan-0.2.1 pandas-0.25.3\n"
          ],
          "name": "stdout"
        },
        {
          "output_type": "display_data",
          "data": {
            "application/vnd.colab-display-data+json": {
              "pip_warning": {
                "packages": [
                  "pandas"
                ]
              }
            }
          },
          "metadata": {
            "tags": []
          }
        }
      ]
    },
    {
      "cell_type": "markdown",
      "metadata": {
        "id": "HAI3HlEsAaZZ",
        "colab_type": "text"
      },
      "source": [
        "**Data Preparation**"
      ]
    },
    {
      "cell_type": "markdown",
      "metadata": {
        "id": "1ylpUH38FcKK",
        "colab_type": "text"
      },
      "source": [
        "*Checking for Missing values*"
      ]
    },
    {
      "cell_type": "code",
      "metadata": {
        "id": "bfAUAk_wFmv_",
        "colab_type": "code",
        "colab": {
          "base_uri": "https://localhost:8080/",
          "height": 171
        },
        "outputId": "7a6ef351-92eb-4c3c-d809-7c100b408f56"
      },
      "source": [
        "#Checking Null values in each column\n",
        "df.isnull().sum()"
      ],
      "execution_count": null,
      "outputs": [
        {
          "output_type": "execute_result",
          "data": {
            "text/plain": [
              "trans_id           0\n",
              "account_id         0\n",
              "date               0\n",
              "type               0\n",
              "operation     178663\n",
              "amount             0\n",
              "balance            0\n",
              "k_symbol      478646\n",
              "dtype: int64"
            ]
          },
          "metadata": {
            "tags": []
          },
          "execution_count": 7
        }
      ]
    },
    {
      "cell_type": "markdown",
      "metadata": {
        "id": "_owMoFONBllu",
        "colab_type": "text"
      },
      "source": [
        "*Replacing the missing values*"
      ]
    },
    {
      "cell_type": "code",
      "metadata": {
        "id": "s_4LGf4zC5tV",
        "colab_type": "code",
        "colab": {}
      },
      "source": [
        "# Filling the Missing values with 'Unspecified'\n",
        "df = df.fillna(value='unspecified') \n",
        "\n",
        "# Removing the space from the 'k_symbol', so the following code replaces the 'space' with 'unspecified'\n",
        "df = df.replace(' ', 'unspecified')"
      ],
      "execution_count": null,
      "outputs": []
    },
    {
      "cell_type": "markdown",
      "metadata": {
        "id": "UBI00UphByC8",
        "colab_type": "text"
      },
      "source": [
        "*Checking for Duplicate values*"
      ]
    },
    {
      "cell_type": "code",
      "metadata": {
        "id": "VNJjEUznBwKA",
        "colab_type": "code",
        "colab": {
          "base_uri": "https://localhost:8080/",
          "height": 34
        },
        "outputId": "8f5c6f2e-dcad-4e41-cd91-1345237164f0"
      },
      "source": [
        "#Checking for Duplicate values\n",
        "print(f'Duplicate values = {df.duplicated().sum()}')"
      ],
      "execution_count": null,
      "outputs": [
        {
          "output_type": "stream",
          "text": [
            "Duplicate values = 0\n"
          ],
          "name": "stdout"
        }
      ]
    },
    {
      "cell_type": "code",
      "metadata": {
        "id": "i8YPgaGmVqSB",
        "colab_type": "code",
        "colab": {
          "base_uri": "https://localhost:8080/",
          "height": 171
        },
        "outputId": "14b67e71-d5fd-4d05-b8b5-8743981af613"
      },
      "source": [
        "#Checking Null values in each column\n",
        "df.isnull().sum()"
      ],
      "execution_count": null,
      "outputs": [
        {
          "output_type": "execute_result",
          "data": {
            "text/plain": [
              "trans_id      0\n",
              "account_id    0\n",
              "date          0\n",
              "type          0\n",
              "operation     0\n",
              "amount        0\n",
              "balance       0\n",
              "k_symbol      0\n",
              "dtype: int64"
            ]
          },
          "metadata": {
            "tags": []
          },
          "execution_count": 82
        }
      ]
    },
    {
      "cell_type": "markdown",
      "metadata": {
        "id": "R5CLTJiyCV8y",
        "colab_type": "text"
      },
      "source": [
        "*Taking a random sample of 1000 observations from the dataset and loading it into prepared. If we consider more number of  samples, the session will crash due to RAM memory size is 12 GB maximum (session crashes while fitting the model)*"
      ]
    },
    {
      "cell_type": "code",
      "metadata": {
        "id": "7D4Hcj7hVMnl",
        "colab_type": "code",
        "colab": {
          "base_uri": "https://localhost:8080/",
          "height": 34
        },
        "outputId": "3e9c37ea-72c0-4cdf-90a1-2953352d5f69"
      },
      "source": [
        "prepared=df.sample(n=1000, replace=False, random_state=1)  \n",
        "prepared.shape"
      ],
      "execution_count": null,
      "outputs": [
        {
          "output_type": "execute_result",
          "data": {
            "text/plain": [
              "(1000, 8)"
            ]
          },
          "metadata": {
            "tags": []
          },
          "execution_count": 10
        }
      ]
    },
    {
      "cell_type": "code",
      "metadata": {
        "id": "KC3Unwn7VQP-",
        "colab_type": "code",
        "colab": {}
      },
      "source": [
        "# Creating a list with the name of columns which will be used later to fit the model\n",
        "discrete_columns = ['trans_id','account_id','date','amount','balance','type','operation','k_symbol']"
      ],
      "execution_count": null,
      "outputs": []
    },
    {
      "cell_type": "markdown",
      "metadata": {
        "id": "iO-MsjwuEFC4",
        "colab_type": "text"
      },
      "source": [
        "**Preparation of CTGANS model**"
      ]
    },
    {
      "cell_type": "code",
      "metadata": {
        "id": "N785oq8vVZeB",
        "colab_type": "code",
        "colab": {}
      },
      "source": [
        "# Importing the CTGAN synthesizer model from the ctgan library package\n",
        "from ctgan import CTGANSynthesizer\n",
        "ctgan = CTGANSynthesizer()"
      ],
      "execution_count": null,
      "outputs": []
    },
    {
      "cell_type": "code",
      "metadata": {
        "id": "agZe_v29VrfY",
        "colab_type": "code",
        "colab": {
          "base_uri": "https://localhost:8080/",
          "height": 188
        },
        "outputId": "c7f29cb4-6bf9-4433-8f7c-3c4db3e01eb9"
      },
      "source": [
        "# Fitting the model with the prepared data and the list of columns ( with 10 epochs ) \n",
        "\n",
        "ctgan.fit(prepared, discrete_columns, epochs=10)"
      ],
      "execution_count": null,
      "outputs": [
        {
          "output_type": "stream",
          "text": [
            "Epoch 1, Loss G: 4.9018, Loss D: -0.0023\n",
            "Epoch 2, Loss G: 4.8369, Loss D: -0.0194\n",
            "Epoch 3, Loss G: 4.8564, Loss D: -0.0326\n",
            "Epoch 4, Loss G: 4.7990, Loss D: -0.0493\n",
            "Epoch 5, Loss G: 4.8821, Loss D: -0.0636\n",
            "Epoch 6, Loss G: 4.9133, Loss D: -0.0766\n",
            "Epoch 7, Loss G: 4.7792, Loss D: -0.0778\n",
            "Epoch 8, Loss G: 5.0002, Loss D: -0.0852\n",
            "Epoch 9, Loss G: 4.7681, Loss D: -0.0838\n",
            "Epoch 10, Loss G: 4.8619, Loss D: -0.1032\n"
          ],
          "name": "stdout"
        }
      ]
    },
    {
      "cell_type": "markdown",
      "metadata": {
        "id": "C5FVZ0gDE4fc",
        "colab_type": "text"
      },
      "source": [
        "**Synthetic Data Generation**"
      ]
    },
    {
      "cell_type": "code",
      "metadata": {
        "id": "lSCVpoL8DlUy",
        "colab_type": "code",
        "colab": {}
      },
      "source": [
        "#Generating the synthetic data from the ctgan fitted model \n",
        "#1 lakh rows are generated\n",
        "\n",
        "new_data = ctgan.sample(100000)"
      ],
      "execution_count": null,
      "outputs": []
    },
    {
      "cell_type": "code",
      "metadata": {
        "id": "3f7Toi_bDoe2",
        "colab_type": "code",
        "colab": {
          "base_uri": "https://localhost:8080/",
          "height": 257
        },
        "outputId": "4d2b5d3c-8e93-4dc9-f635-3059a8a54860"
      },
      "source": [
        "new_data.head"
      ],
      "execution_count": null,
      "outputs": [
        {
          "output_type": "execute_result",
          "data": {
            "text/plain": [
              "<bound method NDFrame.head of       trans_id account_id    date  ...  amount  balance     k_symbol\n",
              "0       904893        827  970225  ...    3600  35485.9     POJISTNE\n",
              "1      1041419         56  940207  ...    6509  25052.2     POJISTNE\n",
              "2         1160         88  971016  ...   101.2  20187.2  unspecified\n",
              "3      3644252        415  940729  ...  3016.7  20853.2  SANKC. UROK\n",
              "4       486272       4082  950109  ...    2700    15009  SANKC. UROK\n",
              "...        ...        ...     ...  ...     ...      ...          ...\n",
              "99995  3537520        757  960710  ...    4800  37794.9       SLUZBY\n",
              "99996    23658       1251  980603  ...    5760  46182.8         SIPO\n",
              "99997    41372       8114  950307  ...   31100  38752.8         UROK\n",
              "99998  3593973       1423  951030  ...    85.9    34320  unspecified\n",
              "99999   131797       6273  970615  ...    5760  23052.8         UROK\n",
              "\n",
              "[100000 rows x 8 columns]>"
            ]
          },
          "metadata": {
            "tags": []
          },
          "execution_count": 16
        }
      ]
    },
    {
      "cell_type": "code",
      "metadata": {
        "id": "YQxdSAmD26EF",
        "colab_type": "code",
        "colab": {
          "base_uri": "https://localhost:8080/",
          "height": 34
        },
        "outputId": "c5639e00-588c-41a5-dfa1-91fd4f1151a2"
      },
      "source": [
        "new_data['amount'].mean()"
      ],
      "execution_count": null,
      "outputs": [
        {
          "output_type": "execute_result",
          "data": {
            "text/plain": [
              "8326.885631999929"
            ]
          },
          "metadata": {
            "tags": []
          },
          "execution_count": 19
        }
      ]
    },
    {
      "cell_type": "code",
      "metadata": {
        "id": "bywxfxpV3d_2",
        "colab_type": "code",
        "colab": {
          "base_uri": "https://localhost:8080/",
          "height": 34
        },
        "outputId": "a932d02f-2b5d-455f-ea66-d0029e4279f0"
      },
      "source": [
        "new_data['amount'].std()"
      ],
      "execution_count": null,
      "outputs": [
        {
          "output_type": "execute_result",
          "data": {
            "text/plain": [
              "11259.614137637322"
            ]
          },
          "metadata": {
            "tags": []
          },
          "execution_count": 20
        }
      ]
    },
    {
      "cell_type": "code",
      "metadata": {
        "id": "mDHmHNb03rGX",
        "colab_type": "code",
        "colab": {
          "base_uri": "https://localhost:8080/",
          "height": 34
        },
        "outputId": "f577baa9-9550-43a2-863c-b3c4c948daf4"
      },
      "source": [
        "new_data['balance'].mean()"
      ],
      "execution_count": null,
      "outputs": [
        {
          "output_type": "execute_result",
          "data": {
            "text/plain": [
              "38855.07505500186"
            ]
          },
          "metadata": {
            "tags": []
          },
          "execution_count": 21
        }
      ]
    },
    {
      "cell_type": "code",
      "metadata": {
        "id": "h0Z3xetM3wEu",
        "colab_type": "code",
        "colab": {
          "base_uri": "https://localhost:8080/",
          "height": 34
        },
        "outputId": "07deab33-86a6-4a6b-d826-7927260dc271"
      },
      "source": [
        "new_data['balance'].std()"
      ],
      "execution_count": null,
      "outputs": [
        {
          "output_type": "execute_result",
          "data": {
            "text/plain": [
              "22755.141000317246"
            ]
          },
          "metadata": {
            "tags": []
          },
          "execution_count": 23
        }
      ]
    },
    {
      "cell_type": "markdown",
      "metadata": {
        "id": "OROsT64pFPpl",
        "colab_type": "text"
      },
      "source": [
        "**Comparison of Original data and Synthetic Data**\n",
        "\n",
        "***1. Using Density plots for Numerical variables and Histograms for Categorical variables***"
      ]
    },
    {
      "cell_type": "markdown",
      "metadata": {
        "id": "7tPYJTGLFlyD",
        "colab_type": "text"
      },
      "source": [
        "***Density plots for Trans_id and Account_id columns***\n",
        "\n",
        "\n"
      ]
    },
    {
      "cell_type": "code",
      "metadata": {
        "id": "DyCwwxmrQ2mY",
        "colab_type": "code",
        "colab": {
          "base_uri": "https://localhost:8080/",
          "height": 617
        },
        "outputId": "0768b622-8782-4fdc-fa7b-c6c782e6f3b7"
      },
      "source": [
        "import matplotlib.pyplot as plt\n",
        "import seaborn as sns\n",
        "\n",
        "# (Trans_id and Account_id variable)\n",
        "\n",
        "fig, axes = plt.subplots(2, 2, figsize=(10, 10))\n",
        "sns.distplot(df.trans_id , color=\"darkblue\", ax=axes[0,0], axlabel='Original Data - Trans_id')\n",
        "sns.distplot(new_data.trans_id , color=\"darkblue\", ax=axes[0,1], axlabel='Synthetic Data - trans_id')\n",
        "\n",
        "sns.distplot(df.account_id , color=\"darkblue\", ax=axes[1,0], axlabel='Original Data - account_id')\n",
        "sns.distplot(new_data.account_id , color=\"darkblue\", ax=axes[1,1], axlabel='Synthetic Data - account_id')\n",
        "\n",
        "\n",
        "plt.show();"
      ],
      "execution_count": null,
      "outputs": [
        {
          "output_type": "display_data",
          "data": {
            "image/png": "[encoded data removed]",
            "text/plain": [
              "<Figure size 720x720 with 4 Axes>"
            ]
          },
          "metadata": {
            "tags": [],
            "needs_background": "light"
          }
        }
      ]
    },
    {
      "cell_type": "markdown",
      "metadata": {
        "id": "u0d7j5PFFywn",
        "colab_type": "text"
      },
      "source": [
        "***Density plots for Balance and Amount columns***"
      ]
    },
    {
      "cell_type": "code",
      "metadata": {
        "id": "GtPg43-ySJei",
        "colab_type": "code",
        "colab": {
          "base_uri": "https://localhost:8080/",
          "height": 606
        },
        "outputId": "5500eb26-21cc-416e-902b-4b9b04b9d740"
      },
      "source": [
        "## Density plot - (Balance and Amount variable)\n",
        " \n",
        "fig, axes = plt.subplots(2, 2, figsize=(10, 10))\n",
        "\n",
        "sns.distplot(df.amount , color=\"darkblue\", ax=axes[0,0], axlabel='Original Data - Amount')\n",
        "sns.distplot(new_data.amount , color=\"darkblue\", ax=axes[0,1], axlabel='Synthetic Data - Amount')\n",
        "\n",
        "sns.distplot(df.balance, color=\"darkblue\", ax=axes[1,0], axlabel='Original Data - Balance')\n",
        "sns.distplot(new_data.balance, color=\"darkblue\", ax=axes[1,1], axlabel='Synthetic Data - Balance')\n",
        "plt.show();\n",
        "\n",
        "# The data distribution of the Original data and the generated data looks similar."
      ],
      "execution_count": null,
      "outputs": [
        {
          "output_type": "display_data",
          "data": {
            "image/png": "[encoded data removed]",
            "text/plain": [
              "<Figure size 720x720 with 4 Axes>"
            ]
          },
          "metadata": {
            "tags": [],
            "needs_background": "light"
          }
        }
      ]
    },
    {
      "cell_type": "markdown",
      "metadata": {
        "id": "Odmrs0hZF71x",
        "colab_type": "text"
      },
      "source": [
        "***Density plot for Date column***"
      ]
    },
    {
      "cell_type": "code",
      "metadata": {
        "id": "DYnN_VrEdRaX",
        "colab_type": "code",
        "colab": {
          "base_uri": "https://localhost:8080/",
          "height": 459
        },
        "outputId": "17d9775f-c58a-4e6a-db07-12663920eaa2"
      },
      "source": [
        "fig, axes = plt.subplots(2 ,figsize=(7, 7))\n",
        "sns.distplot(df.date , color=\"darkblue\", ax=axes[0], axlabel='Original data - date')\n",
        "sns.distplot(new_data.date , color=\"darkblue\", ax=axes[1], axlabel='Synthetic data - date')"
      ],
      "execution_count": null,
      "outputs": [
        {
          "output_type": "execute_result",
          "data": {
            "text/plain": [
              "<matplotlib.axes._subplots.AxesSubplot at 0x7fc0f8bfe978>"
            ]
          },
          "metadata": {
            "tags": []
          },
          "execution_count": 13
        },
        {
          "output_type": "display_data",
          "data": {
            "image/png": "[encoded data removed]",
            "text/plain": [
              "<Figure size 504x504 with 2 Axes>"
            ]
          },
          "metadata": {
            "tags": [],
            "needs_background": "light"
          }
        }
      ]
    },
    {
      "cell_type": "markdown",
      "metadata": {
        "id": "Nsvrj6ZEGliD",
        "colab_type": "text"
      },
      "source": [
        "***Histogram for Type column***"
      ]
    },
    {
      "cell_type": "code",
      "metadata": {
        "id": "sz3hMVlVVZdx",
        "colab_type": "code",
        "colab": {
          "base_uri": "https://localhost:8080/",
          "height": 322
        },
        "outputId": "1d353baa-b0b7-4c39-f5de-8a3f4dd14284"
      },
      "source": [
        "# Type column - Original Data \n",
        "df['type'].value_counts().plot(kind='bar',title = 'Original data - Type')\n"
      ],
      "execution_count": null,
      "outputs": [
        {
          "output_type": "execute_result",
          "data": {
            "text/plain": [
              "<matplotlib.axes._subplots.AxesSubplot at 0x7f14ac26e240>"
            ]
          },
          "metadata": {
            "tags": []
          },
          "execution_count": 14
        },
        {
          "output_type": "display_data",
          "data": {
            "image/png": "[encoded data removed]",
            "text/plain": [
              "<Figure size 432x288 with 1 Axes>"
            ]
          },
          "metadata": {
            "tags": [],
            "needs_background": "light"
          }
        }
      ]
    },
    {
      "cell_type": "code",
      "metadata": {
        "id": "TQQM3Mn6WIfN",
        "colab_type": "code",
        "colab": {
          "base_uri": "https://localhost:8080/",
          "height": 322
        },
        "outputId": "80e023f7-667a-462d-c854-3e08435cf387"
      },
      "source": [
        "# Type column - Synthetic data \n",
        "new_data['type'].value_counts().plot(kind='bar', title = 'Synthetic data - Type')"
      ],
      "execution_count": null,
      "outputs": [
        {
          "output_type": "execute_result",
          "data": {
            "text/plain": [
              "<matplotlib.axes._subplots.AxesSubplot at 0x7f14ac23b5c0>"
            ]
          },
          "metadata": {
            "tags": []
          },
          "execution_count": 15
        },
        {
          "output_type": "display_data",
          "data": {
            "image/png": "[encoded data removed]",
            "text/plain": [
              "<Figure size 432x288 with 1 Axes>"
            ]
          },
          "metadata": {
            "tags": [],
            "needs_background": "light"
          }
        }
      ]
    },
    {
      "cell_type": "markdown",
      "metadata": {
        "id": "Gt1CgvadG0H_",
        "colab_type": "text"
      },
      "source": [
        "***Histograms for Operation Column***"
      ]
    },
    {
      "cell_type": "code",
      "metadata": {
        "id": "M8bQNsHeZ_io",
        "colab_type": "code",
        "colab": {
          "base_uri": "https://localhost:8080/",
          "height": 377
        },
        "outputId": "4bf2c75e-f3c7-4178-82ba-ade03bbd3c10"
      },
      "source": [
        "# Operation column - Original Data\n",
        "df['operation'].value_counts().plot(kind='bar',title = 'Original data - Operation')"
      ],
      "execution_count": null,
      "outputs": [
        {
          "output_type": "execute_result",
          "data": {
            "text/plain": [
              "<matplotlib.axes._subplots.AxesSubplot at 0x7f14acc60d68>"
            ]
          },
          "metadata": {
            "tags": []
          },
          "execution_count": 16
        },
        {
          "output_type": "display_data",
          "data": {
            "image/png": "[encoded data removed]",
            "text/plain": [
              "<Figure size 432x288 with 1 Axes>"
            ]
          },
          "metadata": {
            "tags": [],
            "needs_background": "light"
          }
        }
      ]
    },
    {
      "cell_type": "code",
      "metadata": {
        "id": "BQaluo0paG4a",
        "colab_type": "code",
        "colab": {
          "base_uri": "https://localhost:8080/",
          "height": 377
        },
        "outputId": "80a1838e-5b44-4e06-ef5a-5382a17238ac"
      },
      "source": [
        "# Operation column - Synthetic Data\n",
        "new_data['operation'].value_counts().plot(kind='bar',title = 'Synthetic data - Operation')"
      ],
      "execution_count": null,
      "outputs": [
        {
          "output_type": "execute_result",
          "data": {
            "text/plain": [
              "<matplotlib.axes._subplots.AxesSubplot at 0x7f14ac190048>"
            ]
          },
          "metadata": {
            "tags": []
          },
          "execution_count": 17
        },
        {
          "output_type": "display_data",
          "data": {
            "image/png": "[encoded data removed]",
            "text/plain": [
              "<Figure size 432x288 with 1 Axes>"
            ]
          },
          "metadata": {
            "tags": [],
            "needs_background": "light"
          }
        }
      ]
    },
    {
      "cell_type": "markdown",
      "metadata": {
        "id": "iK1SIp9mHBny",
        "colab_type": "text"
      },
      "source": [
        "***Histograms for k_symbol variable***"
      ]
    },
    {
      "cell_type": "code",
      "metadata": {
        "id": "rFdnxonVH04D",
        "colab_type": "code",
        "colab": {
          "base_uri": "https://localhost:8080/",
          "height": 357
        },
        "outputId": "ae286473-d3e7-44d3-ab27-bc3a9bb3c728"
      },
      "source": [
        "# K_symbol - Original data\n",
        "df['k_symbol'].value_counts().plot(kind='bar',title = 'Original data - k_symbol')"
      ],
      "execution_count": null,
      "outputs": [
        {
          "output_type": "execute_result",
          "data": {
            "text/plain": [
              "<matplotlib.axes._subplots.AxesSubplot at 0x7f14ac255b70>"
            ]
          },
          "metadata": {
            "tags": []
          },
          "execution_count": 18
        },
        {
          "output_type": "display_data",
          "data": {
            "image/png": "[encoded data removed]",
            "text/plain": [
              "<Figure size 432x288 with 1 Axes>"
            ]
          },
          "metadata": {
            "tags": [],
            "needs_background": "light"
          }
        }
      ]
    },
    {
      "cell_type": "code",
      "metadata": {
        "id": "8ve_sZtVH9Nl",
        "colab_type": "code",
        "colab": {
          "base_uri": "https://localhost:8080/",
          "height": 357
        },
        "outputId": "0d8b8867-108b-43cb-c140-93742c06f74f"
      },
      "source": [
        "# k_symbol - Synthetic data\n",
        "new_data['k_symbol'].value_counts().plot(kind='bar',title = 'Original data - k_symbol')"
      ],
      "execution_count": null,
      "outputs": [
        {
          "output_type": "execute_result",
          "data": {
            "text/plain": [
              "<matplotlib.axes._subplots.AxesSubplot at 0x7f14ac388630>"
            ]
          },
          "metadata": {
            "tags": []
          },
          "execution_count": 19
        },
        {
          "output_type": "display_data",
          "data": {
            "image/png": "[encoded data removed]",
            "text/plain": [
              "<Figure size 432x288 with 1 Axes>"
            ]
          },
          "metadata": {
            "tags": [],
            "needs_background": "light"
          }
        }
      ]
    },
    {
      "cell_type": "markdown",
      "metadata": {
        "id": "X04ej15_HOhw",
        "colab_type": "text"
      },
      "source": [
        "***2. Kullback - Leibler Divergence Test***\n",
        "\n",
        "*(trained from 10 epochs)*"
      ]
    },
    {
      "cell_type": "code",
      "metadata": {
        "id": "lnFy7pO6IG0O",
        "colab_type": "code",
        "colab": {
          "base_uri": "https://localhost:8080/",
          "height": 86
        },
        "outputId": "f26f1cc1-9e36-4346-cb1c-f8d1914e1480"
      },
      "source": [
        "# KL Divergence for 'Type' column\n",
        "df['type'].value_counts(ascending = True)"
      ],
      "execution_count": null,
      "outputs": [
        {
          "output_type": "execute_result",
          "data": {
            "text/plain": [
              "VYBER      16471\n",
              "PRIJEM    400209\n",
              "VYDAJ     631895\n",
              "Name: type, dtype: int64"
            ]
          },
          "metadata": {
            "tags": []
          },
          "execution_count": 90
        }
      ]
    },
    {
      "cell_type": "code",
      "metadata": {
        "id": "fBMpEG48Iixk",
        "colab_type": "code",
        "colab": {
          "base_uri": "https://localhost:8080/",
          "height": 86
        },
        "outputId": "7e4db2b3-6c5c-4e3e-ade3-7a72f28c2528"
      },
      "source": [
        "new_data['type'].value_counts(ascending = True)"
      ],
      "execution_count": null,
      "outputs": [
        {
          "output_type": "execute_result",
          "data": {
            "text/plain": [
              "VYBER     14444\n",
              "PRIJEM    37083\n",
              "VYDAJ     48473\n",
              "Name: type, dtype: int64"
            ]
          },
          "metadata": {
            "tags": []
          },
          "execution_count": 91
        }
      ]
    },
    {
      "cell_type": "code",
      "metadata": {
        "id": "H-Tkby3oImcw",
        "colab_type": "code",
        "colab": {
          "base_uri": "https://localhost:8080/",
          "height": 282
        },
        "outputId": "67a05eba-4983-466c-95a4-a001c6f273a8"
      },
      "source": [
        "from matplotlib import pyplot\n",
        "type = ['VYBER', 'PRIJEM', 'VYDAJ']\n",
        "p = [16471/1048575, 400209/1048575, 631895/1048575]\n",
        "q = [ 15163/100000, 36251/100000, 48586/100000]\n",
        "print('P=%.3f Q=%.3f' % (sum(p), sum(q)))\n",
        "# plot first distribution\n",
        "pyplot.subplot(2,1,1)\n",
        "pyplot.bar(type, p)\n",
        "# plot second distribution\n",
        "pyplot.subplot(2,1,2)\n",
        "pyplot.bar(type, q)\n",
        "# show the plot\n",
        "pyplot.show()"
      ],
      "execution_count": null,
      "outputs": [
        {
          "output_type": "stream",
          "text": [
            "P=1.000 Q=1.000\n"
          ],
          "name": "stdout"
        },
        {
          "output_type": "display_data",
          "data": {
            "image/png": "[encoded data removed]",
            "text/plain": [
              "<Figure size 432x288 with 2 Axes>"
            ]
          },
          "metadata": {
            "tags": [],
            "needs_background": "light"
          }
        }
      ]
    },
    {
      "cell_type": "code",
      "metadata": {
        "id": "hXyGjWXEJefS",
        "colab_type": "code",
        "colab": {}
      },
      "source": [
        "from math import log2\n",
        "# calculate the kl divergence\n",
        "def kl_divergence(p, q):\n",
        "    return sum(p[i] * log2(p[i]/q[i]) for i in range(len(p)))"
      ],
      "execution_count": null,
      "outputs": []
    },
    {
      "cell_type": "code",
      "metadata": {
        "id": "ADH5E8SiJiId",
        "colab_type": "code",
        "colab": {
          "base_uri": "https://localhost:8080/",
          "height": 34
        },
        "outputId": "5c2715c0-daa2-45e7-a6c6-c3abc1214773"
      },
      "source": [
        "# calculate (P || Q)\n",
        "kl_pq = kl_divergence(p, q) \n",
        "print(kl_pq)"
      ],
      "execution_count": null,
      "outputs": [
        {
          "output_type": "stream",
          "text": [
            "0.16422186672618913\n"
          ],
          "name": "stdout"
        }
      ]
    },
    {
      "cell_type": "code",
      "metadata": {
        "id": "QovCAoRYfkl_",
        "colab_type": "code",
        "colab": {
          "base_uri": "https://localhost:8080/",
          "height": 34
        },
        "outputId": "fc028df3-fd45-4f6b-d141-a89847aa5d1f"
      },
      "source": [
        "# calculate (Q||P)\n",
        "kl_qp = kl_divergence(q,p)\n",
        "print(kl_qp)"
      ],
      "execution_count": null,
      "outputs": [
        {
          "output_type": "stream",
          "text": [
            "0.3180804258146898\n"
          ],
          "name": "stdout"
        }
      ]
    },
    {
      "cell_type": "markdown",
      "metadata": {
        "id": "wASDn8yaHjUH",
        "colab_type": "text"
      },
      "source": [
        "***KL Divergence test for Operation column***"
      ]
    },
    {
      "cell_type": "code",
      "metadata": {
        "id": "SHCjb-VlKr2T",
        "colab_type": "code",
        "colab": {
          "base_uri": "https://localhost:8080/",
          "height": 137
        },
        "outputId": "d3796c4e-6784-4d31-cdcb-01a9c7911f9c"
      },
      "source": [
        "# KL Divergence for 'Operation' column\n",
        "\n",
        "df['operation'].value_counts(ascending = True)"
      ],
      "execution_count": null,
      "outputs": [
        {
          "output_type": "execute_result",
          "data": {
            "text/plain": [
              "VYBER KARTOU        7706\n",
              "PREVOD Z UCTU      65226\n",
              "VKLAD             156320\n",
              "unspecified       178663\n",
              "PREVOD NA UCET    208283\n",
              "VYBER             432377\n",
              "Name: operation, dtype: int64"
            ]
          },
          "metadata": {
            "tags": []
          },
          "execution_count": 96
        }
      ]
    },
    {
      "cell_type": "code",
      "metadata": {
        "id": "A5sx4aEdK2ED",
        "colab_type": "code",
        "colab": {
          "base_uri": "https://localhost:8080/",
          "height": 137
        },
        "outputId": "2a1db71a-21d3-4d95-894f-5fe417d3c8b3"
      },
      "source": [
        "new_data['operation'].value_counts(ascending = True)"
      ],
      "execution_count": null,
      "outputs": [
        {
          "output_type": "execute_result",
          "data": {
            "text/plain": [
              "VYBER KARTOU       8481\n",
              "PREVOD Z UCTU     13223\n",
              "VKLAD             14368\n",
              "unspecified       16422\n",
              "PREVOD NA UCET    20525\n",
              "VYBER             26981\n",
              "Name: operation, dtype: int64"
            ]
          },
          "metadata": {
            "tags": []
          },
          "execution_count": 97
        }
      ]
    },
    {
      "cell_type": "code",
      "metadata": {
        "id": "8_FGq1_EK814",
        "colab_type": "code",
        "colab": {
          "base_uri": "https://localhost:8080/",
          "height": 282
        },
        "outputId": "952e956c-cf40-4c8c-bc31-528ac3446f2c"
      },
      "source": [
        "from matplotlib import pyplot\n",
        "operation = ['PREVOD Z UCTU','VYBER KARTOU','PREVOD NA UCET','VYBER','VKLAD','unspecified']    #not including outliers (unspecified operation and operation)\n",
        "p = [65226/1048575, 7706/1048575, 208283/1048575, 432377/1048575, 156320/1048575, 178663/1048575]\n",
        "q = [10919/100000, 8662/100000, 20730/100000, 28065/100000, 16685/100000, 14939/100000]  \n",
        "print('P=%.3f Q=%.3f' % (sum(p), sum(q)))\n",
        "# plot first distribution\n",
        "pyplot.subplot(2,1,1)\n",
        "pyplot.bar(operation, p)\n",
        "# plot second distribution\n",
        "pyplot.subplot(2,1,2)\n",
        "pyplot.bar(operation, q)\n",
        "# show the plot\n",
        "pyplot.show()"
      ],
      "execution_count": null,
      "outputs": [
        {
          "output_type": "stream",
          "text": [
            "P=1.000 Q=1.000\n"
          ],
          "name": "stdout"
        },
        {
          "output_type": "display_data",
          "data": {
            "image/png": "[encoded data removed]",
            "text/plain": [
              "<Figure size 432x288 with 2 Axes>"
            ]
          },
          "metadata": {
            "tags": [],
            "needs_background": "light"
          }
        }
      ]
    },
    {
      "cell_type": "code",
      "metadata": {
        "id": "OA2XPtbULu2K",
        "colab_type": "code",
        "colab": {}
      },
      "source": [
        "from math import log2\n",
        "# calculate the kl divergence\n",
        "def kl_divergence(p, q):\n",
        "    return sum(p[i] * log2(p[i]/q[i]) for i in range(len(p)))"
      ],
      "execution_count": null,
      "outputs": []
    },
    {
      "cell_type": "code",
      "metadata": {
        "id": "RpwnRHL2LxxT",
        "colab_type": "code",
        "colab": {
          "base_uri": "https://localhost:8080/",
          "height": 34
        },
        "outputId": "16924c02-bd0f-4a04-be20-c717c72f33c4"
      },
      "source": [
        "# calculate (P || Q)\n",
        "kl_pq = kl_divergence(p, q) \n",
        "print(kl_pq)"
      ],
      "execution_count": null,
      "outputs": [
        {
          "output_type": "stream",
          "text": [
            "0.14810648462984366\n"
          ],
          "name": "stdout"
        }
      ]
    },
    {
      "cell_type": "code",
      "metadata": {
        "id": "QOPPF8xXf9ZO",
        "colab_type": "code",
        "colab": {
          "base_uri": "https://localhost:8080/",
          "height": 34
        },
        "outputId": "da34c576-8e2c-4e47-a8a8-a9020d1acb91"
      },
      "source": [
        "# calculate (Q||P)\n",
        "kl_qp = kl_divergence(q,p)\n",
        "print(kl_qp)"
      ],
      "execution_count": null,
      "outputs": [
        {
          "output_type": "stream",
          "text": [
            "0.2526740525960668\n"
          ],
          "name": "stdout"
        }
      ]
    },
    {
      "cell_type": "markdown",
      "metadata": {
        "id": "2Bl4F6-lH0B5",
        "colab_type": "text"
      },
      "source": [
        "***KL Divergence Test for k_symbol column***"
      ]
    },
    {
      "cell_type": "code",
      "metadata": {
        "id": "79E_jXzWL1LF",
        "colab_type": "code",
        "colab": {
          "base_uri": "https://localhost:8080/",
          "height": 171
        },
        "outputId": "14ca5ccb-37fd-4d9c-e7b5-856276fd52d2"
      },
      "source": [
        "# KL Divergence - 'k_symbol' column\n",
        "df['k_symbol'].value_counts(ascending = True)"
      ],
      "execution_count": null,
      "outputs": [
        {
          "output_type": "execute_result",
          "data": {
            "text/plain": [
              "SANKC. UROK      1527\n",
              "UVER            13580\n",
              "POJISTNE        18500\n",
              "DUCHOD          30338\n",
              "SIPO           118057\n",
              "SLUZBY         155832\n",
              "UROK           178663\n",
              "unspecified    532078\n",
              "Name: k_symbol, dtype: int64"
            ]
          },
          "metadata": {
            "tags": []
          },
          "execution_count": 102
        }
      ]
    },
    {
      "cell_type": "code",
      "metadata": {
        "id": "Weo8AXipL-9f",
        "colab_type": "code",
        "colab": {
          "base_uri": "https://localhost:8080/",
          "height": 171
        },
        "outputId": "e6667a5e-bcda-4661-f19f-bce91e1346ec"
      },
      "source": [
        "new_data['k_symbol'].value_counts(ascending = True)"
      ],
      "execution_count": null,
      "outputs": [
        {
          "output_type": "execute_result",
          "data": {
            "text/plain": [
              "SANKC. UROK     6391\n",
              "UVER            7933\n",
              "POJISTNE        8229\n",
              "DUCHOD          9188\n",
              "SLUZBY         13075\n",
              "SIPO           13985\n",
              "UROK           16421\n",
              "unspecified    24778\n",
              "Name: k_symbol, dtype: int64"
            ]
          },
          "metadata": {
            "tags": []
          },
          "execution_count": 103
        }
      ]
    },
    {
      "cell_type": "code",
      "metadata": {
        "id": "SvGWGiYPMBHJ",
        "colab_type": "code",
        "colab": {
          "base_uri": "https://localhost:8080/",
          "height": 282
        },
        "outputId": "2b8e7a16-8c68-4a57-d870-dd4234219786"
      },
      "source": [
        "from matplotlib import pyplot\n",
        "k_symbol = ['SANKC.UROK', 'UVER','POJISTNE','DUCHOD','SIPO','SLUZBY','UROK','unspecified']                     \n",
        "p = [1527/1048575, 13580/1048575, 18500/1048575, 30338/1048575, 118057/1048575, 155832/1048575, 178663/1048575, 532078/1048575]\n",
        "q = [6763/100000, 8190/100000, 7493/100000, 10159/100000, 12579/100000, 15611/100000, 14417/100000, 24788/100000]\n",
        "print('P=%.3f Q=%.3f' % (sum(p), sum(q)))\n",
        "# plot first distribution\n",
        "pyplot.subplot(2,1,1)\n",
        "pyplot.bar(k_symbol, p)\n",
        "# plot second distribution\n",
        "pyplot.subplot(2,1,2)\n",
        "pyplot.bar(k_symbol, q)\n",
        "# show the plot\n",
        "pyplot.show()"
      ],
      "execution_count": null,
      "outputs": [
        {
          "output_type": "stream",
          "text": [
            "P=1.000 Q=1.000\n"
          ],
          "name": "stdout"
        },
        {
          "output_type": "display_data",
          "data": {
            "image/png": "[encoded data removed]",
            "text/plain": [
              "<Figure size 432x288 with 2 Axes>"
            ]
          },
          "metadata": {
            "tags": [],
            "needs_background": "light"
          }
        }
      ]
    },
    {
      "cell_type": "code",
      "metadata": {
        "id": "QVQQjKk3N-rr",
        "colab_type": "code",
        "colab": {}
      },
      "source": [
        "from math import log2\n",
        "# calculate the kl divergence\n",
        "def kl_divergence(p, q):\n",
        "    return sum(p[i] * log2(p[i]/q[i]) for i in range(len(p)))"
      ],
      "execution_count": null,
      "outputs": []
    },
    {
      "cell_type": "code",
      "metadata": {
        "id": "X2eD5RLcOIn7",
        "colab_type": "code",
        "colab": {
          "base_uri": "https://localhost:8080/",
          "height": 34
        },
        "outputId": "c1f097c7-cbc1-4eda-f308-d74c0f9bef4f"
      },
      "source": [
        "# calculate (P || Q)\n",
        "kl_pq = kl_divergence(p, q) \n",
        "print(kl_pq)"
      ],
      "execution_count": null,
      "outputs": [
        {
          "output_type": "stream",
          "text": [
            "0.4052095920941371\n"
          ],
          "name": "stdout"
        }
      ]
    },
    {
      "cell_type": "code",
      "metadata": {
        "id": "9zwck1OmgFvo",
        "colab_type": "code",
        "colab": {
          "base_uri": "https://localhost:8080/",
          "height": 34
        },
        "outputId": "b2d4f2f3-ad82-49d7-b757-39aa3a68697d"
      },
      "source": [
        "# calculate (Q||P)\n",
        "kl_qp = kl_divergence(q,p)\n",
        "print(kl_qp)"
      ],
      "execution_count": null,
      "outputs": [
        {
          "output_type": "stream",
          "text": [
            "0.6730819435995066\n"
          ],
          "name": "stdout"
        }
      ]
    },
    {
      "cell_type": "markdown",
      "metadata": {
        "id": "WSqxxSuKTwLi",
        "colab_type": "text"
      },
      "source": [
        "***Fitting the model with 25 epochs to check if it improves the synthetic data output***"
      ]
    },
    {
      "cell_type": "code",
      "metadata": {
        "id": "_0W2svonTpr4",
        "colab_type": "code",
        "colab": {
          "base_uri": "https://localhost:8080/",
          "height": 446
        },
        "outputId": "cab782a1-fb85-4435-b0b5-434066df9fa4"
      },
      "source": [
        "# Fitting the model with the prepared data and the list of columns ( with 25 epochs ) \n",
        "\n",
        "ctgan.fit(prepared, discrete_columns, epochs=25)"
      ],
      "execution_count": null,
      "outputs": [
        {
          "output_type": "stream",
          "text": [
            "Epoch 1, Loss G: 4.5674, Loss D: -0.0063\n",
            "Epoch 2, Loss G: 4.8818, Loss D: -0.0178\n",
            "Epoch 3, Loss G: 4.7266, Loss D: -0.0351\n",
            "Epoch 4, Loss G: 4.7461, Loss D: -0.0461\n",
            "Epoch 5, Loss G: 4.7299, Loss D: -0.0631\n",
            "Epoch 6, Loss G: 4.6442, Loss D: -0.0681\n",
            "Epoch 7, Loss G: 4.6105, Loss D: -0.0819\n",
            "Epoch 8, Loss G: 4.8435, Loss D: -0.1067\n",
            "Epoch 9, Loss G: 4.5467, Loss D: -0.1057\n",
            "Epoch 10, Loss G: 4.6904, Loss D: -0.1075\n",
            "Epoch 11, Loss G: 4.9066, Loss D: -0.1207\n",
            "Epoch 12, Loss G: 4.7855, Loss D: -0.0913\n",
            "Epoch 13, Loss G: 4.5128, Loss D: -0.1199\n",
            "Epoch 14, Loss G: 4.5266, Loss D: -0.0984\n",
            "Epoch 15, Loss G: 4.5468, Loss D: -0.1136\n",
            "Epoch 16, Loss G: 4.6490, Loss D: -0.0994\n",
            "Epoch 17, Loss G: 4.6049, Loss D: -0.0809\n",
            "Epoch 18, Loss G: 4.5188, Loss D: -0.0844\n",
            "Epoch 19, Loss G: 4.7719, Loss D: -0.0942\n",
            "Epoch 20, Loss G: 4.5596, Loss D: -0.0605\n",
            "Epoch 21, Loss G: 4.8925, Loss D: -0.0792\n",
            "Epoch 22, Loss G: 4.6701, Loss D: -0.0579\n",
            "Epoch 23, Loss G: 4.5939, Loss D: -0.0526\n",
            "Epoch 24, Loss G: 4.6552, Loss D: -0.0512\n",
            "Epoch 25, Loss G: 4.8321, Loss D: -0.0837\n"
          ],
          "name": "stdout"
        }
      ]
    },
    {
      "cell_type": "code",
      "metadata": {
        "id": "p_huYMtEVIRN",
        "colab_type": "code",
        "colab": {}
      },
      "source": [
        "#Generating the synthetic data from the ctgan fitted model \n",
        "#1 lakh rows are generated\n",
        "\n",
        "new_data = ctgan.sample(100000)\n"
      ],
      "execution_count": null,
      "outputs": []
    },
    {
      "cell_type": "markdown",
      "metadata": {
        "id": "Z5l8MnfdWgNa",
        "colab_type": "text"
      },
      "source": [
        "***Checking the KL Divergence test score for synthetic data that are trained from 25 epochs***\n",
        "\n",
        "*If the KL Divergence test score is less, then it indicates that there is more similarity between the Original data and the Synthetic data*"
      ]
    },
    {
      "cell_type": "code",
      "metadata": {
        "id": "UOMJeYLxVLzZ",
        "colab_type": "code",
        "colab": {
          "base_uri": "https://localhost:8080/",
          "height": 86
        },
        "outputId": "da6e2192-5bdd-493a-fccc-b605bdbb320a"
      },
      "source": [
        "# KL Divergence for 'Type' column\n",
        "df['type'].value_counts(ascending = True)"
      ],
      "execution_count": null,
      "outputs": [
        {
          "output_type": "execute_result",
          "data": {
            "text/plain": [
              "VYBER      16471\n",
              "PRIJEM    400209\n",
              "VYDAJ     631895\n",
              "Name: type, dtype: int64"
            ]
          },
          "metadata": {
            "tags": []
          },
          "execution_count": 33
        }
      ]
    },
    {
      "cell_type": "code",
      "metadata": {
        "id": "0kzI9TUYVOrj",
        "colab_type": "code",
        "colab": {
          "base_uri": "https://localhost:8080/",
          "height": 86
        },
        "outputId": "9603eb52-b201-4a83-dddc-6122507f2cfd"
      },
      "source": [
        "new_data['type'].value_counts(ascending = True)"
      ],
      "execution_count": null,
      "outputs": [
        {
          "output_type": "execute_result",
          "data": {
            "text/plain": [
              "VYBER      6010\n",
              "PRIJEM    34747\n",
              "VYDAJ     59243\n",
              "Name: type, dtype: int64"
            ]
          },
          "metadata": {
            "tags": []
          },
          "execution_count": 34
        }
      ]
    },
    {
      "cell_type": "code",
      "metadata": {
        "id": "rl2tBbXoVQxc",
        "colab_type": "code",
        "colab": {
          "base_uri": "https://localhost:8080/",
          "height": 282
        },
        "outputId": "5d82bf74-f18d-46fc-9f54-ee77c517439d"
      },
      "source": [
        "from matplotlib import pyplot\n",
        "type = ['VYBER', 'PRIJEM', 'VYDAJ']\n",
        "p = [16471/1048575, 400209/1048575, 631895/1048575]\n",
        "q = [ 6010/100000, 34747/100000, 59243/100000]\n",
        "print('P=%.3f Q=%.3f' % (sum(p), sum(q)))\n",
        "# plot first distribution\n",
        "pyplot.subplot(2,1,1)\n",
        "pyplot.bar(type, p)\n",
        "# plot second distribution\n",
        "pyplot.subplot(2,1,2)\n",
        "pyplot.bar(type, q)\n",
        "# show the plot\n",
        "pyplot.show()"
      ],
      "execution_count": null,
      "outputs": [
        {
          "output_type": "stream",
          "text": [
            "P=1.000 Q=1.000\n"
          ],
          "name": "stdout"
        },
        {
          "output_type": "display_data",
          "data": {
            "image/png": "[encoded data removed]",
            "text/plain": [
              "<Figure size 432x288 with 2 Axes>"
            ]
          },
          "metadata": {
            "tags": [],
            "needs_background": "light"
          }
        }
      ]
    },
    {
      "cell_type": "code",
      "metadata": {
        "id": "nI5WEmT7VTaa",
        "colab_type": "code",
        "colab": {
          "base_uri": "https://localhost:8080/",
          "height": 34
        },
        "outputId": "3ed43f81-5e72-4563-c4d6-21c76f4c0613"
      },
      "source": [
        "from math import log2\n",
        "# calculate the kl divergence\n",
        "def kl_divergence(p, q):\n",
        "    return sum(p[i] * log2(p[i]/q[i]) for i in range(len(p)))\n",
        "\n",
        "# calculate (P || Q)\n",
        "kl_pq = kl_divergence(p, q) \n",
        "print(kl_pq)"
      ],
      "execution_count": null,
      "outputs": [
        {
          "output_type": "stream",
          "text": [
            "0.036113480162212816\n"
          ],
          "name": "stdout"
        }
      ]
    },
    {
      "cell_type": "code",
      "metadata": {
        "id": "dXT_sBxZVazG",
        "colab_type": "code",
        "colab": {
          "base_uri": "https://localhost:8080/",
          "height": 137
        },
        "outputId": "068156bc-1100-456b-fd75-6e806229e35b"
      },
      "source": [
        "# KL Divergence for 'Operation' column\n",
        "\n",
        "df['operation'].value_counts(ascending = True)"
      ],
      "execution_count": null,
      "outputs": [
        {
          "output_type": "execute_result",
          "data": {
            "text/plain": [
              "VYBER KARTOU        7706\n",
              "PREVOD Z UCTU      65226\n",
              "VKLAD             156320\n",
              "unspecified       178663\n",
              "PREVOD NA UCET    208283\n",
              "VYBER             432377\n",
              "Name: operation, dtype: int64"
            ]
          },
          "metadata": {
            "tags": []
          },
          "execution_count": 37
        }
      ]
    },
    {
      "cell_type": "code",
      "metadata": {
        "id": "9Vn-jhkuVdRf",
        "colab_type": "code",
        "colab": {
          "base_uri": "https://localhost:8080/",
          "height": 137
        },
        "outputId": "afacf3d8-3bf3-4671-873b-dab10da0dd46"
      },
      "source": [
        "new_data['operation'].value_counts(ascending = True)"
      ],
      "execution_count": null,
      "outputs": [
        {
          "output_type": "execute_result",
          "data": {
            "text/plain": [
              "VYBER KARTOU       3423\n",
              "PREVOD Z UCTU      6891\n",
              "unspecified       11970\n",
              "VKLAD             13543\n",
              "PREVOD NA UCET    21849\n",
              "VYBER             42324\n",
              "Name: operation, dtype: int64"
            ]
          },
          "metadata": {
            "tags": []
          },
          "execution_count": 38
        }
      ]
    },
    {
      "cell_type": "code",
      "metadata": {
        "id": "Q7kOcPvQVfPc",
        "colab_type": "code",
        "colab": {
          "base_uri": "https://localhost:8080/",
          "height": 282
        },
        "outputId": "f7fa4219-04ff-42b1-ecf9-f3a06594cdf2"
      },
      "source": [
        "from matplotlib import pyplot\n",
        "operation = ['PREVOD Z UCTU','VYBER KARTOU','PREVOD NA UCET','VYBER','VKLAD','unspecified']    #not including outliers (unspecified operation and operation)\n",
        "p = [65226/1048575, 7706/1048575, 208283/1048575, 432377/1048575, 156320/1048575, 178663/1048575]\n",
        "q = [6891/100000, 3423/100000, 21849/100000, 42324/100000, 13543/100000, 11970/100000]  \n",
        "print('P=%.3f Q=%.3f' % (sum(p), sum(q)))\n",
        "# plot first distribution\n",
        "pyplot.subplot(2,1,1)\n",
        "pyplot.bar(operation, p)\n",
        "# plot second distribution\n",
        "pyplot.subplot(2,1,2)\n",
        "pyplot.bar(operation, q)\n",
        "# show the plot\n",
        "pyplot.show()"
      ],
      "execution_count": null,
      "outputs": [
        {
          "output_type": "stream",
          "text": [
            "P=1.000 Q=1.000\n"
          ],
          "name": "stdout"
        },
        {
          "output_type": "display_data",
          "data": {
            "image/png": "[encoded data removed]",
            "text/plain": [
              "<Figure size 432x288 with 2 Axes>"
            ]
          },
          "metadata": {
            "tags": [],
            "needs_background": "light"
          }
        }
      ]
    },
    {
      "cell_type": "code",
      "metadata": {
        "id": "TRrq048XVhnJ",
        "colab_type": "code",
        "colab": {
          "base_uri": "https://localhost:8080/",
          "height": 34
        },
        "outputId": "57a381a9-42b7-4efe-e795-54421ed53817"
      },
      "source": [
        "from math import log2\n",
        "# calculate the kl divergence\n",
        "def kl_divergence(p, q):\n",
        "    return sum(p[i] * log2(p[i]/q[i]) for i in range(len(p)))\n",
        "\n",
        "# calculate (P || Q)\n",
        "kl_pq = kl_divergence(p, q) \n",
        "print(kl_pq)\n"
      ],
      "execution_count": null,
      "outputs": [
        {
          "output_type": "stream",
          "text": [
            "0.03913065897162734\n"
          ],
          "name": "stdout"
        }
      ]
    },
    {
      "cell_type": "code",
      "metadata": {
        "id": "j0G71KYwVnVa",
        "colab_type": "code",
        "colab": {
          "base_uri": "https://localhost:8080/",
          "height": 171
        },
        "outputId": "ad78b89a-3b8c-4079-deb0-ed62bd7cf39f"
      },
      "source": [
        "# KL Divergence - 'k_symbol' column\n",
        "df['k_symbol'].value_counts(ascending = True)"
      ],
      "execution_count": null,
      "outputs": [
        {
          "output_type": "execute_result",
          "data": {
            "text/plain": [
              "SANKC. UROK      1527\n",
              "UVER            13580\n",
              "POJISTNE        18500\n",
              "DUCHOD          30338\n",
              "SIPO           118057\n",
              "SLUZBY         155832\n",
              "UROK           178663\n",
              "unspecified    532078\n",
              "Name: k_symbol, dtype: int64"
            ]
          },
          "metadata": {
            "tags": []
          },
          "execution_count": 41
        }
      ]
    },
    {
      "cell_type": "code",
      "metadata": {
        "id": "xfxE5V1NXE_C",
        "colab_type": "code",
        "colab": {
          "base_uri": "https://localhost:8080/",
          "height": 171
        },
        "outputId": "5eba6d06-6af5-4e18-d885-7a0db2837a0e"
      },
      "source": [
        "new_data['k_symbol'].value_counts(ascending = True)"
      ],
      "execution_count": null,
      "outputs": [
        {
          "output_type": "execute_result",
          "data": {
            "text/plain": [
              "SANKC. UROK     2308\n",
              "POJISTNE        3291\n",
              "UVER            3301\n",
              "DUCHOD          3871\n",
              "SLUZBY          7325\n",
              "SIPO            7877\n",
              "UROK            9343\n",
              "unspecified    62684\n",
              "Name: k_symbol, dtype: int64"
            ]
          },
          "metadata": {
            "tags": []
          },
          "execution_count": 42
        }
      ]
    },
    {
      "cell_type": "code",
      "metadata": {
        "id": "92egKeTEXHkp",
        "colab_type": "code",
        "colab": {
          "base_uri": "https://localhost:8080/",
          "height": 282
        },
        "outputId": "3a50e3a4-5775-4550-d072-486601b93644"
      },
      "source": [
        "from matplotlib import pyplot\n",
        "k_symbol = ['SANKC.UROK', 'UVER','POJISTNE','DUCHOD','SIPO','SLUZBY','UROK','unspecified']                     \n",
        "p = [1527/1048575, 13580/1048575, 18500/1048575, 30338/1048575, 118057/1048575, 155832/1048575, 178663/1048575, 532078/1048575]\n",
        "q = [2308/100000, 3301/100000, 3291/100000, 3871/100000, 7877/100000, 7325/100000, 9343/100000, 62684/100000]\n",
        "print('P=%.3f Q=%.3f' % (sum(p), sum(q)))\n",
        "# plot first distribution\n",
        "pyplot.subplot(2,1,1)\n",
        "pyplot.bar(k_symbol, p)\n",
        "# plot second distribution\n",
        "pyplot.subplot(2,1,2)\n",
        "pyplot.bar(k_symbol, q)\n",
        "# show the plot\n",
        "pyplot.show()"
      ],
      "execution_count": null,
      "outputs": [
        {
          "output_type": "stream",
          "text": [
            "P=1.000 Q=1.000\n"
          ],
          "name": "stdout"
        },
        {
          "output_type": "display_data",
          "data": {
            "image/png": "[encoded data removed]",
            "text/plain": [
              "<Figure size 432x288 with 2 Axes>"
            ]
          },
          "metadata": {
            "tags": [],
            "needs_background": "light"
          }
        }
      ]
    },
    {
      "cell_type": "code",
      "metadata": {
        "id": "jDNffPa6XKdH",
        "colab_type": "code",
        "colab": {
          "base_uri": "https://localhost:8080/",
          "height": 34
        },
        "outputId": "8851b15e-0993-4840-f928-388c8678aac5"
      },
      "source": [
        "from math import log2\n",
        "# calculate the kl divergence\n",
        "def kl_divergence(p, q):\n",
        "    return sum(p[i] * log2(p[i]/q[i]) for i in range(len(p)))\n",
        "# calculate (P || Q)\n",
        "kl_pq = kl_divergence(p, q) \n",
        "print(kl_pq)\n"
      ],
      "execution_count": null,
      "outputs": [
        {
          "output_type": "stream",
          "text": [
            "0.15138671291205028\n"
          ],
          "name": "stdout"
        }
      ]
    },
    {
      "cell_type": "markdown",
      "metadata": {
        "id": "7D1PvJrDvFhB",
        "colab_type": "text"
      },
      "source": [
        "***Tabular/Table GANS***"
      ]
    },
    {
      "cell_type": "code",
      "metadata": {
        "id": "C9nhgoZ7vJv5",
        "colab_type": "code",
        "colab": {}
      },
      "source": [
        ""
      ],
      "execution_count": null,
      "outputs": []
    }
  ]
}